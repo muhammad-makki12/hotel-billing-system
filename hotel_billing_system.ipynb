{
  "nbformat": 4,
  "nbformat_minor": 0,
  "metadata": {
    "colab": {
      "provenance": [],
      "authorship_tag": "ABX9TyMSMzfCp1HfnrxrW21vIVbt",
      "include_colab_link": true
    },
    "kernelspec": {
      "name": "python3",
      "display_name": "Python 3"
    },
    "language_info": {
      "name": "python"
    }
  },
  "cells": [
    {
      "cell_type": "markdown",
      "metadata": {
        "id": "view-in-github",
        "colab_type": "text"
      },
      "source": [
        "<a href=\"https://colab.research.google.com/github/muhammad-makki12/hotel-billing-system/blob/main/hotel_billing_system.ipynb\" target=\"_parent\"><img src=\"https://colab.research.google.com/assets/colab-badge.svg\" alt=\"Open In Colab\"/></a>"
      ]
    },
    {
      "cell_type": "code",
      "execution_count": 1,
      "metadata": {
        "colab": {
          "base_uri": "https://localhost:8080/"
        },
        "id": "-n5V_z5udtj-",
        "outputId": "720ff9e9-4b7a-4076-ccff-a4206fb8d5ea"
      },
      "outputs": [
        {
          "output_type": "stream",
          "name": "stdout",
          "text": [
            "=================Welcome to Makki's Hotel========================\n",
            "Here is our menu\n",
            " Tea : RS = 400\n",
            " Coffee : RS = 650\n",
            " Pizza : RS = 2000\n",
            " Burger : RS = 850\n",
            " Sandwich : RS = 900\n",
            " Fries : RS = 400\n",
            " Cold_Drink : RS = 200\n",
            " Ice_Cream : RS = 370\n",
            " Water : RS = 300\n",
            "Select the food you want to order:tea\n",
            "How many Tea do you want?:4\n",
            "Your Tea has been added in order:\n",
            "Do you want to order more thing's?  (Y/N):y\n",
            "Select the food you want to order:fries\n",
            "How many Fries do you want?:2\n",
            "Your Fries has been added in order:\n",
            "Do you want to order more thing's?  (Y/N):n\n",
            "====================Service Tax======================\n",
            "==========================Final Bill=====================\n",
            "Bill generated on :  2025-08-30 14:50:47\n",
            "Bill number : BILL - 1266\n",
            "Tea x 4 : RS = 1600\n",
            "Fries x 2 : RS = 800\n",
            "-----------------------------------------------------------\n",
            "Your Total amount : RS = 2400\n",
            " Your Service tax : RS = 72.00\n",
            "Your Final amount : RS = 2472.00\n",
            "-----------------------------------------------------------\n"
          ]
        }
      ],
      "source": [
        "# Hotel Billing System Project\n",
        "\n",
        "import datetime       # Import datetime module for showing current date and time\n",
        "import random         # Import random module to generate random bill numbers\n",
        "\n",
        "print(\"=================Welcome to Makki's Hotel========================\")\n",
        "print(\"Here is our menu\")\n",
        "\n",
        "# Dictionary to store menu items with their prices\n",
        "menu={\"Tea\" :        400,\n",
        "      \"Coffee\" :     650,\n",
        "      \"Pizza\" :      2000,\n",
        "      \"Burger\" :     850,\n",
        "      \"Sandwich\":    900,\n",
        "      \"Fries\" :      400,\n",
        "      \"Cold_Drink\" : 200,\n",
        "      \"Ice_Cream\" :  370,\n",
        "      \"Water\"  :     300\n",
        "\n",
        "      }\n",
        "\n",
        "# Display menu items with prices\n",
        "for item, price in menu.items():\n",
        "  print(f\" {item} : RS = {price}\")\n",
        "\n",
        "# Initialize empty order list and total amount\n",
        "order_list = []\n",
        "total_amount = 0\n",
        "\n",
        "# Loop for taking orders\n",
        "while True:\n",
        " order=input(\"Select the food you want to order:\").title()  # Taking food name input and converting to Title Case\n",
        " if order in menu:   # Check if order is in menu\n",
        "  quantity=int(input(f\"How many {order} do you want?:\"))   # Ask user for quantity\n",
        "  cost= menu[order] * quantity   # Calculate cost = price * quantity\n",
        "  total_amount += cost           # Add cost to total amount\n",
        "  order_list.append ((order, quantity, cost))  # Save order details in list\n",
        "  print(f\"Your {order} has been added in order:\")\n",
        "\n",
        " else:\n",
        "  print(\"Invalid order\")   # If user enters wrong item\n",
        "\n",
        " order_more = input(\"Do you want to order more thing's?  (Y/N):\").lower() # Ask user if they want to order more\n",
        " if order_more != \"y\":   # If answer is not 'y', stop loop\n",
        "  break\n",
        "\n",
        "print(\"====================Service Tax======================\")\n",
        "service_tax= total_amount * 0.03   # 3% service tax\n",
        "final_amount=  total_amount + service_tax   # Final amount after adding tax\n",
        "\n",
        "print(\"==========================Final Bill=====================\")\n",
        "bill_time= datetime.datetime.now().strftime(\"%Y-%m-%d %H:%M:%S\")  # Current date and time in string format\n",
        "bill_number= random.randint(1000,9999)  # Random 4-digit bill number\n",
        "print(f\"Bill generated on :  {bill_time}\")\n",
        "print(f\"Bill number : BILL - {bill_number}\")\n",
        "\n",
        "# Display order list\n",
        "for item, quantity, cost in order_list:\n",
        "  print(f\"{item} x {quantity} : RS = {cost}\")\n",
        "\n",
        "print(\"-----------------------------------------------------------\")\n",
        "print (f\"Your Total amount : RS = {total_amount}\")   # Show total amount before tax\n",
        "print (f\" Your Service tax : RS = {service_tax:.2f}\") # Show service tax with 2 decimal points\n",
        "print(f\"Your Final amount : RS = {final_amount:.2f}\") # Show final payable amount\n",
        "print(\"-----------------------------------------------------------\")\n"
      ]
    }
  ]
}