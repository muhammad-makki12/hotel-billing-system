{
  "cells": [
    {
      "cell_type": "markdown",
      "metadata": {
        "id": "view-in-github",
        "colab_type": "text"
      },
      "source": [
        "<a href=\"https://colab.research.google.com/github/muhammad-makki12/hotel-billing-system/blob/main/hotel_billing_system.ipynb\" target=\"_parent\"><img src=\"https://colab.research.google.com/assets/colab-badge.svg\" alt=\"Open In Colab\"/></a>"
      ]
    },
    {
      "cell_type": "code",
      "execution_count": null,
      "metadata": {
        "colab": {
          "base_uri": "https://localhost:8080/"
        },
        "id": "5nZEA3ZETTJ4",
        "outputId": "d4a3b783-fca4-4385-850f-a2efcac481c1"
      },
      "outputs": [
        {
          "name": "stdout",
          "output_type": "stream",
          "text": [
            "My name is Muhammad Makki\n",
            "My agr is 22 Years!\n",
            "My Address Is Multan\n"
          ]
        }
      ],
      "source": [
        "1# write a program that display your personal info\n",
        "print(\"My name is Muhammad Makki\")\n",
        "print(\"My agr is 22 Years!\")\n",
        "print(\"My Address Is Multan\")\n",
        "\n",
        "\n",
        "\n",
        "\n"
      ]
    },
    {
      "cell_type": "code",
      "source": [
        "# Hotel Billing System Project\n",
        "\n",
        "import datetime       # Import datetime module for showing current date and time\n",
        "import random         # Import random module to generate random bill numbers\n",
        "\n",
        "print(\"=================Welcome to Makki's Hotel========================\")\n",
        "print(\"Here is our menu\")\n",
        "\n",
        "# Dictionary to store menu items with their prices\n",
        "menu={\"Tea\" :        400,\n",
        "      \"Coffee\" :     650,\n",
        "      \"Pizza\" :      2000,\n",
        "      \"Burger\" :     850,\n",
        "      \"Sandwich\":    900,\n",
        "      \"Fries\" :      400,\n",
        "      \"Cold_Drink\" : 200,\n",
        "      \"Ice_Cream\" :  370,\n",
        "      \"Water\"  :     300\n",
        "\n",
        "      }\n",
        "\n",
        "# Display menu items with prices\n",
        "for item, price in menu.items():\n",
        "  print(f\" {item} : RS = {price}\")\n",
        "\n",
        "# Initialize empty order list and total amount\n",
        "order_list = []\n",
        "total_amount = 0\n",
        "\n",
        "# Loop for taking orders\n",
        "while True:\n",
        " order=input(\"Select the food you want to order:\").title()  # Taking food name input and converting to Title Case\n",
        " if order in menu:   # Check if order is in menu\n",
        "  quantity=int(input(f\"How many {order} do you want?:\"))   # Ask user for quantity\n",
        "  cost= menu[order] * quantity   # Calculate cost = price * quantity\n",
        "  total_amount += cost           # Add cost to total amount\n",
        "  order_list.append ((order, quantity, cost))  # Save order details in list\n",
        "  print(f\"Your {order} has been added in order:\")\n",
        "\n",
        " else:\n",
        "  print(\"Invalid order\")   # If user enters wrong item\n",
        "\n",
        " order_more = input(\"Do you want to order more thing's?  (Y/N):\").lower() # Ask user if they want to order more\n",
        " if order_more != \"y\":   # If answer is not 'y', stop loop\n",
        "  break\n",
        "\n",
        "print(\"====================Service Tax======================\")\n",
        "service_tax= total_amount * 0.03   # 3% service tax\n",
        "final_amount=  total_amount + service_tax   # Final amount after adding tax\n",
        "\n",
        "print(\"==========================Final Bill=====================\")\n",
        "bill_time= datetime.datetime.now().strftime(\"%Y-%m-%d %H:%M:%S\")  # Current date and time in string format\n",
        "bill_number= random.randint(1000,9999)  # Random 4-digit bill number\n",
        "print(f\"Bill generated on :  {bill_time}\")\n",
        "print(f\"Bill number : BILL - {bill_number}\")\n",
        "\n",
        "# Display order list\n",
        "for item, quantity, cost in order_list:\n",
        "  print(f\"{item} x {quantity} : RS = {cost}\")\n",
        "\n",
        "print(\"-----------------------------------------------------------\")\n",
        "print (f\"Your Total amount : RS = {total_amount}\")   # Show total amount before tax\n",
        "print (f\" Your Service tax : RS = {service_tax:.2f}\") # Show service tax with 2 decimal points\n",
        "print(f\"Your Final amount : RS = {final_amount:.2f}\") # Show final payable amount\n",
        "print(\"-----------------------------------------------------------\")\n",
        "\n",
        "\n"
      ],
      "metadata": {
        "colab": {
          "base_uri": "https://localhost:8080/"
        },
        "id": "1-PLJ7c9aY1U",
        "outputId": "a8230075-a930-4d6d-c3e0-e93a2f2b0080"
      },
      "execution_count": null,
      "outputs": [
        {
          "output_type": "stream",
          "name": "stdout",
          "text": [
            "=================Welcome to Makki's Hotel========================\n",
            "Here is our menu\n",
            " Tea : RS = 400\n",
            " Coffee : RS = 650\n",
            " Pizza : RS = 2000\n",
            " Burger : RS = 850\n",
            " Sandwich : RS = 900\n",
            " Fries : RS = 400\n",
            "Select the food you want to order:tea\n",
            "How many Tea do you want?:8\n",
            "Your Tea has been added in order:\n",
            "Do you want to order more thing's?  (Y/N):n\n",
            "====================Service Tax======================\n",
            "==========================Final Bill=====================\n",
            "Bill generated on :  2025-08-28 15:07:31\n",
            "Bill number : BILL - 5942\n",
            "Tea x 8 : RS = 3200\n",
            "-----------------------------------------------------------\n",
            "Your Total amount : RS = 3200\n",
            " Your Service tax : RS = 96.00\n",
            "Your Final amount : RS = 3296.00\n",
            "-----------------------------------------------------------\n"
          ]
        }
      ]
    },
    {
      "cell_type": "code",
      "source": [
        "print(\"============ Welcome to Makki's Cinema ============\")\n",
        "\n",
        "# Ticket menu using dictionary\n",
        "menu = {\n",
        "    \"Adult\": 800,\n",
        "    \"Child\": 500\n",
        "}\n",
        "\n",
        "for ticket_type , price in menu.items():\n",
        "  print(f\" {ticket_type} : RS= {price}\")\n",
        "\n",
        "order_list = []\n",
        "total_amount = 0\n",
        "\n",
        "while True:\n",
        "  order= input(\"Select the ticket type you want to order\").title()\n",
        "  if order in menu:\n",
        "    quantity=int(input(f\"How many {order} tickets do you want?\"))\n",
        "    cost= menu[order] * quantity\n",
        "    total_amount += cost\n",
        "    order_list.append((order, quantity, cost))\n",
        "\n",
        "  order_more=input(\"Fo you want to order more (Y/N)\").lower()\n",
        "  if order_more != \"y\":\n",
        "    break\n",
        "\n",
        "print(\"===========================Check Discount========================\")\n",
        "discount = 0\n",
        "if total_amount >= 2200:\n",
        " # print(\"Yoku got 10% disscount\")\n",
        " discount= total_amount * 0.10\n",
        " final_amount = total_amount - discount\n",
        "\n",
        "\n",
        "print(\"=================Final Bill================\")\n",
        "for ticket_type,quantity, cost in order_list:\n",
        "  print(f\"{order} x {quantity} : RS = {cost}\")\n",
        "print(\"------------------------------------------------\")\n",
        "print(f\"total_amount : RS = {total_amount}\")\n",
        "print(f\"Disscount : RS = {discount:.2f}\")\n",
        "print(f\"Final amount : RS = {final_amount:.2f}\")\n",
        "\n",
        "\n",
        "print(\"------------------------------------------------\")\n",
        "\n",
        "\n",
        "\n",
        "\n",
        "\n"
      ],
      "metadata": {
        "colab": {
          "base_uri": "https://localhost:8080/"
        },
        "id": "Z_JZiQMyn7jN",
        "outputId": "a785f53c-d345-4b01-b919-ae4f6a6ae423"
      },
      "execution_count": null,
      "outputs": [
        {
          "output_type": "stream",
          "name": "stdout",
          "text": [
            "============ Welcome to Makki's Cinema ============\n",
            " Adult : RS= 800\n",
            " Child : RS= 500\n",
            "Select the ticket type you want to orderadult\n",
            "How many Adult tickets do you want?4\n",
            "Fo you want to order more (Y/N)y\n",
            "Select the ticket type you want to orderchild\n",
            "How many Child tickets do you want?3\n",
            "Fo you want to order more (Y/N)n\n",
            "===========================Check Discount========================\n",
            "=================Final Bill================\n",
            "Child x 4 : RS = 3200\n",
            "Child x 3 : RS = 1500\n",
            "------------------------------------------------\n",
            "total_amount : RS = 4700\n",
            "Disscount : RS = 470.00\n",
            "Final amount : RS = 4230.00\n",
            "------------------------------------------------\n"
          ]
        }
      ]
    },
    {
      "cell_type": "code",
      "source": [
        "#Stationary shop billing system\n",
        "print(\"==========Welcome to E Stationary Shop==============\")\n",
        "print(\"Here is our item\")\n",
        "menu= {\"Pen\" : 50,\n",
        "       \"Notebook\" : 200,\n",
        "       \"Pencil\" : 20,\n",
        "       \"Eraser\" : 10,\n",
        "       \"Scale\" :  30\n",
        "       }\n",
        "for item, price in menu.items():\n",
        " print(f\"{item} : RS = {price}\")\n",
        "\n",
        "order_list= []\n",
        "total_amount= 0\n",
        "\n",
        "while True:\n",
        "  order=input(\"Select the item you want to order\").title()\n",
        "  if order in menu:\n",
        "    quantity=int(input(f\"How many {order} do you want?\"))\n",
        "    cost= menu[order] * quantity\n",
        "    total_amount += cost\n",
        "    order_list.append((order, quantity, cost))\n",
        "    print(f\"Your {order} is added in order : Rs = {cost}\")\n",
        "  else:\n",
        "    print(\"Item not find in menu\")\n",
        "\n",
        "  order_more=input(\"Do you want to order more things? (Y/N)\").lower()\n",
        "  if order_more != \"y\":\n",
        "    break\n",
        "\n",
        "print(\"====================Final BILL==================\")\n",
        "for item, quantity, cost in order_list:\n",
        "   print(f\"{item} x {quantity} : RS= {cost}\")\n",
        "\n",
        "print(\"---------------------------------------------\")\n",
        "print(f\"Yor total amount is : {total_amount}\")\n",
        "print(\"---------------------------------------------\")"
      ],
      "metadata": {
        "colab": {
          "base_uri": "https://localhost:8080/"
        },
        "id": "le1xa5RgbQ7P",
        "outputId": "fdb174b3-ea7b-45d8-cc5e-1b4ce3809f72"
      },
      "execution_count": null,
      "outputs": [
        {
          "output_type": "stream",
          "name": "stdout",
          "text": [
            "==========Welcome to E Stationary Shop==============\n",
            "Here is our item\n",
            "Pen : RS = 50\n",
            "Notebook : RS = 200\n",
            "Pencil : RS = 20\n",
            "Eraser : RS = 10\n",
            "Scale : RS = 30\n",
            "Select the item you want to orderscale\n",
            "How many Scale do you want?5\n",
            "Your Scale is added in order : Rs = 150\n",
            "Do you want to order more things? (Y/N)y\n",
            "Select the item you want to ordereraser\n",
            "How many Eraser do you want?5\n",
            "Your Eraser is added in order : Rs = 50\n",
            "Do you want to order more things? (Y/N)y\n",
            "Select the item you want to orderscale\n",
            "How many Scale do you want?3\n",
            "Your Scale is added in order : Rs = 90\n",
            "Do you want to order more things? (Y/N)n\n",
            "====================Final BILL==================\n",
            "Scale x 5 : RS= 90\n",
            "Eraser x 5 : RS= 90\n",
            "Scale x 3 : RS= 90\n",
            "---------------------------------------------\n",
            "Yor total amount is : 290\n",
            "---------------------------------------------\n"
          ]
        }
      ]
    },
    {
      "cell_type": "code",
      "source": [
        "#Hotel billing system\n",
        "print(\"=================Welcome to Makki's Hotel========================\")\n",
        "print(\"Here is our menu\")\n",
        "\n",
        "menu={\"Tea\" : 400,\n",
        "      \"Coffee\" : 650,\n",
        "      \"Pizza\" : 2000,\n",
        "      \"Burger\" : 850,\n",
        "      \"Sandwich\" : 900,\n",
        "      \"Fries\" : 400\n",
        "      }\n",
        "\n",
        "for item, price in menu.items():\n",
        "  print(f\"{item} : Rs= {price}\")\n",
        "\n",
        "order_list=[]\n",
        "total_amount = 0\n",
        "\n",
        "while True:\n",
        "  order=input(\"Please enter the item you want to order\").title()\n",
        "  if order in menu:\n",
        "    quantity=int(input(f\"How many {order} do yoy want?\"))\n",
        "    cost = menu[order] * quantity\n",
        "    total_amount += cost\n",
        "    order_list.append((order, quantity, cost))\n",
        "    print(f\"Your {order} is added in order and pice is : Rs {cost}\")\n",
        "\n",
        "  else:\n",
        "    print(\"Item not find in menu\")\n",
        "\n",
        "  order_again= input(\"Do you want to order something else (Y/N)\").lower()\n",
        "  if order_again != \"y\":\n",
        "   break\n",
        "\n",
        "print(\"=================Servive tax====================\")\n",
        "service_tax = total_amount * 0.03\n",
        "final_amount = total_amount + service_tax\n",
        "\n",
        "\n",
        "print(\"======================Final Bill==========================\")\n",
        "#for item, quantity, cost in order_list:\n",
        "for order in order_list:\n",
        "  print(f\"{item} x {quantity} : RS = {cost}\")\n",
        "\n",
        "\n",
        "\n",
        "print(\"----------------------------------------------------------\")\n",
        "print(f\"Your total amount is : RS = {total_amount}\")\n",
        "print(f\"Total service tax(3%) : {service_tax:.2f}\")\n",
        "print(f\"Final bill to pay is : {final_amount:.2f}\")\n",
        "print(\"----------------------------------------------------------\")\n"
      ],
      "metadata": {
        "id": "JSvLdhgPOOcE",
        "colab": {
          "base_uri": "https://localhost:8080/"
        },
        "outputId": "fe285cc5-5aec-4d20-e4db-22531df65245"
      },
      "execution_count": null,
      "outputs": [
        {
          "output_type": "stream",
          "name": "stdout",
          "text": [
            "=================Welcome to Makki's Hotel========================\n",
            "Here is our menu\n",
            "Tea : Rs= 400\n",
            "Coffee : Rs= 650\n",
            "Pizza : Rs= 2000\n",
            "Burger : Rs= 850\n",
            "Sandwich : Rs= 900\n",
            "Fries : Rs= 400\n",
            "Please enter the item you want to ordertea\n",
            "How many Tea do yoy want?4\n",
            "Your Tea is added in order and pice is : Rs 1600\n",
            "Do you want to order something else (Y/N)y\n",
            "Please enter the item you want to orderfries\n",
            "How many Fries do yoy want?5\n",
            "Your Fries is added in order and pice is : Rs 2000\n",
            "Do you want to order something else (Y/N)n\n",
            "=================Servive tax====================\n",
            "======================Final Bill==========================\n",
            "Fries x 5 : RS = 2000\n",
            "Fries x 5 : RS = 2000\n",
            "----------------------------------------------------------\n",
            "Your total amount is : RS = 3600\n",
            "Total service tax(3%) : 108.00\n",
            "Final bill to pay is : 3708.00\n",
            "----------------------------------------------------------\n"
          ]
        }
      ]
    },
    {
      "cell_type": "code",
      "source": [
        "#Quiz game\n",
        "score = 0\n",
        "print(\"Q1: Is Antartica is cold place or hoy place? :\")\n",
        "ans1= input().lower()\n",
        "if ans1 == \"cold\":\n",
        "  print(\"Correct !\")\n",
        "  score += 1\n",
        "else:\n",
        "  print(\"Incorrect\")\n",
        "\n",
        "print(\"Q2: What is the capital of Pakistan?:\")\n",
        "ans2 = input().lower()\n",
        "if ans2 == \"islamabad\":\n",
        "   print(\"Correct !\")\n",
        "   score += 1\n",
        "else:\n",
        "  print(\"Incorrect\")\n",
        "\n",
        "print(\"Q3: What is the capital of Soudi Arsbia?:\")\n",
        "ans3 =input().lower()\n",
        "if ans3 == \"riyadh\":\n",
        "   print(\"Correct !\")\n",
        "   score += 1\n",
        "else:\n",
        "  print(\"Incorrect\")\n",
        "\n",
        "print(\"Q4: What is our Holy Book name?:\")\n",
        "ans4 = input().capitalize()\n",
        "if ans4 == \"Quran\" or ans4 == \"Quran Majeed\":\n",
        "   print(\"Correct !\")\n",
        "   score += 1\n",
        "else:\n",
        "  print(\"Incorrect\")\n",
        "\n",
        "print(f\"Your total score is : {score}\")"
      ],
      "metadata": {
        "colab": {
          "base_uri": "https://localhost:8080/"
        },
        "id": "DXoYlxLQJJdp",
        "outputId": "01bc1d59-0a94-4928-da56-7b740eaeacc7"
      },
      "execution_count": null,
      "outputs": [
        {
          "output_type": "stream",
          "name": "stdout",
          "text": [
            "Q1: Is Antartica is cold place or hoy place? :\n",
            "cold\n",
            "Correct !\n",
            "Q2: What is the capital of Pakistan?:\n",
            "lahor\n",
            "Incorrect\n",
            "Q3: What is the capital of Soudi Arsbia?:\n",
            "riyadh\n",
            "Correct !\n",
            "Q4: What is our Holy Book name?:\n",
            "Quran\n",
            "Correct !\n",
            "Your total score is : 3\n"
          ]
        }
      ]
    },
    {
      "cell_type": "code",
      "execution_count": null,
      "metadata": {
        "colab": {
          "base_uri": "https://localhost:8080/"
        },
        "id": "Lt0CFEa7qQVl",
        "outputId": "7c93a573-f66d-40ab-b64e-4dcf221aa848"
      },
      "outputs": [
        {
          "name": "stdout",
          "output_type": "stream",
          "text": [
            "=====================Welcome to python ATM Simulator=========================\n",
            "ATM menu\n",
            "1.   Check Balance:\n",
            "2.    Deposit money:\n",
            "3.    Withdraw money:\n",
            "4.   Exit\n",
            "Choose between following options:2\n",
            "Enter the deposit amount:2000\n",
            "Your deposit amount is: (2000) and your new balance is (4000)\n",
            "ATM menu\n",
            "1.   Check Balance:\n",
            "2.    Deposit money:\n",
            "3.    Withdraw money:\n",
            "4.   Exit\n",
            "Choose between following options:1\n",
            "Your current balance is : (4000)\n",
            "ATM menu\n",
            "1.   Check Balance:\n",
            "2.    Deposit money:\n",
            "3.    Withdraw money:\n",
            "4.   Exit\n",
            "Choose between following options:3\n",
            "Please eenter the Withdraw amount:55667\n",
            "Insufficient balance\n",
            "ATM menu\n",
            "1.   Check Balance:\n",
            "2.    Deposit money:\n",
            "3.    Withdraw money:\n",
            "4.   Exit\n",
            "Choose between following options:3\n",
            "Please eenter the Withdraw amount:4000\n",
            "Your Withdraw amount is (4000) and your new balance is (0)\n",
            "ATM menu\n",
            "1.   Check Balance:\n",
            "2.    Deposit money:\n",
            "3.    Withdraw money:\n",
            "4.   Exit\n",
            "Choose between following options:4\n",
            "Thank you for using our ATM\n"
          ]
        }
      ],
      "source": [
        "# Python ATM Simulator\n",
        "balance=2000\n",
        "print (\"=====================Welcome to python ATM Simulator=========================\")\n",
        "\n",
        "while True:\n",
        "  print(\"ATM menu\")\n",
        "  print(\"1.   Check Balance:\")\n",
        "  print(\"2.    Deposit money:\")\n",
        "  print(\"3.    Withdraw money:\")\n",
        "  print(\"4.   Exit\")\n",
        "\n",
        "  choice=int (input(\"Choose between following options:\"))\n",
        "\n",
        "  if choice == 1:\n",
        "    print(f\"Your current balance is : ({balance})\")\n",
        "\n",
        "  elif choice == 2:\n",
        "    amount=int(input(\"Enter the deposit amount:\"))\n",
        "    if amount > 0:\n",
        "      balance += amount\n",
        "      print(f\"Your deposit amount is: ({amount}) and your new balance is ({balance})\")\n",
        "    else:\n",
        "      print(\"invalid deposit amount\")\n",
        "\n",
        "  elif choice == 3:\n",
        "      amount =int (input(\"Please eenter the Withdraw amount:\"))\n",
        "      if amount > 0:\n",
        "        if amount <= balance:\n",
        "         balance -= amount\n",
        "         print(f\"Your Withdraw amount is ({amount}) and your new balance is ({balance})\")\n",
        "        else:\n",
        "          print(\"Insufficient balance\")\n",
        "\n",
        "  elif choice == 4:\n",
        "    print (\"Thank you for using our ATM\")\n",
        "    break\n",
        "\n",
        "\n",
        "  else:\n",
        "    print(\"Invalid Option!\")\n",
        "\n"
      ]
    },
    {
      "cell_type": "code",
      "execution_count": null,
      "metadata": {
        "colab": {
          "base_uri": "https://localhost:8080/"
        },
        "id": "Cg3SteoFlfnY",
        "outputId": "f7a43639-ce9a-4ee8-e1c0-e6ebe420f6d5"
      },
      "outputs": [
        {
          "name": "stdout",
          "output_type": "stream",
          "text": [
            "Please enter your number:7\n",
            "Enter your length11\n",
            "7 * 1 = 7\n",
            "7 * 2 = 14\n",
            "7 * 3 = 21\n",
            "7 * 4 = 28\n",
            "7 * 5 = 35\n",
            "7 * 6 = 42\n",
            "7 * 7 = 49\n",
            "7 * 8 = 56\n",
            "7 * 9 = 63\n",
            "7 * 10 = 70\n"
          ]
        }
      ],
      "source": [
        "#MUltiplication table\n",
        "number=int(input(\"Please enter your number:\"))\n",
        "len= int(input(\"Enter your length\"))\n",
        "\n",
        "for i in range (1,len,1):             # Here i =1 , len mean i< len and laswt 1 mean increment of 1\n",
        " print(number , \"*\", i, \"=\", number * i)"
      ]
    },
    {
      "cell_type": "code",
      "execution_count": null,
      "metadata": {
        "colab": {
          "base_uri": "https://localhost:8080/",
          "height": 460
        },
        "id": "b8DfJeFMgBoa",
        "outputId": "3ba91977-abbb-43d2-8d78-9c51e1f574a1"
      },
      "outputs": [
        {
          "name": "stdout",
          "output_type": "stream",
          "text": [
            "Do you want to play a Snake water gun game with us? Y/N:y\n",
            "===================Welcome to Snake water gun game=======================\n",
            "Snake, Water, Gun :SNAKE\n",
            "player_choice is : snake\n",
            "comp_choice is : snake\n",
            "It's a tie! \n"
          ]
        },
        {
          "ename": "KeyboardInterrupt",
          "evalue": "Interrupted by user",
          "output_type": "error",
          "traceback": [
            "\u001b[0;31m---------------------------------------------------------------------------\u001b[0m",
            "\u001b[0;31mKeyboardInterrupt\u001b[0m                         Traceback (most recent call last)",
            "\u001b[0;32m/tmp/ipython-input-3995659483.py\u001b[0m in \u001b[0;36m<cell line: 0>\u001b[0;34m()\u001b[0m\n\u001b[1;32m     32\u001b[0m       \u001b[0mprint\u001b[0m\u001b[0;34m(\u001b[0m\u001b[0;34m\"Computer win!\"\u001b[0m\u001b[0;34m)\u001b[0m\u001b[0;34m\u001b[0m\u001b[0;34m\u001b[0m\u001b[0m\n\u001b[1;32m     33\u001b[0m \u001b[0;34m\u001b[0m\u001b[0m\n\u001b[0;32m---> 34\u001b[0;31m     \u001b[0mtry_again\u001b[0m \u001b[0;34m=\u001b[0m \u001b[0minput\u001b[0m\u001b[0;34m(\u001b[0m\u001b[0;34m\"Do you want to play again? (Y/N):\"\u001b[0m\u001b[0;34m)\u001b[0m\u001b[0;34m.\u001b[0m\u001b[0mlower\u001b[0m\u001b[0;34m(\u001b[0m\u001b[0;34m)\u001b[0m\u001b[0;34m\u001b[0m\u001b[0;34m\u001b[0m\u001b[0m\n\u001b[0m\u001b[1;32m     35\u001b[0m     \u001b[0;32mif\u001b[0m \u001b[0mtry_again\u001b[0m \u001b[0;34m!=\u001b[0m \u001b[0;34m\"y\"\u001b[0m\u001b[0;34m:\u001b[0m\u001b[0;34m\u001b[0m\u001b[0;34m\u001b[0m\u001b[0m\n\u001b[1;32m     36\u001b[0m       \u001b[0mprint\u001b[0m\u001b[0;34m(\u001b[0m\u001b[0;34m\"Thanks for playing with us  :)\"\u001b[0m\u001b[0;34m)\u001b[0m\u001b[0;34m\u001b[0m\u001b[0;34m\u001b[0m\u001b[0m\n",
            "\u001b[0;32m/usr/local/lib/python3.12/dist-packages/ipykernel/kernelbase.py\u001b[0m in \u001b[0;36mraw_input\u001b[0;34m(self, prompt)\u001b[0m\n\u001b[1;32m   1175\u001b[0m                 \u001b[0;34m\"raw_input was called, but this frontend does not support input requests.\"\u001b[0m\u001b[0;34m\u001b[0m\u001b[0;34m\u001b[0m\u001b[0m\n\u001b[1;32m   1176\u001b[0m             )\n\u001b[0;32m-> 1177\u001b[0;31m         return self._input_request(\n\u001b[0m\u001b[1;32m   1178\u001b[0m             \u001b[0mstr\u001b[0m\u001b[0;34m(\u001b[0m\u001b[0mprompt\u001b[0m\u001b[0;34m)\u001b[0m\u001b[0;34m,\u001b[0m\u001b[0;34m\u001b[0m\u001b[0;34m\u001b[0m\u001b[0m\n\u001b[1;32m   1179\u001b[0m             \u001b[0mself\u001b[0m\u001b[0;34m.\u001b[0m\u001b[0m_parent_ident\u001b[0m\u001b[0;34m[\u001b[0m\u001b[0;34m\"shell\"\u001b[0m\u001b[0;34m]\u001b[0m\u001b[0;34m,\u001b[0m\u001b[0;34m\u001b[0m\u001b[0;34m\u001b[0m\u001b[0m\n",
            "\u001b[0;32m/usr/local/lib/python3.12/dist-packages/ipykernel/kernelbase.py\u001b[0m in \u001b[0;36m_input_request\u001b[0;34m(self, prompt, ident, parent, password)\u001b[0m\n\u001b[1;32m   1217\u001b[0m             \u001b[0;32mexcept\u001b[0m \u001b[0mKeyboardInterrupt\u001b[0m\u001b[0;34m:\u001b[0m\u001b[0;34m\u001b[0m\u001b[0;34m\u001b[0m\u001b[0m\n\u001b[1;32m   1218\u001b[0m                 \u001b[0;31m# re-raise KeyboardInterrupt, to truncate traceback\u001b[0m\u001b[0;34m\u001b[0m\u001b[0;34m\u001b[0m\u001b[0m\n\u001b[0;32m-> 1219\u001b[0;31m                 \u001b[0;32mraise\u001b[0m \u001b[0mKeyboardInterrupt\u001b[0m\u001b[0;34m(\u001b[0m\u001b[0;34m\"Interrupted by user\"\u001b[0m\u001b[0;34m)\u001b[0m \u001b[0;32mfrom\u001b[0m \u001b[0;32mNone\u001b[0m\u001b[0;34m\u001b[0m\u001b[0;34m\u001b[0m\u001b[0m\n\u001b[0m\u001b[1;32m   1220\u001b[0m             \u001b[0;32mexcept\u001b[0m \u001b[0mException\u001b[0m\u001b[0;34m:\u001b[0m\u001b[0;34m\u001b[0m\u001b[0;34m\u001b[0m\u001b[0m\n\u001b[1;32m   1221\u001b[0m                 \u001b[0mself\u001b[0m\u001b[0;34m.\u001b[0m\u001b[0mlog\u001b[0m\u001b[0;34m.\u001b[0m\u001b[0mwarning\u001b[0m\u001b[0;34m(\u001b[0m\u001b[0;34m\"Invalid Message:\"\u001b[0m\u001b[0;34m,\u001b[0m \u001b[0mexc_info\u001b[0m\u001b[0;34m=\u001b[0m\u001b[0;32mTrue\u001b[0m\u001b[0;34m)\u001b[0m\u001b[0;34m\u001b[0m\u001b[0;34m\u001b[0m\u001b[0m\n",
            "\u001b[0;31mKeyboardInterrupt\u001b[0m: Interrupted by user"
          ]
        }
      ],
      "source": [
        "#Water gun game\n",
        "import random\n",
        "choices=[\"snake\", \"water\", \"gun\"]\n",
        "user=input(\"Do you want to play a Snake water gun game with us? Y/N:\").lower()\n",
        "if user == \"y\":\n",
        "  print(\"===================Welcome to Snake water gun game=======================\")\n",
        "\n",
        "  while True:\n",
        "    player_choice=(input(\"Snake, Water, Gun :\")).lower()\n",
        "    if player_choice not in choices:\n",
        "      print(\"Invalid choice!\")\n",
        "      continue\n",
        "\n",
        "\n",
        "    comp_choice= random.choice(choices)\n",
        "    print(f\"player_choice is : {player_choice}\")\n",
        "    print(f\"comp_choice is : {comp_choice}\")\n",
        "\n",
        "    if player_choice == comp_choice:\n",
        "      print(\"It's a tie! \")\n",
        "\n",
        "    elif player_choice == \"snake\" and comp_choice == \"water\":\n",
        "      print(\"You win!\")\n",
        "\n",
        "    elif player_choice == \"water\" and comp_choice == \"gun\":\n",
        "      print(\"You win!\")\n",
        "\n",
        "    elif player_choice == \"gun\" and comp_choice == \"snake\":\n",
        "      print(\"You win!\")\n",
        "\n",
        "    else:\n",
        "      print(\"Computer win!\")\n",
        "\n",
        "    try_again = input(\"Do you want to play again? (Y/N):\").lower()\n",
        "    if try_again != \"y\":\n",
        "      print(\"Thanks for playing with us  :)\")\n",
        "      break\n",
        "\n",
        "elif user == \"n\":\n",
        "  print(\"Thank you!\")\n",
        "else:\n",
        "  print(\"Invalid!\")\n"
      ]
    },
    {
      "cell_type": "code",
      "execution_count": null,
      "metadata": {
        "id": "ah2r2xyeldHD"
      },
      "outputs": [],
      "source": []
    },
    {
      "cell_type": "code",
      "execution_count": null,
      "metadata": {
        "colab": {
          "base_uri": "https://localhost:8080/"
        },
        "id": "4lNT_6oy-wAX",
        "outputId": "c0ac51eb-6362-4181-e5e7-bb24499623b5"
      },
      "outputs": [
        {
          "name": "stdout",
          "output_type": "stream",
          "text": [
            "Do you want to play number_guessing game game? Y/N  ():y\n",
            "========Welcome to the Number_guessing  game===========\n",
            "Please enter the number between (1-100):45\n",
            "Player choice is : 45\n",
            "Too low to guess\n",
            "Please enter the number between (1-100):57\n",
            "Player choice is : 57\n",
            "Too low to guess\n",
            "Please enter the number between (1-100):70\n",
            "Player choice is : 70\n",
            "Too low to guess\n",
            "Please enter the number between (1-100):80\n",
            "Player choice is : 80\n",
            "Too low to guess\n",
            "Please enter the number between (1-100):90\n",
            "Player choice is : 90\n",
            "Too high to guess!\n",
            "Please enter the number between (1-100):85\n",
            "Player choice is : 85\n",
            "Too high to guess!\n",
            "Please enter the number between (1-100):83\n",
            "Player choice is : 83\n",
            "Too low to guess\n",
            "Please enter the number between (1-100):84\n",
            "Player choice is : 84\n",
            "You win!\n"
          ]
        }
      ],
      "source": [
        "import random\n",
        "comp_choice= random.randint(1,100)\n",
        "\n",
        "user= input(\"Do you want to play number_guessing game game? Y/N  ():\").lower()\n",
        "if user == \"y\":\n",
        "  print(\"========Welcome to the Number_guessing  game===========\")\n",
        "\n",
        "  while True:\n",
        "    guess= int(input(\"Please enter the number between (1-100):\"))\n",
        "\n",
        "    print(f'Player choice is : {guess}')\n",
        "\n",
        "    if guess == comp_choice:\n",
        "      print(\"You win!\")\n",
        "      break\n",
        "\n",
        "    elif guess < comp_choice:\n",
        "      print(\"Too low to guess\")\n",
        "\n",
        "    elif guess > comp_choice:\n",
        "      print(\"Too high to guess!\")\n",
        "\n",
        "\n",
        "\n",
        "\n",
        "\n",
        "\n",
        "elif user == \"n\":\n",
        "  print(\"Thank you!\")\n",
        "else:\n",
        "  print(\"Typo error!\")\n",
        "\n"
      ]
    },
    {
      "cell_type": "code",
      "execution_count": null,
      "metadata": {
        "colab": {
          "base_uri": "https://localhost:8080/"
        },
        "id": "o0wh8eKJ38z_",
        "outputId": "569e4661-c85a-4d4e-8b24-02047b7c2016"
      },
      "outputs": [
        {
          "name": "stdout",
          "output_type": "stream",
          "text": [
            "Welcome to the Dice roller simulator:\n",
            "Do you want to play dice roller simulator game? Y/N:n\n",
            "Thank you!\n"
          ]
        }
      ],
      "source": [
        "#Dice roller\n",
        "import random\n",
        "print(\"Welcome to the Dice roller simulator:\")\n",
        "user= input(\"Do you want to play dice roller simulator game? Y/N:\").lower()\n",
        "\n",
        "if user == \"y\":\n",
        "  print(\"Welcome to the Dice roller game:\")\n",
        "\n",
        "  while True:\n",
        "    roll=random.randint(1,6)\n",
        "    print(f\"You rolled the dice {roll}\")\n",
        "\n",
        "    play_again=input(\"Do you want to play agian? Y/N:\").lower()\n",
        "    if play_again != \"y\":\n",
        "     print(\"Thank's for playing with us\")\n",
        "     break\n",
        "\n",
        "\n",
        "\n",
        "elif user == \"n\":\n",
        "  print(\"Thank you!\")\n",
        "else:\n",
        "  print(\"Invalid option!\")"
      ]
    },
    {
      "cell_type": "code",
      "execution_count": null,
      "metadata": {
        "colab": {
          "base_uri": "https://localhost:8080/"
        },
        "id": "YHEaBehi7S0r",
        "outputId": "107c1a63-76c3-4c1d-9108-642a745136c6"
      },
      "outputs": [
        {
          "name": "stdout",
          "output_type": "stream",
          "text": [
            "\n",
            "Round 1: 9 x 4 = ?\n",
            "your total score is 0 and total rounds is 6, 1\n",
            "Your answer22\n",
            "You guuess it wrong!\n",
            "Game over\n",
            "fina score is 0 / 6\n",
            "\n",
            "Round 2: 7 x 6 = ?\n",
            "your total score is 0 and total rounds is 6, 2\n",
            "Your answer43\n",
            "You guuess it wrong!\n",
            "Game over\n",
            "fina score is 0 / 6\n",
            "\n",
            "Round 3: 8 x 8 = ?\n",
            "your total score is 0 and total rounds is 6, 3\n",
            "Your answer64\n",
            "You win! You guess it wright\n",
            "Game over\n",
            "fina score is 1 / 6\n",
            "\n",
            "Round 4: 3 x 10 = ?\n",
            "your total score is 1 and total rounds is 6, 4\n",
            "Your answer30\n",
            "You win! You guess it wright\n",
            "Game over\n",
            "fina score is 2 / 6\n",
            "\n",
            "Round 5: 2 x 7 = ?\n",
            "your total score is 2 and total rounds is 6, 5\n",
            "Your answer14\n",
            "You win! You guess it wright\n",
            "Game over\n",
            "fina score is 3 / 6\n",
            "\n",
            "Round 6: 3 x 2 = ?\n",
            "your total score is 3 and total rounds is 6, 6\n",
            "Your answer6\n",
            "You win! You guess it wright\n",
            "Game over\n",
            "fina score is 4 / 6\n"
          ]
        }
      ],
      "source": [
        "# Multiplication quiz game\n",
        "import random\n",
        "score = 0\n",
        "rounds = 6\n",
        "i=1\n",
        "while i <= rounds:\n",
        "  num1 = random.randint(1,10)\n",
        "  num2 = random.randint(1,10)\n",
        "  correct_answer = num1 * num2\n",
        "\n",
        "  print(f\"\\nRound {i}: {num1} x {num2} = ?\")\n",
        "  print(f\"your total score is {score} and total rounds is {rounds}, {i}\")\n",
        "\n",
        "  user_answer=int(input(\"Your answer\"))\n",
        "\n",
        "  if user_answer == correct_answer:\n",
        "    print(\"You win! You guess it wright\")\n",
        "    score += 1\n",
        "\n",
        "\n",
        "\n",
        "  else:\n",
        "    print(\"You guuess it wrong!\")\n",
        "\n",
        "  i += 1\n",
        "  print(\"Game over\")\n",
        "  print(f\"fina score is {score} / {rounds}\")\n"
      ]
    },
    {
      "cell_type": "code",
      "execution_count": null,
      "metadata": {
        "id": "vqTGj0CJqhKV"
      },
      "outputs": [],
      "source": [
        "# Head tail / Coin toss game\n",
        "\n",
        "\n",
        "import random\n",
        "choices=[ \"head\", \"tail\"]\n",
        "user=input(\"Do you want to play Coin Toss game?: Y/N:\").lower()\n",
        "if user ==\"y\":\n",
        "  print(\"welcome to the Coin Toss game\")\n",
        "  while True:\n",
        "    player_choice=input(\"Head or Tail or(q to quite);\").lower()\n",
        "\n",
        "\n",
        "    if player_choice == \"q\":\n",
        "       print(\"thanks for playing game\")\n",
        "       break\n",
        "\n",
        "\n",
        "    if player_choice not in choices:\n",
        "      print(\"invalid!\")\n",
        "      continue\n",
        "\n",
        "\n",
        "    comp_choice= random.choice(choices)\n",
        "    print(f\"player choice is : {player_choice}\")\n",
        "    print(f\"Computer choice is : {comp_choice}\")\n",
        "\n",
        "    if player_choice == comp_choice:\n",
        "        print(\"congratulations! You Win\")\n",
        "\n",
        "    else:\n",
        "        print(\"Computer win\")\n",
        "\n",
        "\n",
        "        play_again=input(\"Do you want to play again? Y/N:\").lower()\n",
        "        if play_again != \"y\":\n",
        "          print(\"Thanks for playing\")\n",
        "          break\n",
        "\n",
        "\n",
        "\n",
        "elif user == \"n\":\n",
        "  print(\"Thank you!\")\n",
        "else:\n",
        "  print(\"Invalid !\")"
      ]
    },
    {
      "cell_type": "code",
      "execution_count": null,
      "metadata": {
        "id": "s5UTlp2h2K5D"
      },
      "outputs": [],
      "source": [
        "# simple calculator\n",
        "num1=int(input(\"Enter first number:\"))\n",
        "operator=input(\"+, -, *, /, %\")\n",
        "num2=int(input(\"Enter second numnber:\"))\n",
        "\n",
        "if operator == \"+\":\n",
        "  print(f\"{num1} + {num2}  = {num1 + num2}\")\n",
        "\n",
        "elif operator == \"-\":\n",
        "  print(f\"{num1} - {num2}  = {num1 - num2}\")\n",
        "\n",
        "elif operator == \"*\":\n",
        "  print(f\"{num1} * {num2}  = {num1 * num2}\")\n",
        "\n",
        "elif operator == \"/\":\n",
        "  print(f\"{num1} / {num2}  = {num1 / num2}\")\n",
        "\n",
        "elif operator == \"%\":\n",
        "  print(f\"{num1} % {num2}  = {num1 % num2}\")\n",
        "\n",
        "else:\n",
        "  print(\"invalid operation\")\n"
      ]
    },
    {
      "cell_type": "code",
      "execution_count": null,
      "metadata": {
        "colab": {
          "base_uri": "https://localhost:8080/"
        },
        "id": "SdLRhGVbnu78",
        "outputId": "5764ddbf-aeba-4e7a-acb5-a801526363a3"
      },
      "outputs": [
        {
          "name": "stdout",
          "output_type": "stream",
          "text": [
            "welcome to the random password generator\n",
            "Enter the length of your password :8\n",
            "Your generated password is : 1KYW7&ZW\n"
          ]
        }
      ],
      "source": [
        "# random password generator\n",
        "import random\n",
        "print(\"welcome to the random password generator\")\n",
        "characters=\"qwertyuiopasdfghjklzxcvbnmQWERTYUIOPASDFGHJKLZXCVBNM1234567890!@#$%^&*()\"\n",
        "length=int(input(\"Enter the length of your password :\"))\n",
        "\n",
        "password= \"\"\n",
        "for i in range (length):\n",
        "\n",
        " password =password + random.choice(characters)\n",
        "\n",
        "\n",
        "print(f\"Your generated password is : {password}\")\n",
        "\n"
      ]
    },
    {
      "cell_type": "code",
      "execution_count": null,
      "metadata": {
        "colab": {
          "base_uri": "https://localhost:8080/"
        },
        "id": "-aIaFQ2tGmw0",
        "outputId": "bc592d49-bb46-43fd-9f93-40f4c6633af7"
      },
      "outputs": [
        {
          "name": "stdout",
          "output_type": "stream",
          "text": [
            "You want to play ODD or Even game? Y/N:n\n",
            "Thank You!\n"
          ]
        }
      ],
      "source": [
        "#Odd or Even Game 🔢\n",
        "#User enters a number.\n",
        "#Computer tells whether it’s odd or even.\n",
        "user=(input(\"You want to play ODD or Even game? Y/N:\")).lower()\n",
        "\n",
        "if user == \"y\":\n",
        "  print(\"Welcome to the Odd or Even game  :)\")\n",
        "  while True:\n",
        "   number=int(input(\"Please enter the number or (q to quit):\")).lower()\n",
        "\n",
        "   if number == \"q\":\n",
        "    print (\"Thank's for playing\")\n",
        "    break\n",
        "\n",
        "\n",
        "   if number %2 == 0:\n",
        "     print(\"It's even number\")\n",
        "\n",
        "   else:\n",
        "     print(\"It's odd number\")\n",
        "\n",
        "\n",
        "elif user == \"n\":\n",
        "  print(\"Thank You!\")\n",
        "else:\n",
        "  print(\"Invalid choice\")"
      ]
    },
    {
      "cell_type": "code",
      "execution_count": null,
      "metadata": {
        "id": "JqvFLCvBh_Tk"
      },
      "outputs": [],
      "source": [
        "#Rock , Paper, Scissors game\n",
        "import random\n",
        "\n",
        "choices=[\"rock\", \"paper\", \"scissors\"]\n",
        "\n",
        "user=input(\"yOU want to play Rock, Paper, Scissors game? Y/N:\") .lower()\n",
        "\n",
        "if  user == \"y\":\n",
        "  print(\"Welcome to Rock, paper, Scissors game  :\")\n",
        "  while True:\n",
        "    player_choice=input(\"Rock, Paper, Scissors:\").lower()\n",
        "    if player_choice not in choices:\n",
        "      print(\"Invalid choice!\")\n",
        "      continue\n",
        "\n",
        "    comp_choice= random.choice(choices).lower()\n",
        "    print(f\"Player choose {player_choice}\")\n",
        "    print(f\"Computer choose {comp_choice}\")\n",
        "\n",
        "    if player_choice == comp_choice:\n",
        "      print(\"It's a tie!\")\n",
        "\n",
        "    elif player_choice == \"rock\" and comp_choice == \"scissors\":\n",
        "     print(\"Player win!\")\n",
        "\n",
        "    elif player_choice == \"paper\" and comp_choice == \"rock\":\n",
        "     print(\"Player win!\")\n",
        "\n",
        "    elif player_choice == \"scissors\" and comp_choice == \"paper\":\n",
        "     print(\"Player win!\")\n",
        "\n",
        "    else:\n",
        "      print(\"Computer win!\")\n",
        "\n",
        "\n",
        "    play_again=input(\"Do You want tp play agin? Y/N \").lower()\n",
        "    if play_again != \"y\":\n",
        "     print(\"Thank you!\")\n",
        "     break\n",
        "\n",
        "\n",
        "\n",
        "\n",
        "elif user ==  \"n\":\n",
        "  print(\"Thank you!\")\n",
        "\n",
        "else:\n",
        "  print(\"Invalid choice\")\n"
      ]
    },
    {
      "cell_type": "code",
      "execution_count": null,
      "metadata": {
        "colab": {
          "base_uri": "https://localhost:8080/"
        },
        "id": "EmX588QC5CJj",
        "outputId": "788c3298-c9bd-4e57-f34d-38ca036c98eb"
      },
      "outputs": [
        {
          "name": "stdout",
          "output_type": "stream",
          "text": [
            " You want to play number_guessing game? Press Y for Yes and N for No (Y/N):n\n",
            "Thank you!\n"
          ]
        }
      ],
      "source": [
        "# number guessing game\n",
        "import random\n",
        "secret_number= random.randint(1,100)\n",
        "\n",
        "user=(input(\" You want to play number_guessing game? Press Y for Yes and N for No (Y/N):\"))\n",
        "\n",
        "\n",
        "if user == \"y\" or user == \"Y\":\n",
        "    print(\"==========Welcome to number_guessing game==========\")\n",
        "    print(\"=====Thank you for playing with us=====\")\n",
        "\n",
        "\n",
        "    while True:\n",
        "     guess=int(input(\"Choose number between (1 to 100):\"))\n",
        "\n",
        "     if guess < secret_number:\n",
        "      print(\"You are too low to guess!\")\n",
        "     elif guess > secret_number:\n",
        "      print(\"You are too high to guess!\")\n",
        "     else:\n",
        "      print(\"=========================================\")\n",
        "      print(\"You won\")\n",
        "      print(\"You guess it right :)\")\n",
        "      print(\"=========================================\")\n",
        "      break\n",
        "\n",
        "elif user == \"n\" or user == \"N\":\n",
        "    print(\"Thank you!\")\n",
        "else:\n",
        "    print(\"You right something wrong!\")\n",
        "\n",
        "\n"
      ]
    },
    {
      "cell_type": "code",
      "execution_count": null,
      "metadata": {
        "id": "XdRiPwVCDcWe",
        "colab": {
          "base_uri": "https://localhost:8080/",
          "height": 402
        },
        "outputId": "4ffbf0f8-6861-4ea4-bf62-03d46d67f18a"
      },
      "outputs": [
        {
          "name": "stdout",
          "output_type": "stream",
          "text": [
            "=================Welcome to Makki's Hotel========================\n",
            "Here is our menu\n",
            "Tea : Rs = 500\n",
            "Coffee : Rs = 650\n",
            "Pizza : Rs = 2000\n",
            "Burger : Rs = 750\n",
            "coldDrink : Rs = 200\n",
            "Sandwich : Rs = 850\n",
            "====================================================\n",
            "Please enter the item you wangt to order sir:Tea\n",
            "How many Tea do you want to order?3\n"
          ]
        },
        {
          "output_type": "error",
          "ename": "TypeError",
          "evalue": "list.append() takes exactly one argument (3 given)",
          "traceback": [
            "\u001b[0;31m---------------------------------------------------------------------------\u001b[0m",
            "\u001b[0;31mTypeError\u001b[0m                                 Traceback (most recent call last)",
            "\u001b[0;32m/tmp/ipython-input-1130100631.py\u001b[0m in \u001b[0;36m<cell line: 0>\u001b[0;34m()\u001b[0m\n\u001b[1;32m     22\u001b[0m     \u001b[0mcost\u001b[0m\u001b[0;34m=\u001b[0m \u001b[0mmenu\u001b[0m\u001b[0;34m[\u001b[0m\u001b[0morder\u001b[0m\u001b[0;34m]\u001b[0m \u001b[0;34m*\u001b[0m \u001b[0mquantity\u001b[0m\u001b[0;34m\u001b[0m\u001b[0;34m\u001b[0m\u001b[0m\n\u001b[1;32m     23\u001b[0m     \u001b[0mtotal_amount\u001b[0m \u001b[0;34m+=\u001b[0m \u001b[0mcost\u001b[0m\u001b[0;34m\u001b[0m\u001b[0;34m\u001b[0m\u001b[0m\n\u001b[0;32m---> 24\u001b[0;31m     \u001b[0morder_list\u001b[0m\u001b[0;34m.\u001b[0m\u001b[0mappend\u001b[0m\u001b[0;34m(\u001b[0m\u001b[0morder\u001b[0m\u001b[0;34m,\u001b[0m\u001b[0mquantity\u001b[0m\u001b[0;34m,\u001b[0m\u001b[0mcost\u001b[0m\u001b[0;34m)\u001b[0m\u001b[0;34m\u001b[0m\u001b[0;34m\u001b[0m\u001b[0m\n\u001b[0m\u001b[1;32m     25\u001b[0m     \u001b[0mprint\u001b[0m\u001b[0;34m(\u001b[0m\u001b[0;34mf\"{order} added in your order\"\u001b[0m\u001b[0;34m)\u001b[0m\u001b[0;34m\u001b[0m\u001b[0;34m\u001b[0m\u001b[0m\n\u001b[1;32m     26\u001b[0m \u001b[0;34m\u001b[0m\u001b[0m\n",
            "\u001b[0;31mTypeError\u001b[0m: list.append() takes exactly one argument (3 given)"
          ]
        }
      ],
      "source": [
        "print(\"=================Welcome to Makki's Hotel========================\")\n",
        "print(\"Here is our menu\")\n",
        "                # Showing menue\n",
        "menu = {\"Tea\" : 500,\n",
        "     \"Coffee\" : 650,\n",
        "     \"Pizza\" : 2000,\n",
        "     \"Burger\" : 750,\n",
        "     \"coldDrink\" : 200,\n",
        "     \"Sandwich\" : 850\n",
        "     }\n",
        "for item, price in menu.items():\n",
        "  print(f\"{item} : Rs = {price}\")\n",
        "\n",
        "print(\"====================================================\")\n",
        "order_list = []\n",
        "total_amount = 0\n",
        "\n",
        "while True:\n",
        "  order= input(\"Please enter the item you wangt to order sir:\")\n",
        "  if order in menu:\n",
        "    quantity=int (input(f\"How many {order} do you want to order?\"))\n",
        "    cost= menu[order] * quantity\n",
        "    total_amount += cost\n",
        "    order_list.append(order)\n",
        "    print(f\"{order} added in your order\")\n",
        "\n",
        "  else:\n",
        "    print(\"Item not found in menu\")\n",
        "\n",
        "  more_order=input(\"Do you want to order something else? Y/N\").lower()\n",
        "  if more_order != \"y\":\n",
        "    break\n",
        "\n",
        "\n",
        "print(\"=====================Servive tax==========================\")\n",
        "service_tax = total_amount * 0.03\n",
        "final_amount= total_amount + service_tax\n",
        "\n",
        "\n",
        "print(\"========================Bill Recipt========================\")\n",
        "print(f\" {item} : {quantity} and Rs={total_amount}\")\n",
        "\n",
        "\n",
        "\n",
        "\n",
        "\n",
        "\n",
        "\n",
        "\n",
        "\n",
        "\n",
        "\n"
      ]
    },
    {
      "cell_type": "code",
      "execution_count": null,
      "metadata": {
        "colab": {
          "base_uri": "https://localhost:8080/"
        },
        "id": "7ZtgyURzB8kW",
        "outputId": "17d56549-76c7-4c03-a11d-e0dd503a4995"
      },
      "outputs": [
        {
          "name": "stdout",
          "output_type": "stream",
          "text": [
            "========== Welcome to Makki's Hotel ==========\n",
            "Here is our menu:\n",
            "\n",
            "Tea: Rs 50\n",
            "Coffee: Rs 100\n",
            "Burger: Rs 300\n",
            "Pizza: Rs 800\n",
            "Sandwich: Rs 200\n",
            "===============================================\n",
            "\n",
            "Please enter the item you want to order: Tea\n",
            "How many Teas do you want? 1\n",
            "Tea added to your order.\n",
            "Do you want to order anything else? (yes/no): yes\n",
            "\n",
            "Please enter the item you want to order: pizza\n",
            "How many Pizzas do you want? 1\n",
            "Pizza added to your order.\n",
            "Do you want to order anything else? (yes/no): yes\n",
            "\n",
            "Please enter the item you want to order: sandwitch\n",
            "Sorry, this item is not available.\n",
            "Do you want to order anything else? (yes/no): no\n",
            "\n",
            "========== BILL RECEIPT ==========\n",
            "Tea x 1 = Rs 50\n",
            "Pizza x 1 = Rs 800\n",
            "-----------------------------------\n",
            "Total: Rs 850\n",
            "Service Tax (3%): Rs 25.5\n",
            "Final Amount: Rs 875.5\n",
            "===================================\n",
            "Thank you for visiting Makki's Hotel! Have a great day! 😊\n"
          ]
        }
      ],
      "source": [
        "menu = {\n",
        "    \"Tea\": 50,\n",
        "    \"Coffee\": 100,\n",
        "    \"Burger\": 300,\n",
        "    \"Pizza\": 800,\n",
        "    \"Sandwich\": 200\n",
        "}\n",
        "\n",
        "print(\"========== Welcome to Makki's Hotel ==========\")\n",
        "print(\"Here is our menu:\\n\")\n",
        "\n",
        "# Display menu\n",
        "for item, price in menu.items():\n",
        "    print(f\"{item}: Rs {price}\")\n",
        "\n",
        "print(\"===============================================\")\n",
        "\n",
        "order_list = []\n",
        "total = 0\n",
        "\n",
        "while True:\n",
        "    order = input(\"\\nPlease enter the item you want to order: \").title()\n",
        "\n",
        "    if order in menu:\n",
        "        quantity = int(input(f\"How many {order}s do you want? :\"))\n",
        "        cost = menu[order] * quantity\n",
        "        total += cost\n",
        "        order_list.append((order, quantity, cost))\n",
        "        print(f\"{order} added to your order.\")\n",
        "    else:\n",
        "        print(\"Sorry, this item is not available.\")\n",
        "\n",
        "    more = input(\"Do you want to order anything else? (yes/no): \").lower()\n",
        "    if more != \"yes\":\n",
        "        break\n",
        "\n",
        "# Calculate 3% service tax\n",
        "service_tax = total * 0.03\n",
        "final_amount = total + service_tax\n",
        "\n",
        "# Print bill receipt\n",
        "print(\"\\n========== BILL RECEIPT ==========\")\n",
        "for item, quantity, cost in order_list:\n",
        "    print(f\"{item} x {quantity} = Rs {cost}\")\n",
        "print(\"-----------------------------------\")\n",
        "print(f\"Total: Rs {total}\")\n",
        "print(f\"Service Tax (3%): Rs {round(service_tax, 2)}\")\n",
        "print(f\"Final Amount: Rs {round(final_amount, 2)}\")\n",
        "print(\"===================================\")\n",
        "print(\"Thank you for visiting Makki's Hotel! Have a great day! 😊\")"
      ]
    },
    {
      "cell_type": "code",
      "execution_count": null,
      "metadata": {
        "colab": {
          "base_uri": "https://localhost:8080/"
        },
        "id": "k45s_6k2Xlma",
        "outputId": "ff21eaf0-1993-41ac-be1b-fe843c09216b"
      },
      "outputs": [
        {
          "name": "stdout",
          "output_type": "stream",
          "text": [
            "Enter your Rupees rate:200\n",
            "Total dollar= 0.7054673721340388\n"
          ]
        }
      ],
      "source": [
        "\n",
        "# convert Rupees to dollar?\n",
        "\n",
        "rupees=float(input(\"Enter your Rupees rate:\"))\n",
        "Dollar_rate=rupees/283.5\n",
        "print(\"Total dollar=\", Dollar_rate)\n"
      ]
    },
    {
      "cell_type": "code",
      "execution_count": null,
      "metadata": {
        "colab": {
          "base_uri": "https://localhost:8080/"
        },
        "id": "QuWhFvRUj0P9",
        "outputId": "3f5642ec-ca32-4143-d0f5-8951e1eb1a41"
      },
      "outputs": [
        {
          "name": "stdout",
          "output_type": "stream",
          "text": [
            "enter the days3\n",
            "total hours 72\n"
          ]
        }
      ],
      "source": [
        "days=int(input(\"enter the days:\"))\n",
        "hours=days*24\n",
        "print(\"total hours\", hours)"
      ]
    },
    {
      "cell_type": "code",
      "execution_count": null,
      "metadata": {
        "colab": {
          "base_uri": "https://localhost:8080/"
        },
        "id": "GfRO5hFoUrgq",
        "outputId": "e346b4fa-33ce-42e2-96bc-d222f65e2729"
      },
      "outputs": [
        {
          "name": "stdout",
          "output_type": "stream",
          "text": [
            "My name is Makki\n",
            "My age is 22\n",
            "My address is multan\n"
          ]
        }
      ],
      "source": [
        "2# write a program thatb display your personal info by using variable\n",
        "name ='Makki'\n",
        "age =int(22)\n",
        "address = 'multan'\n",
        "print ('My name is',name)\n",
        "print('My age is', age)\n",
        "print('My address is',address)"
      ]
    },
    {
      "cell_type": "code",
      "execution_count": null,
      "metadata": {
        "colab": {
          "base_uri": "https://localhost:8080/"
        },
        "id": "yA8fdHGyV9qq",
        "outputId": "b8376297-ace1-4583-d2e7-c6f3d6671246"
      },
      "outputs": [
        {
          "name": "stdout",
          "output_type": "stream",
          "text": [
            "Please enter your name :makki\n",
            "Please enter age:22\n",
            "Please enter your address:MULTAN\n",
            "multan\n",
            "MAKKI\n",
            "My age is 22\n"
          ]
        }
      ],
      "source": [
        "write a program that display  info by using variable\n",
        "\n",
        "\n",
        "\n",
        "                                                              #\n",
        "name=str(input(\"Please enter your name :\"))\n",
        "age=int(input(\"Please enter age:\"))\n",
        "address=str(input(\"Please enter your address:\"))\n",
        "print(address.lower())\n",
        "\n",
        "print (name.upper())\n",
        "print('My age is', age)\n"
      ]
    },
    {
      "cell_type": "code",
      "execution_count": null,
      "metadata": {
        "colab": {
          "base_uri": "https://localhost:8080/"
        },
        "id": "DAi9ozSzXke1",
        "outputId": "9ffbcba6-a7ef-4d49-d8be-971dedeb1e80"
      },
      "outputs": [
        {
          "name": "stdout",
          "output_type": "stream",
          "text": [
            "Enter first num6\n",
            "Enter the second num8\n",
            "the sum is: 14\n"
          ]
        }
      ],
      "source": [
        "3# Write a python program to add two number\n",
        "num1=int(input('Enter first num'))\n",
        "num2=int(input('Enter the second num'))\n",
        "sum=num1+num2\n",
        "print(\"the sum is:\",sum)"
      ]
    },
    {
      "cell_type": "code",
      "execution_count": null,
      "metadata": {
        "id": "5AtaG7NjNzk7"
      },
      "outputs": [],
      "source": []
    },
    {
      "cell_type": "code",
      "execution_count": null,
      "metadata": {
        "colab": {
          "base_uri": "https://localhost:8080/"
        },
        "id": "IHSGU58xa6Ri",
        "outputId": "135f547a-b40b-45e2-f588-fa6ae88eafed"
      },
      "outputs": [
        {
          "name": "stdout",
          "output_type": "stream",
          "text": [
            "Enter the height rectangle4.6\n",
            "Enter the width of rectangle5.1\n",
            "area of rectangle: 23.459999999999997\n"
          ]
        }
      ],
      "source": [
        "4#Write python program to calculate area of recttngle\n",
        "height=float(input('Enter the height of rectangle'))\n",
        "width=float(input('Enter the width of rectangle'))\n",
        "area=height*width\n",
        "print('area of rectangle:' , area)"
      ]
    },
    {
      "cell_type": "code",
      "execution_count": null,
      "metadata": {
        "colab": {
          "base_uri": "https://localhost:8080/"
        },
        "id": "ipaZQDRQ12f8",
        "outputId": "86db6984-4266-4d5f-d290-f560c4ce4549"
      },
      "outputs": [
        {
          "name": "stdout",
          "output_type": "stream",
          "text": [
            "Enter the value of a:7\n",
            "Enter the value of b:8\n",
            "Before Swapping :a= 7 b= 8\n",
            "After Swapping :b= 7 a= 8\n"
          ]
        }
      ],
      "source": [
        "from re import A\n",
        "5# Write python program to swap two varable\n",
        "a =input(\"Enter the value of a:\")\n",
        "b =input (\"Enter the value of b:\")\n",
        "print (\"Before Swapping :a=\",a, \"b=\",b)\n",
        "a, b = b, a\n",
        "print (\"After Swapping :b=\",b, \"a=\" ,a)\n",
        "\n"
      ]
    },
    {
      "cell_type": "code",
      "execution_count": null,
      "metadata": {
        "id": "DKwvZnxeLa3v"
      },
      "outputs": [],
      "source": []
    },
    {
      "cell_type": "code",
      "execution_count": null,
      "metadata": {
        "id": "do2zbs4B4N8U"
      },
      "outputs": [],
      "source": [
        "#Write python program to find square root?\n",
        "\n",
        "num= float(input(\"Enter the number:\"))\n",
        "square_root =num**(0.5)\n",
        "print(\"The square_root of num is:\", square_root)"
      ]
    },
    {
      "cell_type": "code",
      "execution_count": null,
      "metadata": {
        "colab": {
          "base_uri": "https://localhost:8080/"
        },
        "id": "HEtBBtCfiE_I",
        "outputId": "3dd52db0-0b30-4edc-e34a-42325410c6b2"
      },
      "outputs": [
        {
          "name": "stdout",
          "output_type": "stream",
          "text": [
            "Enter the number5\n",
            "Square root of num is: 2.23606797749979\n"
          ]
        }
      ],
      "source": []
    },
    {
      "cell_type": "code",
      "execution_count": null,
      "metadata": {
        "colab": {
          "base_uri": "https://localhost:8080/"
        },
        "id": "OQAl-oEVLc6i",
        "outputId": "928eab98-1f55-418e-c95c-c158515242f4"
      },
      "outputs": [
        {
          "name": "stdout",
          "output_type": "stream",
          "text": [
            "before swap 10 20\n",
            "after swap 20 10\n"
          ]
        }
      ],
      "source": [
        "#5 swappin program\n",
        "a=10\n",
        "b=20\n",
        "print('before swap',a,b)\n",
        "temp=a\n",
        "temp=10\n",
        "a=b\n",
        "a=20\n",
        "b=temp\n",
        "b=10\n",
        "print('after swap',a,b)"
      ]
    },
    {
      "cell_type": "code",
      "execution_count": null,
      "metadata": {
        "colab": {
          "base_uri": "https://localhost:8080/"
        },
        "id": "Owvj2MZmN28J",
        "outputId": "63d0dd65-5a6f-422c-addc-9250289b1d0c"
      },
      "outputs": [
        {
          "name": "stdout",
          "output_type": "stream",
          "text": [
            "Enter computer marks:50\n",
            "Enter English marks:54\n",
            "Enter Urdu marks:66\n",
            "Enter Physics marks:45\n",
            "Enter Math marks:40\n",
            "Total marks: 255\n",
            "Total percentge: 51.0\n"
          ]
        }
      ],
      "source": [
        "8# write a program that input 5 subjects marks, calculate , sum and displays\n",
        "sub1= int(input(\"Enter computer marks:\"))\n",
        "sub2= int(input(\"Enter English marks:\"))\n",
        "sub3= int(input(\"Enter Urdu marks:\"))\n",
        "sub4= int(input(\"Enter Physics marks:\"))\n",
        "sub5= int(input(\"Enter Math marks:\"))\n",
        "sum= sub1+sub2+sub3+sub4+sub5\n",
        "average= sum/500 *100\n",
        "print(\"Total marks:\", sum)\n",
        "print(\"Total percentge:\", average)\n"
      ]
    },
    {
      "cell_type": "code",
      "execution_count": null,
      "metadata": {
        "id": "zhN_MPDlbWa3"
      },
      "outputs": [],
      "source": [
        "\n",
        "\n",
        "\n",
        "\n",
        "\n",
        "\n"
      ]
    },
    {
      "cell_type": "code",
      "execution_count": null,
      "metadata": {
        "colab": {
          "base_uri": "https://localhost:8080/"
        },
        "id": "i2PWjC7pTSns",
        "outputId": "07565893-016b-41b4-b882-aeabf3eeaa2f"
      },
      "outputs": [
        {
          "name": "stdout",
          "output_type": "stream",
          "text": [
            "Enter comp marks66\n",
            "Enter english  marks77\n",
            "Enter urdu marks88\n",
            "Enter science marks99\n",
            "Enter ideology marks87\n",
            "Total sum:= 417\n",
            "Average of marks: 83.39999999999999\n"
          ]
        }
      ],
      "source": [
        "sub1=int(input('Enter comp marks'))\n",
        "sub2=int(input('Enter english  marks'))\n",
        "sub3=int(input('Enter urdu marks'))\n",
        "sub4=int(input('Enter science marks'))\n",
        "sub5=int(input('Enter ideology marks'))\n",
        "sum=sub1+sub2+sub3+sub4+sub5\n",
        "average=sum/500*100\n",
        "print(\"Total sum:=\",sum)\n",
        "print(\"Average of marks:\",average)"
      ]
    },
    {
      "cell_type": "code",
      "execution_count": null,
      "metadata": {
        "colab": {
          "base_uri": "https://localhost:8080/"
        },
        "id": "psEVUeQafoiC",
        "outputId": "fbd1b433-eda0-42db-902f-e272e20d39d2"
      },
      "outputs": [
        {
          "name": "stdout",
          "output_type": "stream",
          "text": [
            "Please enter value 1:77\n",
            "Please enter value 2:87\n",
            "77 + 87 = 164\n",
            "77 - 87 = -10\n",
            "77 * 87 = 6699\n",
            "77 / 87 = 0.8850574712643678\n",
            "77 % 87 = 77\n"
          ]
        }
      ],
      "source": [
        "# write a program yhat input two integars and perform all mathematical opaerations(+-*/%)\n",
        "value1=int(input('Please enter value 1:'))\n",
        "value2=int(input('Please enter value 2:'))\n",
        "print(value1,\"+\", value2,\"=\", value1+value2)\n",
        "print(value1,\"-\", value2,\"=\", value1-value2)\n",
        "print(value1,\"*\", value2,\"=\", value1*value2)\n",
        "print(value1,\"/\", value2,\"=\", value1/value2)\n",
        "print(value1,\"%\", value2,\"=\", value1%value2)"
      ]
    },
    {
      "cell_type": "code",
      "execution_count": null,
      "metadata": {
        "id": "P6kM2gIqnjhi"
      },
      "outputs": [],
      "source": [
        "\n"
      ]
    },
    {
      "cell_type": "code",
      "execution_count": null,
      "metadata": {
        "colab": {
          "base_uri": "https://localhost:8080/"
        },
        "id": "aYsbVJlVhT5e",
        "outputId": "ebed911b-e7b3-4d08-c9e4-117df5c3bdbe"
      },
      "outputs": [
        {
          "name": "stdout",
          "output_type": "stream",
          "text": [
            "Enter your distance into kilometers77\n",
            "47.845567\n"
          ]
        }
      ],
      "source": [
        "#write a python program to convert kilometers into miles\n",
        "#to convert kilometers(km) into miles (mi)\n",
        "#to u multiply the number of kilometers by 0.621371\n",
        "#the formula is miles=kilometers is 0.621371\n",
        "\n",
        "val1=int(input('Enter your distance into kilometers'))\n",
        "mile=val1*0.621371\n",
        "print(mile)\n"
      ]
    },
    {
      "cell_type": "code",
      "execution_count": null,
      "metadata": {
        "id": "UppGGypAqIGD"
      },
      "outputs": [],
      "source": [
        "\n"
      ]
    },
    {
      "cell_type": "code",
      "execution_count": null,
      "metadata": {
        "colab": {
          "base_uri": "https://localhost:8080/"
        },
        "id": "j827T5TjkbZD",
        "outputId": "939d4a85-fb8f-4c84-8535-b1d4ba625389"
      },
      "outputs": [
        {
          "name": "stdout",
          "output_type": "stream",
          "text": [
            "Enter the kilometers2\n",
            "total meters 2000\n"
          ]
        }
      ],
      "source": [
        "Km=int(input(\"Enter the kilometers\"))\n",
        "meters=Km*1000\n",
        "print(\"total meters\",meters)"
      ]
    },
    {
      "cell_type": "code",
      "execution_count": null,
      "metadata": {
        "colab": {
          "base_uri": "https://localhost:8080/"
        },
        "id": "3Ix0phCAlTK4",
        "outputId": "8da174d1-3fa9-406a-deab-4e5ba7cb1fae"
      },
      "outputs": [
        {
          "name": "stdout",
          "output_type": "stream",
          "text": [
            "Enter meters:3\n",
            "total centimeters: 300\n"
          ]
        }
      ],
      "source": [
        "meters=int(input(\"Enter meters:\"))\n",
        "centimeters=meters*100\n",
        "print(\"total centimeters:\", centimeters)"
      ]
    },
    {
      "cell_type": "code",
      "execution_count": null,
      "metadata": {
        "colab": {
          "base_uri": "https://localhost:8080/"
        },
        "id": "w4XkdYkqlwN-",
        "outputId": "d54df80e-c2c1-4c63-881d-7a60d3198ad1"
      },
      "outputs": [
        {
          "name": "stdout",
          "output_type": "stream",
          "text": [
            "Enter the gram:2\n",
            "kilograms: 0.002\n"
          ]
        }
      ],
      "source": [
        "gram=int(input(\"Enter the gram:\"))\n",
        "print(\"kilograms:\", gram/1000)"
      ]
    },
    {
      "cell_type": "code",
      "execution_count": null,
      "metadata": {
        "id": "W-gBG0Xhsjwi"
      },
      "outputs": [],
      "source": []
    },
    {
      "cell_type": "code",
      "execution_count": null,
      "metadata": {
        "colab": {
          "base_uri": "https://localhost:8080/"
        },
        "id": "BakJYrrwuaLM",
        "outputId": "20e1467d-8373-4766-d307-9b0c17cda97c"
      },
      "outputs": [
        {
          "name": "stdout",
          "output_type": "stream",
          "text": [
            "Enter your Rupees rate:5000\n",
            "Total dollar= 17.63668430335097\n"
          ]
        }
      ],
      "source": [
        "Dollar_rate= float (283.5)\n",
        "rupees=float(input(\"Enter your Rupees rate:\"))\n",
        "Dollar_rate= rupees / 283.5\n",
        "print(\"Total dollar=\", Dollar_rate)"
      ]
    },
    {
      "cell_type": "code",
      "execution_count": null,
      "metadata": {
        "id": "YZUkTX-8mxi6"
      },
      "outputs": [],
      "source": []
    },
    {
      "cell_type": "code",
      "execution_count": null,
      "metadata": {
        "colab": {
          "base_uri": "https://localhost:8080/"
        },
        "id": "7n_SBtyO5sZ4",
        "outputId": "482e7776-ffec-4504-a65d-80f2b735b195"
      },
      "outputs": [
        {
          "name": "stdout",
          "output_type": "stream",
          "text": [
            "Name: Tony Stark\n",
            "Age: 51\n",
            "Skills: Python Genius\n"
          ]
        }
      ],
      "source": [
        "name=\"Tony Stark\"\n",
        "age= 51\n",
        "skills=\"Python Genius\"\n",
        "print(\"Name:\",name)\n",
        "print(\"Age:\", age)\n",
        "print(\"Skills:\", skills)\n",
        "\n"
      ]
    },
    {
      "cell_type": "code",
      "execution_count": null,
      "metadata": {
        "colab": {
          "base_uri": "https://localhost:8080/"
        },
        "id": "bbJcXCth8Vaz",
        "outputId": "b7ff47f5-00e6-4172-ec78-ab57ece70c95"
      },
      "outputs": [
        {
          "name": "stdout",
          "output_type": "stream",
          "text": [
            "what is your name?makki\n",
            "Hellomakki\n"
          ]
        }
      ],
      "source": [
        "name = input(\"what is your name?\")\n",
        "print(\"Hello\" + name)"
      ]
    },
    {
      "cell_type": "code",
      "execution_count": null,
      "metadata": {
        "colab": {
          "base_uri": "https://localhost:8080/"
        },
        "id": "QjDR2HIOyixm",
        "outputId": "795b72bf-8c42-45b6-b3e5-031777844ec8"
      },
      "outputs": [
        {
          "name": "stdout",
          "output_type": "stream",
          "text": [
            "What is your name:makki\n",
            "what is your age22\n",
            "hellomakki\n",
            "age 22\n"
          ]
        }
      ],
      "source": [
        "name = str(input(\"What is your name:\"))\n",
        "age = int(input(\"what is your age\"))\n",
        "print(\"hello\" + name)\n",
        "print(\"age\",  age)"
      ]
    },
    {
      "cell_type": "code",
      "execution_count": null,
      "metadata": {
        "id": "k-bTMKxKyi58"
      },
      "outputs": [],
      "source": []
    },
    {
      "cell_type": "code",
      "execution_count": null,
      "metadata": {
        "colab": {
          "base_uri": "https://localhost:8080/"
        },
        "id": "8WGUX1-N9GhH",
        "outputId": "71734f7d-8c63-4db0-fc08-b738b214eef5"
      },
      "outputs": [
        {
          "name": "stdout",
          "output_type": "stream",
          "text": [
            "Tony, What is your super hero name?ironman\n",
            "Shhh....Tony stark is a secretly ironman\n"
          ]
        }
      ],
      "source": []
    },
    {
      "cell_type": "code",
      "execution_count": null,
      "metadata": {
        "colab": {
          "base_uri": "https://localhost:8080/"
        },
        "id": "2CZBBGxLAUML",
        "outputId": "ff5e9af0-272e-46e5-ecbd-0edc6d972b7a"
      },
      "outputs": [
        {
          "name": "stdout",
          "output_type": "stream",
          "text": [
            "Please enter your age:22\n",
            "25.5\n"
          ]
        }
      ],
      "source": [
        "old_age=float(input(\"Please enter your age:\"))\n",
        "new_age=(old_age)+3.5\n",
        "print(new_age)"
      ]
    },
    {
      "cell_type": "code",
      "execution_count": null,
      "metadata": {
        "colab": {
          "base_uri": "https://localhost:8080/"
        },
        "id": "SLroOs08Cbds",
        "outputId": "d34893ed-827c-4bc4-f36a-a3b1a5db1be9"
      },
      "outputs": [
        {
          "name": "stdout",
          "output_type": "stream",
          "text": [
            "Please enter your first number2\n",
            "Please enter your second number3\n",
            "The sum is: 5\n"
          ]
        }
      ],
      "source": [
        "num1=int(input(\"Please enter your first number\"))\n",
        "num2=int(input(\"Please enter your second number\"))\n",
        "sum= num1+num2\n",
        "print(\"The sum is:\", sum)"
      ]
    },
    {
      "cell_type": "code",
      "execution_count": null,
      "metadata": {
        "colab": {
          "base_uri": "https://localhost:8080/"
        },
        "id": "RWiw2aRQEHGT",
        "outputId": "af054178-4e7c-4f85-9066-a8369d764ae6"
      },
      "outputs": [
        {
          "name": "stdout",
          "output_type": "stream",
          "text": [
            "TONY STARK\n"
          ]
        }
      ],
      "source": [
        "name= \"Tony stark\"\n",
        "print (name.upper())      # for upper"
      ]
    },
    {
      "cell_type": "code",
      "execution_count": null,
      "metadata": {
        "colab": {
          "base_uri": "https://localhost:8080/"
        },
        "id": "wL4vR7EnEy44",
        "outputId": "1832baa3-5245-49e5-a063-182353c9be0f"
      },
      "outputs": [
        {
          "name": "stdout",
          "output_type": "stream",
          "text": [
            "tony stark\n",
            "Tony stark\n"
          ]
        }
      ],
      "source": [
        "name= \"Tony stark\"\n",
        "print (name.lower())\n",
        "print(name)   # for lower"
      ]
    },
    {
      "cell_type": "code",
      "execution_count": null,
      "metadata": {
        "colab": {
          "base_uri": "https://localhost:8080/"
        },
        "id": "iZcGtn-4Hwhg",
        "outputId": "a2072fe8-bcd2-4d3a-df68-09d1af816fc0"
      },
      "outputs": [
        {
          "name": "stdout",
          "output_type": "stream",
          "text": [
            "1\n"
          ]
        }
      ],
      "source": [
        "name= \"Tony Stark\"\n",
        "print(name.find(\"o\"))      # for find-------but if we use \"\" in parenthesis after priint it will not execute so we will not use \"\""
      ]
    },
    {
      "cell_type": "code",
      "execution_count": null,
      "metadata": {
        "colab": {
          "base_uri": "https://localhost:8080/"
        },
        "id": "T30dPGXNIvVa",
        "outputId": "d9042f45-97dc-42e0-f619-5628052c2a65"
      },
      "outputs": [
        {
          "name": "stdout",
          "output_type": "stream",
          "text": [
            "IronMan\n"
          ]
        }
      ],
      "source": [
        "name= \"Tony Stark\"\n",
        "print(name.replace(\"Tony Stark\", \"IronMan\"))       #for replace any name or single letter\n"
      ]
    },
    {
      "cell_type": "code",
      "execution_count": null,
      "metadata": {
        "colab": {
          "base_uri": "https://localhost:8080/"
        },
        "id": "8-j3X3RQKB7W",
        "outputId": "e9ab69b2-ebde-4b1c-9469-9ef1d784cdd3"
      },
      "outputs": [
        {
          "name": "stdout",
          "output_type": "stream",
          "text": [
            "Mony Stark\n"
          ]
        }
      ],
      "source": [
        "name= \"Tony Stark\"\n",
        "print(name.replace(\"T\", \"M\"))                # we can replace any single  letter"
      ]
    },
    {
      "cell_type": "code",
      "execution_count": null,
      "metadata": {
        "colab": {
          "base_uri": "https://localhost:8080/"
        },
        "id": "kfO8oX_7Kiqi",
        "outputId": "80b2f009-652f-4dcc-8427-b80694766c7c"
      },
      "outputs": [
        {
          "name": "stdout",
          "output_type": "stream",
          "text": [
            "False\n"
          ]
        }
      ],
      "source": [
        "name= \"Muhammad Makki\"\n",
        "print(\"y\" in name)                 # in keyword------  it is used to find any name or letter we will give to him and\n",
        "                                  #   if that name or letter is existed it will give us a output: \"True\"  otherwise false"
      ]
    },
    {
      "cell_type": "code",
      "execution_count": null,
      "metadata": {
        "colab": {
          "base_uri": "https://localhost:8080/"
        },
        "id": "mGZUOI0pWTJf",
        "outputId": "d2e5f8b4-305f-4b8d-adf4-7cfb39142411"
      },
      "outputs": [
        {
          "name": "stdout",
          "output_type": "stream",
          "text": [
            "25\n"
          ]
        }
      ],
      "source": [
        "print (5**2)       # ** is used as a power like 5* 2x2 (2 ki power 2)"
      ]
    },
    {
      "cell_type": "code",
      "execution_count": null,
      "metadata": {
        "colab": {
          "base_uri": "https://localhost:8080/"
        },
        "id": "Trj_spibXMXX",
        "outputId": "f9722c24-908f-4fd6-f188-5dbe7cf8827c"
      },
      "outputs": [
        {
          "name": "stdout",
          "output_type": "stream",
          "text": [
            "19\n"
          ]
        }
      ],
      "source": []
    },
    {
      "cell_type": "code",
      "execution_count": null,
      "metadata": {
        "colab": {
          "base_uri": "https://localhost:8080/"
        },
        "id": "0kacJgDDMFXA",
        "outputId": "0aaf5ae3-27fb-4f8a-f4ee-46e9b1b9b0cc"
      },
      "outputs": [
        {
          "name": "stdout",
          "output_type": "stream",
          "text": [
            "My name is Makki\n",
            "My age is 22\n",
            "My address is Multan\n",
            "My email is makkimakki048@gmail.com\n"
          ]
        }
      ],
      "source": [
        "2# write a program thatb display your personal info by using variable\n",
        "name=\"Makki\"\n",
        "age= (22)\n",
        "address=\"Multan\"\n",
        "email=\"makkimakki048@gmail.com\"\n",
        "print(\"My name is\", name)\n",
        "print(\"My age is\", age)\n",
        "print(\"My address is\", address)\n",
        "print(\"My email is\", email)\n"
      ]
    },
    {
      "cell_type": "code",
      "execution_count": null,
      "metadata": {
        "colab": {
          "base_uri": "https://localhost:8080/"
        },
        "id": "kP9IvvwEflKl",
        "outputId": "7ffff26a-03eb-41b5-819c-0018158c853d"
      },
      "outputs": [
        {
          "name": "stdout",
          "output_type": "stream",
          "text": [
            "Please enter days:365\n",
            "Total hours: 8760\n"
          ]
        }
      ],
      "source": [
        "#2 Write a program that displays days into hours\n",
        "\n",
        "days=int(input(\"Please enter days:\"))\n",
        "hours=days*24\n",
        "print(\"Total hours:\", hours )"
      ]
    },
    {
      "cell_type": "code",
      "execution_count": null,
      "metadata": {
        "colab": {
          "base_uri": "https://localhost:8080/"
        },
        "id": "PAjPfvtshFyg",
        "outputId": "65f1e340-98ad-4618-f3ce-b836df9441e4"
      },
      "outputs": [
        {
          "name": "stdout",
          "output_type": "stream",
          "text": [
            "Please enter your name:makki\n",
            "Please enter your address:mult\n",
            "What is your age:22\n",
            "Please enter your email:makimaki048@gmail.com\n",
            "MAKKI\n",
            "MULT\n",
            "My age is: 22\n",
            "MAKIMAKI048@GMAIL.COM\n"
          ]
        }
      ],
      "source": [
        "#3write a program that display  info by using variable\n",
        "name=str(input(\"Please enter your name:\"))\n",
        "address=str(input(\"Please enter your address:\"))\n",
        "age=int(input(\"What is your age:\"))\n",
        "email=(input(\"Please enter your email:\"))\n",
        "print(name.upper())\n",
        "print(address.upper())\n",
        "print(\"My age is:\", age)\n",
        "print(email.upper())\n"
      ]
    },
    {
      "cell_type": "code",
      "execution_count": null,
      "metadata": {
        "colab": {
          "base_uri": "https://localhost:8080/"
        },
        "id": "azKiyHBOjLDE",
        "outputId": "412615ee-2281-44bb-c450-6dd3309e7088"
      },
      "outputs": [
        {
          "name": "stdout",
          "output_type": "stream",
          "text": [
            "Please enter your age:23\n",
            "You are adult\n",
            "You can vote\n",
            "Thank you\n"
          ]
        }
      ],
      "source": [
        "age= int (input(\"Please enter your age:\"))\n",
        "if age >= 18:\n",
        "  print(\"You are adult\")\n",
        "  print(\"You can vote\")\n",
        "elif age <= 18 and age >= 3:\n",
        "    print(\"You are not adult\")\n",
        "    print(\"You can't vote\")\n",
        "else:\n",
        "      print(\"You are child\")\n",
        "\n",
        "print(\"Thank you\")"
      ]
    },
    {
      "cell_type": "code",
      "execution_count": null,
      "metadata": {
        "colab": {
          "base_uri": "https://localhost:8080/"
        },
        "id": "r4a56Erwf6yE",
        "outputId": "f8c3d861-07c9-40b9-f747-1a57bae0c2db"
      },
      "outputs": [
        {
          "name": "stdout",
          "output_type": "stream",
          "text": [
            "Please Enter your number:0\n",
            "Number is zero\n"
          ]
        }
      ],
      "source": [
        "num= int (input(\"Please Enter your number:\"))\n",
        "if num >=1:\n",
        "  print(\"Number is positive\")\n",
        "elif num <=-1:\n",
        "  print(\"Number is negative\")\n",
        "else:\n",
        "  print(\"Number is zero\")\n",
        "\n"
      ]
    },
    {
      "cell_type": "code",
      "execution_count": null,
      "metadata": {
        "colab": {
          "base_uri": "https://localhost:8080/"
        },
        "id": "H8z_lAnQhx0T",
        "outputId": "3461fc08-4ae2-4268-830a-e7d8be3b24bf"
      },
      "outputs": [
        {
          "name": "stdout",
          "output_type": "stream",
          "text": [
            "Enter your marks78\n",
            "Grade B\n"
          ]
        }
      ],
      "source": [
        "Student_marks=int(input(\"Enter your marks\"))\n",
        "if Student_marks >= 85:\n",
        "    print(\"Grade A\")\n",
        "elif Student_marks >= 65 and Student_marks <= 84:\n",
        "    print(\"Grade B\")\n",
        "elif Student_marks >= 50 and Student_marks <= 64:\n",
        "   print(\"Grade C\")\n",
        "else:\n",
        "   print(\"Fail\")"
      ]
    },
    {
      "cell_type": "code",
      "execution_count": null,
      "metadata": {
        "id": "qx7iAaiSlphB"
      },
      "outputs": [],
      "source": [
        "sheets=int(input(\"How much sheets do you want?:\"))\n",
        "if sheets <= 5:\n",
        "  print(\"It's cost is: 10RS\")\n",
        "elif sheets <= 15 and sheets > 5:\n",
        "  print(\"It's cost is: 15RS\")\n",
        "elif sheets <=  25 and sheets > 16:\n",
        "  print(\"It's cost is: 25RS\")\n",
        "else:\n",
        "  print (\"Thank you\")\n",
        "\n"
      ]
    },
    {
      "cell_type": "code",
      "execution_count": null,
      "metadata": {
        "id": "um4vvv_NPyvy"
      },
      "outputs": [],
      "source": [
        "class_course=int(input(\"Which class course do you want (1-5):?\"))\n",
        "if class_course == 1:\n",
        "  print(\"Total cost is 1500Rs\")\n",
        "elif class_course == 2:\n",
        "  print(\"Total cost is 2300RS\")\n",
        "elif class_course == 3:\n",
        "  print(\"Total cost is 3200RS\")\n",
        "elif class_course == 4:\n",
        "  print(\"Total price is 4000RS\")\n",
        "elif class_course == 5:\n",
        "  print(\"Total cost is 4500RS\")\n",
        "else:\n",
        "  print(\"Not available\")\n",
        "  print(\"Thank you\")"
      ]
    },
    {
      "cell_type": "code",
      "execution_count": null,
      "metadata": {
        "id": "KHo_7OVVJOGV"
      },
      "outputs": [],
      "source": []
    },
    {
      "cell_type": "code",
      "execution_count": null,
      "metadata": {
        "colab": {
          "base_uri": "https://localhost:8080/"
        },
        "id": "XEtlseoeT7mF",
        "outputId": "93571fdb-f9ab-4891-be83-436092ab0ef8"
      },
      "outputs": [
        {
          "name": "stdout",
          "output_type": "stream",
          "text": [
            "Enter first number:2\n",
            "Enter operators (+,-,*,/,%):*\n",
            "Enter second number55\n",
            "110.0\n"
          ]
        }
      ],
      "source": [
        "num1=float(input(\"Enter first number:\"))\n",
        "operator= input(\"Enter operators (+,-,*,/,%):\")\n",
        "num2=float(input(\"Enter second number\"))\n",
        "if operator == \"+\":\n",
        "  print(num1 + num2)\n",
        "elif operator == \"-\":\n",
        "  print(num1 - num2)\n",
        "elif operator == \"*\":\n",
        "  print(num1 * num2)\n",
        "elif operator == \"/\":\n",
        "  print(num1 / num2)\n",
        "elif operator == \"%\":\n",
        "  print(num1 % num2)\n",
        "else:\n",
        "  print(\"invalid\")\n"
      ]
    },
    {
      "cell_type": "code",
      "execution_count": null,
      "metadata": {
        "colab": {
          "base_uri": "https://localhost:8080/"
        },
        "id": "9np7wInRYi8Z",
        "outputId": "2fa3878d-ec1b-4e76-b1d8-fd26126b1985"
      },
      "outputs": [
        {
          "name": "stdout",
          "output_type": "stream",
          "text": [
            "*\n",
            "**\n",
            "***\n",
            "****\n",
            "*****\n",
            "******\n",
            "*******\n",
            "********\n",
            "*********\n",
            "**********\n"
          ]
        }
      ],
      "source": [
        "i=1\n",
        "while i <= 10:\n",
        " print(i * \"*\")       #if we multiply with string  thn=en it will print strings\n",
        " i= i + 1"
      ]
    },
    {
      "cell_type": "code",
      "execution_count": null,
      "metadata": {
        "colab": {
          "base_uri": "https://localhost:8080/"
        },
        "id": "Cnd6IaWWXwpA",
        "outputId": "a9a9d929-7fd4-4718-ae5d-df14fdaf20ad"
      },
      "outputs": [
        {
          "name": "stdout",
          "output_type": "stream",
          "text": [
            "32\n",
            "31\n",
            "30\n",
            "29\n",
            "28\n",
            "27\n",
            "26\n",
            "25\n",
            "24\n",
            "23\n",
            "22\n",
            "21\n",
            "20\n",
            "19\n",
            "18\n",
            "17\n",
            "16\n",
            "15\n",
            "14\n",
            "13\n",
            "12\n",
            "11\n",
            "10\n",
            "9\n",
            "8\n",
            "7\n",
            "6\n",
            "5\n"
          ]
        }
      ],
      "source": [
        "i=32\n",
        "while i >= 5:\n",
        " print(i)              # decrement\n",
        " i= i - 1"
      ]
    },
    {
      "cell_type": "code",
      "execution_count": null,
      "metadata": {
        "colab": {
          "base_uri": "https://localhost:8080/"
        },
        "id": "I2m7wVl8c-Hu",
        "outputId": "9cb928c6-c259-412f-8c47-b09e8fd02478"
      },
      "outputs": [
        {
          "name": "stdout",
          "output_type": "stream",
          "text": [
            "0\n",
            "1\n",
            "2\n",
            "3\n",
            "4\n",
            "5\n",
            "6\n",
            "7\n",
            "8\n",
            "9\n"
          ]
        }
      ],
      "source": [
        "for item in range(10):\n",
        "\n",
        " print(item)                      # for loop with keyword range"
      ]
    },
    {
      "cell_type": "markdown",
      "metadata": {
        "id": "Em-xRTzjhSQd"
      },
      "source": []
    },
    {
      "cell_type": "code",
      "execution_count": null,
      "metadata": {
        "colab": {
          "base_uri": "https://localhost:8080/"
        },
        "id": "9qsk_sizeRXf",
        "outputId": "53fb3699-6c7e-411a-bfe0-3880e11bc73e"
      },
      "outputs": [
        {
          "name": "stdout",
          "output_type": "stream",
          "text": [
            "Please enter value of a:7\n",
            "Please enter value of b:8\n",
            "after swapping\n",
            "a = 8\n",
            "b = 7\n"
          ]
        }
      ],
      "source": [
        "# Write python program to swap two varable\n",
        "\n",
        "a= int(input(\"Please enter value of a:\"))\n",
        "b=  int(input(\"Please enter value of b:\"))\n",
        "a,b = b,a\n",
        "print(\"after swapping\")\n",
        "print(\"a =\", a)\n",
        "print(\"b =\", b)"
      ]
    },
    {
      "cell_type": "code",
      "execution_count": null,
      "metadata": {
        "colab": {
          "base_uri": "https://localhost:8080/"
        },
        "id": "tTJssrXtgRDk",
        "outputId": "06f02400-4c71-413e-bc14-be75515c6a3f"
      },
      "outputs": [
        {
          "name": "stdout",
          "output_type": "stream",
          "text": [
            "Please enter value of a: ice cream\n",
            "Please enter value of b:coke\n",
            "after swapping\n",
            "a= coke\n",
            "b=  ice cream\n"
          ]
        }
      ],
      "source": [
        "a= str(input(\"Please enter value of a:\"))\n",
        "b= str(input(\"Please enter value of b:\"))\n",
        "a,b = b,a\n",
        "print(\"after swapping\")\n",
        "print(\"b=\", b)\n",
        "print(\"a=\", a)"
      ]
    },
    {
      "cell_type": "code",
      "execution_count": null,
      "metadata": {
        "colab": {
          "base_uri": "https://localhost:8080/"
        },
        "id": "nKlil96PTVjS",
        "outputId": "2d4e6304-a7c2-484e-a2e5-95151449f818"
      },
      "outputs": [
        {
          "name": "stdout",
          "output_type": "stream",
          "text": [
            "Inintial value 10\n",
            "After increment 11\n",
            "After decrement 8\n",
            "After multiplication 32\n",
            "After division 6.4\n",
            "After modulus 2.4000000000000004\n"
          ]
        }
      ],
      "source": [
        "#Write a program that perform increme3nt and decrement operations based on unary operations\n",
        "val= int(10)\n",
        "print(\"Inintial value\", val)\n",
        "#increment\n",
        "val+=1\n",
        "print(\"After increment\", val)\n",
        "# decrement\n",
        "val-=3\n",
        "print(\"After decrement\", val)\n",
        "# multipliction\n",
        "val*=4\n",
        "print(\"After multiplication\", val)\n",
        "# division\n",
        "val/=5\n",
        "print(\"After division\", val)\n",
        "#modulus\n",
        "val%=4\n",
        "print(\"After modulus\", val)"
      ]
    },
    {
      "cell_type": "code",
      "execution_count": null,
      "metadata": {
        "colab": {
          "base_uri": "https://localhost:8080/"
        },
        "id": "OMoFKZqoX3Df",
        "outputId": "c2710bbe-ed52-4a62-fe54-7a28584b2198"
      },
      "outputs": [
        {
          "name": "stdout",
          "output_type": "stream",
          "text": [
            "Please enter your value:6\n",
            "After increment 7\n",
            "After decrement 5\n",
            "After multiplication 15\n",
            "After division 3.75\n",
            "After  modulus 3.75\n"
          ]
        }
      ],
      "source": [
        "i = int(input(\"Please enter your value:\"))\n",
        "i+=1\n",
        "print(\"After increment\", i)\n",
        "i-=2\n",
        "print(\"After decrement\", i)\n",
        "i*=3\n",
        "print(\"After multiplication\", i)\n",
        "i/=4\n",
        "print(\"After division\", i)\n",
        "i%=5\n",
        "print(\"After  modulus\", i)\n"
      ]
    },
    {
      "cell_type": "code",
      "execution_count": null,
      "metadata": {
        "colab": {
          "base_uri": "https://localhost:8080/"
        },
        "id": "4wU4HfBmZXyu",
        "outputId": "e61801a7-2489-4d60-e36a-de04ccd699f4"
      },
      "outputs": [
        {
          "name": "stdout",
          "output_type": "stream",
          "text": [
            "Inintial value 10\n",
            "Please enter your increment:2\n",
            "After increment 2 : 12\n",
            "Please enter your decrement:5\n",
            "After decrement 5 : 7\n",
            "Please enter your multiplication:5\n",
            "After multiplication 5 : 35\n",
            "Please enter your division:4\n",
            "After division 4 : 8.75\n",
            "Please enter your modulus:5\n",
            "After  modulus 5 : 3.75\n"
          ]
        }
      ],
      "source": [
        "v= int(10)\n",
        "print(\"Inintial value\", v)\n",
        "i = int(input(\"Please enter your increment:\"))\n",
        "v=v+i\n",
        "print(\"After increment\",i, \":\", v)\n",
        "i = int(input(\"Please enter your decrement:\"))\n",
        "v=v-i\n",
        "print(\"After decrement\", i, \":\", v)\n",
        "i = int(input(\"Please enter your multiplication:\"))\n",
        "v=v*i\n",
        "print(\"After multiplication\",i, \":\", v)\n",
        "i = int(input(\"Please enter your division:\"))\n",
        "v=v/i\n",
        "print(\"After division\", i, \":\", v)\n",
        "i = int(input(\"Please enter your modulus:\"))\n",
        "v=v%i\n",
        "print(\"After  modulus\", i, \":\", v)"
      ]
    },
    {
      "cell_type": "code",
      "execution_count": null,
      "metadata": {
        "colab": {
          "base_uri": "https://localhost:8080/"
        },
        "id": "Nnc5oGzVcN77",
        "outputId": "0b6b93f5-782c-48c3-85d0-5fa4f8e51761"
      },
      "outputs": [
        {
          "name": "stdout",
          "output_type": "stream",
          "text": [
            "Please enter value:5\n",
            "Inintial value 5\n",
            "Please enter your increment:25\n",
            "After increment 25 : 30\n",
            "Please enter your decrement:11\n",
            "After decrement 11 : 19\n",
            "Please enter your multiplication:5\n",
            "After multiplication 5 : 95\n",
            "Please enter your division:5\n",
            "After division 5 : 19.0\n",
            "Please enter your modulus:4\n",
            "After  modulus 4 : 3.0\n"
          ]
        }
      ],
      "source": [
        "v= int(input(\"Please enter value:\"))\n",
        "print(\"Inintial value\", v)\n",
        "i = int(input(\"Please enter your increment:\"))\n",
        "v=v+i\n",
        "print(\"After increment\",i, \":\", v)\n",
        "i = int(input(\"Please enter your decrement:\"))\n",
        "v=v-i\n",
        "print(\"After decrement\", i, \":\", v)\n",
        "i = int(input(\"Please enter your multiplication:\"))\n",
        "v=v*i\n",
        "print(\"After multiplication\",i, \":\", v)\n",
        "i = int(input(\"Please enter your division:\"))\n",
        "v=v/i\n",
        "print(\"After division\", i, \":\", v)\n",
        "i = int(input(\"Please enter your modulus:\"))\n",
        "v=v%i\n",
        "print(\"After  modulus\", i, \":\", v)"
      ]
    },
    {
      "cell_type": "code",
      "execution_count": null,
      "metadata": {
        "colab": {
          "base_uri": "https://localhost:8080/"
        },
        "id": "eeMzcQ0SeIpf",
        "outputId": "e260fbd4-f513-4718-9e8c-289b8878c2e8"
      },
      "outputs": [
        {
          "name": "stdout",
          "output_type": "stream",
          "text": [
            "49\n"
          ]
        }
      ],
      "source": [
        "a=7\n",
        "a**= 2    # \"\"\"\"\"assignmet operator\"\"\"\"\n",
        "print(a)"
      ]
    },
    {
      "cell_type": "code",
      "execution_count": null,
      "metadata": {
        "colab": {
          "base_uri": "https://localhost:8080/"
        },
        "id": "5_8d_WAWKz8l",
        "outputId": "c642a0fe-7a63-43a7-93f2-2ec6ca85c22f"
      },
      "outputs": [
        {
          "name": "stdout",
          "output_type": "stream",
          "text": [
            "3\n"
          ]
        }
      ],
      "source": [
        "a=7\n",
        "a//= 2    # \"\"\"\"\"assignmet operator\"\"\"\" it shows the value before point\n",
        "print(a)"
      ]
    },
    {
      "cell_type": "code",
      "execution_count": null,
      "metadata": {
        "colab": {
          "base_uri": "https://localhost:8080/"
        },
        "id": "IyVmLeGALAYd",
        "outputId": "fe5bfea8-0e74-4cc3-9e7f-9cf556e1e497"
      },
      "outputs": [
        {
          "name": "stdout",
          "output_type": "stream",
          "text": [
            "False\n"
          ]
        }
      ],
      "source": [
        "a=7\n",
        "b=8                     #comparison operator\n",
        "print(a>b)"
      ]
    },
    {
      "cell_type": "code",
      "execution_count": null,
      "metadata": {
        "colab": {
          "base_uri": "https://localhost:8080/"
        },
        "id": "mkXPCfJ8Lare",
        "outputId": "05734692-c877-453d-9317-11c2e927ff8d"
      },
      "outputs": [
        {
          "name": "stdout",
          "output_type": "stream",
          "text": [
            "makki\n",
            "MAK\n",
            "akk\n",
            "Mak\n",
            "makki\n",
            "MAKKI\n",
            "0\n",
            "2\n",
            "4\n"
          ]
        }
      ],
      "source": [
        "name = \"makki\"\n",
        "print(name)\n",
        "\n",
        "print (name.upper()[0:3]) # start from 0 and go all the way till 2\n",
        "print (name.lower()[1:4]) # start from 1 and go all the way till 3\n",
        "print (name.capitalize()[0:3])  # start from 0 and go all the way till 2\n",
        "\n",
        "print(name.lower())\n",
        "print(name.upper())\n",
        "print(name.count(\"R\"))\n",
        "\n",
        "print(name.count(\"k\"))\n",
        "print(name.find(\"i\"))\n"
      ]
    },
    {
      "cell_type": "code",
      "execution_count": null,
      "metadata": {
        "colab": {
          "base_uri": "https://localhost:8080/"
        },
        "id": "ignZES4MXvgH",
        "outputId": "b684353a-302e-4b92-b829-6986d9d57fba"
      },
      "outputs": [
        {
          "name": "stdout",
          "output_type": "stream",
          "text": [
            "Enter a num:8\n",
            "14\n",
            "Enter a num:5\n",
            "11\n"
          ]
        }
      ],
      "source": [
        "# write a python program to take anumber from user as an input and add6 in it\n",
        "num= int(input(\"Enter a num:\"))\n",
        "print(num + 6)\n",
        "\n",
        "num= (input(\"Enter a num:\"))                  #typecasting\n",
        "print(int(num) + 6)"
      ]
    },
    {
      "cell_type": "code",
      "execution_count": null,
      "metadata": {
        "colab": {
          "base_uri": "https://localhost:8080/"
        },
        "id": "pnLfXp5PZNzN",
        "outputId": "da0bfc71-2cc0-4949-ea8d-c5523135c2b9"
      },
      "outputs": [
        {
          "name": "stdout",
          "output_type": "stream",
          "text": [
            "makkiis a good boy\n"
          ]
        }
      ],
      "source": [
        "a1= \"makki\" \\\n",
        "    \"is a good boy\"            # multi line string\n",
        "print(a1)"
      ]
    },
    {
      "cell_type": "code",
      "execution_count": null,
      "metadata": {
        "colab": {
          "base_uri": "https://localhost:8080/"
        },
        "id": "EAYN09PBaOfI",
        "outputId": "f23f1e37-591a-4d68-fafb-90a6fceb8b39"
      },
      "outputs": [
        {
          "name": "stdout",
          "output_type": "stream",
          "text": [
            "<class 'list'>\n",
            "[2, 4, 77, 87, 98, 99]\n",
            "[2, 4, 77, 87, 98, 99, 'Makki']\n"
          ]
        }
      ],
      "source": [
        "# List\n",
        "l1 = [2, 4, 77, 87, 98, 99]\n",
        "print(type(l1))                               # type\n",
        "print(l1)\n",
        "\n",
        "l1 = [2, 4, 77, 87, 98, 99, \"Makki\"]\n",
        "print(l1)"
      ]
    },
    {
      "cell_type": "code",
      "execution_count": null,
      "metadata": {
        "colab": {
          "base_uri": "https://localhost:8080/"
        },
        "id": "o5ZrbXqlbvxI",
        "outputId": "dd59a056-6e3a-4835-9c5c-760d38417dc3"
      },
      "outputs": [
        {
          "name": "stdout",
          "output_type": "stream",
          "text": [
            "<class 'list'>\n",
            "[2, 4, 77, 87, 98, 99, 'Makki']\n",
            "[2, 4, 77, 87, 98, 99]\n",
            "[2, 4, 77, 87, 98, 99, 'apple']\n"
          ]
        }
      ],
      "source": [
        "l1 = [2, 4, 77, 87, 98, 99, \"Makki\"]\n",
        "print(type(l1))\n",
        "print(l1)\n",
        "l1.remove(\"Makki\")                            # remove element\n",
        "print(l1)\n",
        "l1.append(\"apple\")                             # add element or thing in last\n",
        "print(l1)\n",
        "\n",
        "\n"
      ]
    },
    {
      "cell_type": "code",
      "execution_count": null,
      "metadata": {
        "id": "cwrlWDR4frk4"
      },
      "outputs": [],
      "source": []
    },
    {
      "cell_type": "code",
      "execution_count": null,
      "metadata": {
        "colab": {
          "base_uri": "https://localhost:8080/"
        },
        "id": "-mOT34Fxd9tr",
        "outputId": "eaa9a9b1-f9c8-425d-cec3-dd12adc9d423"
      },
      "outputs": [
        {
          "name": "stdout",
          "output_type": "stream",
          "text": [
            "[2, 4, 77, 87, 98, 98, 98, 99, 'Makki']\n",
            "3\n"
          ]
        }
      ],
      "source": [
        "l2 = [2, 4, 77, 87, 98, 98, 98, 99, \"Makki\"]\n",
        "print(l2)                                             #count the same numbers\n",
        "print(l2.count(98))\n"
      ]
    },
    {
      "cell_type": "code",
      "execution_count": null,
      "metadata": {
        "colab": {
          "base_uri": "https://localhost:8080/"
        },
        "id": "ddn7GcNMeWbv",
        "outputId": "27ceb575-ffa5-494b-e393-0e14d334dca4"
      },
      "outputs": [
        {
          "name": "stdout",
          "output_type": "stream",
          "text": [
            "[2, 4, 7, 8, 9, 77, 98, 958]\n"
          ]
        }
      ],
      "source": [
        "l2 = [2, 4, 77, 7, 958, 8, 98, 9]\n",
        "l2.sort()                                          #sorting\n",
        "print(l2)"
      ]
    },
    {
      "cell_type": "code",
      "execution_count": null,
      "metadata": {
        "colab": {
          "base_uri": "https://localhost:8080/"
        },
        "id": "M8MZkb7-fcc2",
        "outputId": "064dba51-c03e-44b9-eab0-e92c6b4a1fe6"
      },
      "outputs": [
        {
          "name": "stdout",
          "output_type": "stream",
          "text": [
            "[]\n"
          ]
        }
      ],
      "source": [
        "l2 = [2, 4, 77, 7, 958, 8, 98, 9]\n",
        "l2.clear()                                          # clear the whole list\n",
        "print(l2)"
      ]
    },
    {
      "cell_type": "code",
      "execution_count": null,
      "metadata": {
        "colab": {
          "base_uri": "https://localhost:8080/"
        },
        "id": "pbieGxH-gIvg",
        "outputId": "5f7eb4aa-c956-4b05-ca8c-3188fa533d39"
      },
      "outputs": [
        {
          "name": "stdout",
          "output_type": "stream",
          "text": [
            "[2, 4, 77, 7, 958, 8, 98, 9, 89, 888, 999, 918]\n"
          ]
        }
      ],
      "source": [
        "l2 = [2, 4, 77, 7, 958, 8, 98, 9]\n",
        "l2.extend([89, 888, 999, 918])                                          # add/ extend the elements\n",
        "print(l2)\n"
      ]
    },
    {
      "cell_type": "code",
      "execution_count": null,
      "metadata": {
        "colab": {
          "base_uri": "https://localhost:8080/"
        },
        "id": "nN_bR155fCDK",
        "outputId": "f7eecb36-9ec8-441b-c131-385d4de898b6"
      },
      "outputs": [
        {
          "name": "stdout",
          "output_type": "stream",
          "text": [
            "[2, 4, 77, 7, 958, 8, 98]\n"
          ]
        }
      ],
      "source": [
        "l2 = [2, 4, 77, 7, 958, 8, 98, 9]\n",
        "l2.pop()                                          # deleting the last element\n",
        "print(l2)"
      ]
    },
    {
      "cell_type": "code",
      "execution_count": null,
      "metadata": {
        "colab": {
          "base_uri": "https://localhost:8080/"
        },
        "id": "fX2o_JFvgxV_",
        "outputId": "c130022f-6e5a-40b4-8d7d-063802a7e728"
      },
      "outputs": [
        {
          "name": "stdout",
          "output_type": "stream",
          "text": [
            "[2, 4, 77, 7, 958, 8, 98, 9]\n",
            "[2, 4, 77]\n"
          ]
        }
      ],
      "source": [
        "l2 = [2, 4, 77, 7, 958, 8, 98, 9]                                          # deleting the last element\n",
        "print(l2)\n",
        "print(l2[0:3])         #0 to 2\n",
        "               #slicing\n"
      ]
    },
    {
      "cell_type": "code",
      "execution_count": null,
      "metadata": {
        "colab": {
          "base_uri": "https://localhost:8080/"
        },
        "id": "iYMoe-trhjvG",
        "outputId": "3e74e593-c152-40f0-d6d2-a59c9dfdeb32"
      },
      "outputs": [
        {
          "name": "stdout",
          "output_type": "stream",
          "text": [
            "(1, 2, 3, 4, 5, 6, 5)\n",
            "2\n"
          ]
        }
      ],
      "source": [
        "#tuples\n",
        "\n",
        "t= (1,2,3,4,5,6,5)\n",
        "print(t)\n",
        "print(t.count(5))\n"
      ]
    },
    {
      "cell_type": "code",
      "execution_count": null,
      "metadata": {
        "colab": {
          "base_uri": "https://localhost:8080/"
        },
        "id": "zG-RQwkYjC-g",
        "outputId": "2131a4ea-d83b-415d-92df-ee3dac933405"
      },
      "outputs": [
        {
          "name": "stdout",
          "output_type": "stream",
          "text": [
            "{4, 5, 6, 7, 9}\n",
            "{4, 5, 7}\n"
          ]
        }
      ],
      "source": [
        "#sets\n",
        "\n",
        "a={4,5,6,7,5,6,9}\n",
        "b={4,7,8,5}\n",
        "print(a)\n",
        "#print(a.pop())                 #randomly delete elements\n",
        "#print(a.union(b))              # union of a and b\n",
        "print(a.intersection(b))        # intersection"
      ]
    },
    {
      "cell_type": "code",
      "execution_count": null,
      "metadata": {
        "colab": {
          "base_uri": "https://localhost:8080/"
        },
        "id": "MGxcpOu8lfcP",
        "outputId": "699975c3-1bc0-4a64-d04c-125628953de3"
      },
      "outputs": [
        {
          "name": "stdout",
          "output_type": "stream",
          "text": [
            "Enter length:6\n",
            "s!k3g1\n"
          ]
        }
      ],
      "source": [
        "#Pasword generator :)\n",
        "\n",
        "\n",
        "import random\n",
        "chars= \"qwertyuiopasdfghjklzxcvbnm1234567890!@#$%^&*()\"\n",
        "length= int (input(\"Enter length:\"))\n",
        "password=\"\"\n",
        "for a in range(length):\n",
        " password+=random.choice(chars)\n",
        "print(password)\n",
        "\n",
        "\n"
      ]
    },
    {
      "cell_type": "code",
      "execution_count": null,
      "metadata": {
        "colab": {
          "base_uri": "https://localhost:8080/"
        },
        "id": "2x90OPJVIxKX",
        "outputId": "9f8b3512-1351-4343-c4b6-3260a833803a"
      },
      "outputs": [
        {
          "name": "stdout",
          "output_type": "stream",
          "text": [
            "Enter the length:78\n",
            "3%zuss@xi1x5wha&w*l^&s&ejp914cka5v@a&65^cx@29h7gigc@4k%wc1f&zkqt9nx8^01p&5zwl5\n"
          ]
        }
      ],
      "source": [
        "import random\n",
        "chars= \"qwertyuiopasdfghjklzxcvbnm1234567890!@#$%^&*()\"\n",
        "length= int (input(\"Enter the length:\"))\n",
        "password=\"\"\n",
        "for a in range(length):\n",
        " password+=random.choice(chars)\n",
        "print(password)"
      ]
    },
    {
      "cell_type": "code",
      "execution_count": null,
      "metadata": {
        "colab": {
          "base_uri": "https://localhost:8080/"
        },
        "id": "Lv6t8S5hMMpo",
        "outputId": "1517557d-8a09-4de3-ef08-42ed3bc757a1"
      },
      "outputs": [
        {
          "name": "stdout",
          "output_type": "stream",
          "text": [
            "87\n",
            "88\n",
            "45\n",
            "None\n",
            "dict_items([('Makki', '87'), ('Awais', '88'), ('Moiz', '45'), ('Fawad', '76'), ('Shahmeer', '81')])\n"
          ]
        }
      ],
      "source": [
        "#Dictionary\n",
        "\n",
        "marks= {\"Makki\": \"87\", \"Awais\": \"88\", \"Moiz\": \"45\", \"Fawad\": \"76\", \"Shahmeer\": \"81\"}\n",
        "print (marks[\"Makki\"])\n",
        "print (marks[\"Awais\"])\n",
        "print (marks[\"Moiz\"])\n",
        "print(marks.get(\"Moiz khan\"))   # if we use.get and find marks of someone they never show us a error they just print none- or if we search normally they gave us a eror if nam e does't exist\n",
        "print (marks.items())        # . item show us a all items that we store in our dictionary"
      ]
    },
    {
      "cell_type": "code",
      "execution_count": null,
      "metadata": {
        "colab": {
          "base_uri": "https://localhost:8080/"
        },
        "id": "lPXRpMF8Qdw2",
        "outputId": "b8589fbb-411b-4afe-965d-915eda39d443"
      },
      "outputs": [
        {
          "name": "stdout",
          "output_type": "stream",
          "text": [
            "Enter your number:3\n",
            "Thank you\n"
          ]
        }
      ],
      "source": [
        "# match case----> it is a new statment in python\n",
        "\n",
        "a= int(input(\"Enter your number:\"))\n",
        "match a:\n",
        "  case 1:\n",
        "    print(\"This is first case\")\n",
        "  case 2:                                   # it is like if else statement\n",
        "    print(\"This is secnd case\")\n",
        "  case _:                                    # case -: it is else statement\n",
        "    print(\"Thank you\")\n"
      ]
    },
    {
      "cell_type": "code",
      "execution_count": null,
      "metadata": {
        "id": "SBk5dfZAaHNQ"
      },
      "outputs": [],
      "source": []
    },
    {
      "cell_type": "code",
      "execution_count": null,
      "metadata": {
        "colab": {
          "base_uri": "https://localhost:8080/"
        },
        "id": "tGWek9b1T3tb",
        "outputId": "3704a779-6cd2-452a-d348-af7209f200f2"
      },
      "outputs": [
        {
          "name": "stdout",
          "output_type": "stream",
          "text": [
            "Enter number:7\n",
            "It's odd\n"
          ]
        }
      ],
      "source": [
        "num= int(input(\"Enter number:\"))\n",
        "if num %2 == 0:\n",
        "  print(\"It's even number!\")\n",
        "else:\n",
        "  print(\"It's odd\")\n",
        "\n",
        "\n"
      ]
    },
    {
      "cell_type": "code",
      "execution_count": null,
      "metadata": {
        "colab": {
          "base_uri": "https://localhost:8080/"
        },
        "id": "Vsq1CZeIQ3eg",
        "outputId": "6cefc123-852c-482c-c4e1-b9ad41aae5d3"
      },
      "outputs": [
        {
          "name": "stdout",
          "output_type": "stream",
          "text": [
            "Enter the num:14\n",
            "Divisible\n"
          ]
        }
      ],
      "source": [
        "#write a program that input a number and find number is divisible by 7 or not\n",
        "num=int(input(\"Enter the num:\"))\n",
        "if num %7 == 0:\n",
        " print(\"Divisible\")\n",
        "else:\n",
        "  print(\"Not divisible\")\n"
      ]
    },
    {
      "cell_type": "code",
      "execution_count": null,
      "metadata": {
        "id": "YovIBfwgZg7v"
      },
      "outputs": [],
      "source": []
    },
    {
      "cell_type": "code",
      "execution_count": null,
      "metadata": {
        "colab": {
          "base_uri": "https://localhost:8080/"
        },
        "id": "JIB_-AKpSOuL",
        "outputId": "a83b0169-6f31-4dcd-ee8e-da16ce5c1562"
      },
      "outputs": [
        {
          "name": "stdout",
          "output_type": "stream",
          "text": [
            "Enter first number:6\n",
            "Enter second number:4\n",
            "Enter third number:1\n",
            "num3 is greater\n"
          ]
        }
      ],
      "source": [
        "# write a program that input two numbers and find maximum / largest of two number\n",
        "num1= int(input(\"Enter first number:\"))\n",
        "num2= int(input(\"Enter second number:\"))\n",
        "num3= int(input(\"Enter third number:\"))\n",
        "if num1<num2 and num1<num3:\n",
        "  print(\"num1 is greater\")\n",
        "elif num2<num1 and num2<num3:\n",
        "   print(\"num2 is greater\")\n",
        "else:\n",
        "   print(\"num3 is greater\")"
      ]
    },
    {
      "cell_type": "code",
      "execution_count": null,
      "metadata": {
        "colab": {
          "base_uri": "https://localhost:8080/"
        },
        "id": "GbBkW--lTxdo",
        "outputId": "263f1a2c-3888-4a98-fa7c-af16f6a29d0c"
      },
      "outputs": [
        {
          "name": "stdout",
          "output_type": "stream",
          "text": [
            "Enter the year:2000\n",
            "year is a leap year\n"
          ]
        }
      ],
      "source": [
        "# write a python program to check wheather a year is lep year or not\n",
        "year=int(input(\"Enter the year:\"))\n",
        "if year %4 ==0:\n",
        "  print(\"year is a leap year\")\n",
        "else:\n",
        "  print(\"year is not a leap year\")\n"
      ]
    },
    {
      "cell_type": "code",
      "execution_count": null,
      "metadata": {
        "colab": {
          "base_uri": "https://localhost:8080/"
        },
        "id": "nLZgGj67VGI7",
        "outputId": "a4815673-184e-492e-8d65-a8d11b3cb4df"
      },
      "outputs": [
        {
          "name": "stdout",
          "output_type": "stream",
          "text": [
            "Enter alphabetz\n",
            "Not vowel\n"
          ]
        }
      ],
      "source": [
        "# write a program  to check wheather a character is vowl or not\n",
        "Ch=(input(\"Enter alphabet\"))\n",
        "if Ch == \"a\" or Ch == \"A\" or Ch == \"e\" or Ch == \"E\" or Ch == \"i\" or Ch == \"I\" or Ch == \"o\" or Ch == \"O\" or Ch == \"u\" or Ch == \"U\":\n",
        "  print(\"Your character is vowel\")\n",
        "else:\n",
        "  print(\"Not vowel\")\n",
        "\n"
      ]
    },
    {
      "cell_type": "code",
      "execution_count": null,
      "metadata": {
        "colab": {
          "base_uri": "https://localhost:8080/"
        },
        "id": "nX0lC8MX0mNg",
        "outputId": "ab108e72-b78d-4f84-a370-d3f56beb8657"
      },
      "outputs": [
        {
          "name": "stdout",
          "output_type": "stream",
          "text": [
            "enter the number:0\n",
            "zero\n"
          ]
        }
      ],
      "source": [
        "#check if a number is positivie or negative\n",
        "num= int(input(\"enter the number:\"))\n",
        "if num > 0:\n",
        "  print(\"Positive number\")\n",
        "elif num < 0:\n",
        "  print(\"Negative number\")\n",
        "else:\n",
        " print(\"zero\")"
      ]
    },
    {
      "cell_type": "code",
      "execution_count": null,
      "metadata": {
        "colab": {
          "base_uri": "https://localhost:8080/"
        },
        "id": "3UwZvcYzDf_h",
        "outputId": "6b37c00e-57dd-47b5-8058-76b8e21391bc"
      },
      "outputs": [
        {
          "name": "stdout",
          "output_type": "stream",
          "text": [
            "Enter number:66\n",
            "Even number\n"
          ]
        }
      ],
      "source": [
        "#Check if a number is even or odd\n",
        "a= int(input(\"Enter number:\"))\n",
        "if a %2 == 0:\n",
        "  print(\"Even number\")\n",
        "else:\n",
        "  print(\"Odd number\")"
      ]
    },
    {
      "cell_type": "code",
      "execution_count": null,
      "metadata": {
        "colab": {
          "base_uri": "https://localhost:8080/"
        },
        "id": "8iqhwKSrFJpI",
        "outputId": "63107d77-d05d-4fb7-a9d0-3fb76efd93fd"
      },
      "outputs": [
        {
          "name": "stdout",
          "output_type": "stream",
          "text": [
            "Enter first number:87\n",
            "Enter second number:55\n",
            "num2 is smallest\n"
          ]
        }
      ],
      "source": [
        "#Find a smallest of two numbers in python\n",
        "num1= int(input(\"Enter first number:\"))\n",
        "num2= int(input(\"Enter second number:\"))\n",
        "\n",
        "if num1 < num2:\n",
        "  print(\"num1 is smallest\")\n",
        "else:\n",
        "   print(\"num2 is smallest\")"
      ]
    },
    {
      "cell_type": "code",
      "execution_count": null,
      "metadata": {
        "colab": {
          "base_uri": "https://localhost:8080/"
        },
        "id": "zSkPLsLSGM2h",
        "outputId": "bcabb7e7-7c45-4ead-c9ea-01f7ac703403"
      },
      "outputs": [
        {
          "name": "stdout",
          "output_type": "stream",
          "text": [
            "Enter first number:99\n",
            "Enter second number:54\n",
            "num1 is largest\n"
          ]
        }
      ],
      "source": [
        "#Find a largest of two numbers in python\n",
        "num1= int(input(\"Enter first number:\"))\n",
        "num2= int(input(\"Enter second number:\"))\n",
        "\n",
        "if num1 > num2:\n",
        "  print(\"num1 is largest\")\n",
        "else:\n",
        "   print(\"num2 is largest\")"
      ]
    },
    {
      "cell_type": "code",
      "execution_count": null,
      "metadata": {
        "colab": {
          "base_uri": "https://localhost:8080/"
        },
        "id": "AQOLyk4fGZb-",
        "outputId": "2913b3f0-1730-4299-debe-b345762cbb9a"
      },
      "outputs": [
        {
          "name": "stdout",
          "output_type": "stream",
          "text": [
            "Enter the number:44\n",
            "Number is not divisible by 7\n"
          ]
        }
      ],
      "source": [
        "#Check if a number is divisible by 7\n",
        "num= int (input(\"Enter the number:\"))\n",
        "if num %7 == 0:\n",
        "  print(\"Number is divisible by 7\")\n",
        "else:\n",
        "  print(\"Number is not divisible by 7\")"
      ]
    },
    {
      "cell_type": "code",
      "execution_count": null,
      "metadata": {
        "colab": {
          "base_uri": "https://localhost:8080/"
        },
        "id": "-OAmFnl7HEbQ",
        "outputId": "2959561c-025d-48f3-e052-e7c99b073bd6"
      },
      "outputs": [
        {
          "name": "stdout",
          "output_type": "stream",
          "text": [
            "Enter the number:44\n",
            "This number (44) is  not divisible by 5\n"
          ]
        }
      ],
      "source": [
        "#Check is a number is divisible by 5\n",
        "num= int (input(\"Enter the number:\"))\n",
        "if num %5 == 0:\n",
        "  print(f\"This number ({num}) is  divisible by 5\")\n",
        "else:\n",
        "  print(f\"This number ({num}) is  not divisible by 5\")"
      ]
    },
    {
      "cell_type": "code",
      "execution_count": null,
      "metadata": {
        "colab": {
          "base_uri": "https://localhost:8080/"
        },
        "id": "gsuZ7KchIXpq",
        "outputId": "139885cf-9885-4610-d7ff-ef545a3c0ac1"
      },
      "outputs": [
        {
          "name": "stdout",
          "output_type": "stream",
          "text": [
            "Enter the number:25\n",
            "Number is divisible by 3 and 5\n"
          ]
        }
      ],
      "source": [
        "#check if a number is both divisible bt 3 and 5\n",
        "num= int(input(\"Enter the number:\"))\n",
        "if num %3 == 0 or num %5 == 0:\n",
        "  print(\"Number is divisible by 3 and 5\")\n",
        "else:\n",
        "  print(\"Number is not divisible by 3 and 5\")"
      ]
    },
    {
      "cell_type": "code",
      "execution_count": null,
      "metadata": {
        "colab": {
          "base_uri": "https://localhost:8080/"
        },
        "id": "9CwQbNDSKg1l",
        "outputId": "eecf3569-d0c8-4785-f57f-d1874ce4c617"
      },
      "outputs": [
        {
          "name": "stdout",
          "output_type": "stream",
          "text": [
            "Enter the number:987\n",
            "Number is greater then 100\n"
          ]
        }
      ],
      "source": [
        "#check if a number is greater then 100\n",
        "num= int(input(\"Enter the number:\"))\n",
        "if num > 100:\n",
        "  print(\"Number is greater then 100\")\n",
        "else:\n",
        "  print(\"Numb er is  not greater then 100\")"
      ]
    },
    {
      "cell_type": "code",
      "execution_count": null,
      "metadata": {
        "colab": {
          "base_uri": "https://localhost:8080/"
        },
        "id": "raVYrsyzLLyt",
        "outputId": "993961b1-07ef-4471-e701-e11b0abc921f"
      },
      "outputs": [
        {
          "name": "stdout",
          "output_type": "stream",
          "text": [
            "Enter the number:21\n",
            "Number is less then 50\n"
          ]
        }
      ],
      "source": [
        "#Check if a number is less then 50\n",
        "num= int(input(\"Enter the number:\"))\n",
        "if num < 50:\n",
        "  print(\"Number is less then 50\")\n",
        "else:\n",
        "  print(\"Number is  greater then 50\")"
      ]
    },
    {
      "cell_type": "code",
      "execution_count": null,
      "metadata": {
        "colab": {
          "base_uri": "https://localhost:8080/"
        },
        "id": "7ZHIRt80LkkD",
        "outputId": "eee30316-ec56-4b59-ff14-3e8296b25074"
      },
      "outputs": [
        {
          "name": "stdout",
          "output_type": "stream",
          "text": [
            "Please enter your age:12\n",
            "Person is not eligible to vote\n"
          ]
        }
      ],
      "source": [
        "#Check if a person is eligible to vote\n",
        "age= int(input(\"Please enter your age:\"))\n",
        "if age >= 18:\n",
        "  print(\"Person is eligible for vote\")\n",
        "else:\n",
        "  print(\"Person is not eligible for vote\")\n"
      ]
    },
    {
      "cell_type": "code",
      "execution_count": null,
      "metadata": {
        "colab": {
          "base_uri": "https://localhost:8080/"
        },
        "id": "impRoMgWMcgI",
        "outputId": "398dca0e-1250-40b7-debb-3a6d3046a395"
      },
      "outputs": [
        {
          "name": "stdout",
          "output_type": "stream",
          "text": [
            "Enter your marks40\n",
            "Student is failed\n"
          ]
        }
      ],
      "source": [
        "#Check if a student is passed or failed <=40\n",
        "marks= int(input(\"Enter your marks\"))\n",
        "if marks <= 40:\n",
        "  print(\"Student is failed\")\n",
        "else:\n",
        "  print(\"Student is passed\")\n"
      ]
    },
    {
      "cell_type": "code",
      "execution_count": null,
      "metadata": {
        "colab": {
          "base_uri": "https://localhost:8080/"
        },
        "id": "5uFyjaY7Nft3",
        "outputId": "0fbaad03-91fc-48a2-b0be-71c348588dca"
      },
      "outputs": [
        {
          "name": "stdout",
          "output_type": "stream",
          "text": [
            "Enter your marks:86\n",
            "Student got distinction\n"
          ]
        }
      ],
      "source": [
        "#check if a student got a distinction (marks>=80)\n",
        "marks= int(input(\"Enter your marks:\"))\n",
        "if marks >= 80:\n",
        "  print(\"Student got distinction\")\n",
        "else:\n",
        "  print(\"Srudent didn't got distinction\")\n"
      ]
    },
    {
      "cell_type": "code",
      "execution_count": null,
      "metadata": {
        "colab": {
          "base_uri": "https://localhost:8080/"
        },
        "id": "t_wORG3B0x5Z",
        "outputId": "39eb2c2c-943c-48ec-d36f-2aea14dfa7f1"
      },
      "outputs": [
        {
          "name": "stdout",
          "output_type": "stream",
          "text": [
            "Enter the numbers:765\n",
            "It's more then double digit\n"
          ]
        }
      ],
      "source": [
        "# Check if a number is single digit or double digit\n",
        "num=int(input(\"Enter the numbers:\"))\n",
        "if num <= 9 or num <= -9:\n",
        "  print(\"It's a single digit\")\n",
        "elif num >= 10 and num <= 99:\n",
        "  print(\"It's a double digit\")\n",
        "else:\n",
        "  print(\"It's more then double digit\")"
      ]
    },
    {
      "cell_type": "code",
      "execution_count": null,
      "metadata": {
        "colab": {
          "base_uri": "https://localhost:8080/"
        },
        "id": "B22fnhGJ3Dl2",
        "outputId": "c3106542-ce5b-40a9-def5-6595010d56fa"
      },
      "outputs": [
        {
          "name": "stdout",
          "output_type": "stream",
          "text": [
            "Enter the numbers:8765\n",
            "It's not three digit\n"
          ]
        }
      ],
      "source": [
        "# Check if a number is three digit or not\n",
        "num=int(input(\"Enter the numbers:\"))\n",
        "if num >= 100 and num <= 999:\n",
        "  print(\"It's a three digit\")\n",
        "else:\n",
        "   print(\"It's not three digit\")"
      ]
    },
    {
      "cell_type": "code",
      "execution_count": null,
      "metadata": {
        "colab": {
          "base_uri": "https://localhost:8080/"
        },
        "id": "qwBB2iiI4MeD",
        "outputId": "d98f08b8-dadf-47eb-fcfa-b6fd619f3a62"
      },
      "outputs": [
        {
          "name": "stdout",
          "output_type": "stream",
          "text": [
            "Enter a single letter: a\n",
            "It's lower case letter\n"
          ]
        }
      ],
      "source": [
        "#Check if a letter is uppercase or lower case\n",
        "ch = input(\"Enter a single letter: \")\n",
        "if ch.isupper():\n",
        "  print(\"It's upper letter\")\n",
        "elif ch.islower():\n",
        "  print(\"It's lower case letter\")\n",
        "else:\n",
        "    print(\"It's not letter\")"
      ]
    },
    {
      "cell_type": "code",
      "execution_count": null,
      "metadata": {
        "colab": {
          "base_uri": "https://localhost:8080/"
        },
        "id": "pikX0T5d86CF",
        "outputId": "be8a3c74-116d-464f-c7cf-32340350b5b2"
      },
      "outputs": [
        {
          "name": "stdout",
          "output_type": "stream",
          "text": [
            "Makki\n",
            "Makki\n",
            "Makki\n",
            "Makki\n",
            "Makki\n",
            "Makki\n",
            "Makki\n",
            "Makki\n",
            "Makki\n",
            "Makki\n"
          ]
        }
      ],
      "source": [
        "#Loop\n",
        "#write a progr4am that display your name 10 times\n",
        "name= \"Makki\"\n",
        "n=int(1)\n",
        "while n<=10:\n",
        "  print(name)\n",
        "  n=n+1"
      ]
    },
    {
      "cell_type": "code",
      "execution_count": null,
      "metadata": {
        "colab": {
          "base_uri": "https://localhost:8080/"
        },
        "id": "UqpAUertLO9Q",
        "outputId": "c4f4c8d2-eecb-476e-f609-574d8173ff16"
      },
      "outputs": [
        {
          "name": "stdout",
          "output_type": "stream",
          "text": [
            "Enter your name:Ali\n",
            "Ali\n",
            "Ali\n",
            "Ali\n",
            "Ali\n",
            "Ali\n",
            "Ali\n",
            "Ali\n",
            "Ali\n",
            "Ali\n",
            "Ali\n",
            "Ali\n"
          ]
        }
      ],
      "source": [
        "name=input(\"Enter your name:\")\n",
        "n=10\n",
        "while n<= 20:\n",
        "  print(name)\n",
        "  n=n+1"
      ]
    },
    {
      "cell_type": "markdown",
      "metadata": {
        "id": "iMVNFdZJMekA"
      },
      "source": []
    },
    {
      "cell_type": "markdown",
      "metadata": {
        "id": "rF-8OLEIMeeG"
      },
      "source": []
    },
    {
      "cell_type": "code",
      "execution_count": null,
      "metadata": {
        "colab": {
          "base_uri": "https://localhost:8080/"
        },
        "id": "eVk41C3CLjfW",
        "outputId": "50ecef04-b553-4cbc-cb89-921e0bc23688"
      },
      "outputs": [
        {
          "name": "stdout",
          "output_type": "stream",
          "text": [
            "1\n",
            "2\n",
            "3\n",
            "4\n",
            "5\n",
            "6\n",
            "7\n",
            "8\n",
            "9\n",
            "10\n",
            "11\n",
            "12\n",
            "13\n",
            "14\n",
            "15\n",
            "16\n",
            "17\n",
            "18\n",
            "19\n",
            "20\n",
            "21\n",
            "22\n",
            "23\n",
            "24\n",
            "25\n"
          ]
        }
      ],
      "source": [
        "#Write a program that display number between 1-25 in while loop\n",
        "n=1\n",
        "while n <= 25:\n",
        "  print(n)\n",
        "  n=n+1"
      ]
    },
    {
      "cell_type": "code",
      "execution_count": null,
      "metadata": {
        "colab": {
          "base_uri": "https://localhost:8080/"
        },
        "id": "n0BzUjnML_yP",
        "outputId": "7a321bf0-79d6-4199-8529-905b36ef5bbb"
      },
      "outputs": [
        {
          "name": "stdout",
          "output_type": "stream",
          "text": [
            "0\n",
            "2\n",
            "4\n",
            "6\n",
            "8\n",
            "10\n",
            "12\n",
            "14\n",
            "16\n",
            "18\n",
            "20\n",
            "22\n",
            "24\n"
          ]
        }
      ],
      "source": [
        "##Write a program that display number between 1-25 in for loop\n",
        "n=1\n",
        "for n in range (0,25,2):\n",
        "  print(n)"
      ]
    },
    {
      "cell_type": "markdown",
      "metadata": {
        "id": "fDrupLWjPRAI"
      },
      "source": []
    },
    {
      "cell_type": "code",
      "execution_count": null,
      "metadata": {
        "colab": {
          "base_uri": "https://localhost:8080/"
        },
        "id": "BPbp7hcUPPph",
        "outputId": "c0d6b3f7-04f0-408a-db60-3296181d83d9"
      },
      "outputs": [
        {
          "name": "stdout",
          "output_type": "stream",
          "text": [
            "Enter your marks:65\n",
            "sum of subject 1 = 65\n",
            "Enter your marks:55\n",
            "sum of subject 1 = 120\n",
            "Enter your marks:67\n",
            "sum of subject 1 = 187\n",
            "Enter your marks:87\n",
            "sum of subject 1 = 274\n",
            "Enter your marks:88\n",
            "sum of subject 1 = 362\n",
            "Fail\n",
            "Sum opf subject 362\n"
          ]
        }
      ],
      "source": [
        "#Writw a program that7 input a 5 subject marks calculate their sum and avetrage and display their grade\n",
        "\n",
        "n=1\n",
        "sum =0\n",
        "\n",
        "for i in range(0,5):\n",
        "  marks=int(input(\"Enter your marks:\"))\n",
        "  sum=sum+marks\n",
        "  print(\"sum of subject\",n, \"=\" ,sum)\n",
        "average= total/5\n",
        "if average >= 80:\n",
        "  print(\"A+\")\n",
        "elif average >= 70 and average <80:\n",
        "  print(\"A\")\n",
        "elif average >= 60 and average < 70:\n",
        "  print(\"B\")\n",
        "elif average >= 50 and average < 60:\n",
        "  print(\"C\")\n",
        "else:\n",
        "  print(\"Fail\")\n",
        "print(\"Sum opf subject\", sum)\n",
        "print(\"average opf subject\", average)"
      ]
    },
    {
      "cell_type": "code",
      "execution_count": null,
      "metadata": {
        "colab": {
          "base_uri": "https://localhost:8080/"
        },
        "id": "0_eFgOQ3Hldu",
        "outputId": "2f730a9f-6c90-431d-b77c-dad71e2a55f8"
      },
      "outputs": [
        {
          "name": "stdout",
          "output_type": "stream",
          "text": [
            "Enter your marks:67\n",
            "Sum of subject 1 = 67\n",
            "Enter your marks:77\n",
            "Sum of subject 2 = 144\n",
            "Enter your marks:87\n",
            "Sum of subject 3 = 231\n",
            "Enter your marks:76\n",
            "Sum of subject 4 = 307\n",
            "Enter your marks:66\n",
            "Sum of subject 5 = 373\n",
            "B Grade\n",
            "Total sum 373\n",
            "Average of marks is: 74.6\n"
          ]
        }
      ],
      "source": [
        "\n",
        "sum=0\n",
        "for i in range (1,6):\n",
        "  marks =int(input(\"Enter your marks:\"))\n",
        "  sum= sum + marks\n",
        "  print(\"Sum of subject\", i, \"=\", sum)\n",
        "average= sum/5\n",
        "\n",
        "if average >=80:\n",
        "  print(\"A Grade\")\n",
        "elif average >= 70:\n",
        "  print(\"B Grade\")\n",
        "elif average >=60:\n",
        "  print(\"C Grade\")\n",
        "elif average >= 50:\n",
        "  print(\"D Grade\")\n",
        "else:\n",
        "  print(\"Fail\")\n",
        "\n",
        "print(\"Total sum\", sum )\n",
        "print(\"Average of marks is:\", average)"
      ]
    },
    {
      "cell_type": "code",
      "execution_count": null,
      "metadata": {
        "colab": {
          "base_uri": "https://localhost:8080/"
        },
        "id": "DAyZOUylWHH_",
        "outputId": "4eba5e93-74b9-436d-a88a-ce25425c94b5"
      },
      "outputs": [
        {
          "name": "stdout",
          "output_type": "stream",
          "text": [
            "7\n",
            "14\n",
            "21\n",
            "28\n",
            "35\n",
            "42\n",
            "49\n",
            "56\n",
            "63\n",
            "70\n",
            "77\n",
            "84\n",
            "91\n",
            "98\n"
          ]
        }
      ],
      "source": [
        "#Wite a python program that print all numbers 1-100 that are divisible by 7\n",
        "n= int(1)\n",
        "while n <=100:\n",
        "  if n %7 == 0:\n",
        "    print(n)\n",
        "  n += 1\n"
      ]
    },
    {
      "cell_type": "code",
      "execution_count": null,
      "metadata": {
        "colab": {
          "base_uri": "https://localhost:8080/"
        },
        "id": "aZZKn08PYkj8",
        "outputId": "a3aee393-6a09-49e8-f7f2-46eab6f2e2d1"
      },
      "outputs": [
        {
          "name": "stdout",
          "output_type": "stream",
          "text": [
            "5* 1 = 5\n",
            "5* 2 = 10\n",
            "5* 3 = 15\n",
            "5* 4 = 20\n",
            "5* 5 = 25\n",
            "5* 6 = 30\n",
            "5* 7 = 35\n",
            "5* 8 = 40\n",
            "5* 9 = 45\n",
            "5* 10 = 50\n"
          ]
        }
      ],
      "source": [
        "#Table of 5\n",
        "for i in range(1,11):\n",
        "  print(\"5*\",i, \"=\", 5*i)"
      ]
    },
    {
      "cell_type": "code",
      "execution_count": null,
      "metadata": {
        "colab": {
          "base_uri": "https://localhost:8080/"
        },
        "id": "DRafBxhLLYcN",
        "outputId": "7af8004f-6c40-49fb-face-dc8b036a2f18"
      },
      "outputs": [
        {
          "name": "stdout",
          "output_type": "stream",
          "text": [
            "5* 1 = 5\n",
            "5* 2 = 10\n",
            "5* 3 = 15\n",
            "5* 4 = 20\n",
            "5* 5 = 25\n",
            "5* 6 = 30\n",
            "5* 7 = 35\n",
            "5* 8 = 40\n",
            "5* 9 = 45\n",
            "5* 10 = 50\n"
          ]
        }
      ],
      "source": [
        "for i in range(1,11):\n",
        "  print(\"5*\", i, \"=\", 5*i )"
      ]
    },
    {
      "cell_type": "code",
      "execution_count": null,
      "metadata": {
        "colab": {
          "base_uri": "https://localhost:8080/"
        },
        "id": "dEBq77dZMLrP",
        "outputId": "e74f0667-c98d-45b2-bee6-c473bafbc77c"
      },
      "outputs": [
        {
          "name": "stdout",
          "output_type": "stream",
          "text": [
            "5 * 1 = 5\n",
            "5 * 2 = 10\n",
            "5 * 3 = 15\n",
            "5 * 4 = 20\n",
            "5 * 5 = 25\n",
            "5 * 6 = 30\n",
            "5 * 7 = 35\n",
            "5 * 8 = 40\n",
            "5 * 9 = 45\n",
            "5 * 10 = 50\n"
          ]
        }
      ],
      "source": [
        "i=1\n",
        "while i <=10:\n",
        "  print(\"5\",\"*\", i, \"=\", 5*i)\n",
        "  i += 1"
      ]
    },
    {
      "cell_type": "code",
      "execution_count": null,
      "metadata": {
        "colab": {
          "base_uri": "https://localhost:8080/"
        },
        "id": "MNIXKrVeMqha",
        "outputId": "2aaea6f7-aea2-4011-df45-0abbcc74c2ae"
      },
      "outputs": [
        {
          "name": "stdout",
          "output_type": "stream",
          "text": [
            "Enter your number:9\n",
            "Enter your length:10\n",
            "9 * 1 = 9\n",
            "9 * 2 = 18\n",
            "9 * 3 = 27\n",
            "9 * 4 = 36\n",
            "9 * 5 = 45\n",
            "9 * 6 = 54\n",
            "9 * 7 = 63\n",
            "9 * 8 = 72\n",
            "9 * 9 = 81\n",
            "9 * 10 = 90\n"
          ]
        }
      ],
      "source": [
        "number= int(input(\"Enter your number:\"))\n",
        "len=int(input(\"Enter your length:\"))\n",
        "i=1\n",
        "while i <= len:\n",
        "  print(number,\"*\", i, \"=\", number*i)\n",
        "  i += 1"
      ]
    },
    {
      "cell_type": "code",
      "execution_count": null,
      "metadata": {
        "colab": {
          "base_uri": "https://localhost:8080/"
        },
        "id": "Y-5MKQfrPQpg",
        "outputId": "c44dcdbb-988c-4eed-b0b1-fc0baea827ef"
      },
      "outputs": [
        {
          "name": "stdout",
          "output_type": "stream",
          "text": [
            "Enter your number:11\n",
            "Enter your length10\n",
            "11 * 1 = 11\n",
            "11 * 2 = 22\n",
            "11 * 3 = 33\n",
            "11 * 4 = 44\n",
            "11 * 5 = 55\n",
            "11 * 6 = 66\n",
            "11 * 7 = 77\n",
            "11 * 8 = 88\n",
            "11 * 9 = 99\n",
            "11 * 10 = 110\n"
          ]
        }
      ],
      "source": [
        "number=int(input(\"Enter your number:\"))\n",
        "len= int(input(\"Enter your length\"))\n",
        "i=1\n",
        "while i <= len:\n",
        "  print(number,\"*\", i, \"=\", number*i)\n",
        "  i+= 1"
      ]
    },
    {
      "cell_type": "code",
      "execution_count": null,
      "metadata": {
        "colab": {
          "base_uri": "https://localhost:8080/"
        },
        "id": "oXqx8MauP1I_",
        "outputId": "e7ebfe23-1012-4a7c-fceb-c9e12207e3df"
      },
      "outputs": [
        {
          "name": "stdout",
          "output_type": "stream",
          "text": [
            "Enter your number:9\n",
            "Enter your len10\n",
            "9 * 1 = 9\n",
            "9 * 2 = 18\n",
            "9 * 3 = 27\n",
            "9 * 4 = 36\n",
            "9 * 5 = 45\n",
            "9 * 6 = 54\n",
            "9 * 7 = 63\n",
            "9 * 8 = 72\n",
            "9 * 9 = 81\n"
          ]
        }
      ],
      "source": [
        "number =int(input(\"Enter your number:\"))\n",
        "len=int(input(\"Enter your len\"))\n",
        "for i in range (1,len):\n",
        " print(number,\"*\", i, \"=\", number*i)"
      ]
    },
    {
      "cell_type": "code",
      "execution_count": null,
      "metadata": {
        "colab": {
          "base_uri": "https://localhost:8080/"
        },
        "id": "B5J5syg_QxGE",
        "outputId": "ee64f7ea-78b4-4df0-9a9a-25425d03dd6a"
      },
      "outputs": [
        {
          "name": "stdout",
          "output_type": "stream",
          "text": [
            "Enter your marks:78\n",
            "Subject marks is 1 = 78\n",
            "Enter your marks:79\n",
            "Subject marks is 2 = 157\n",
            "Enter your marks:87\n",
            "Subject marks is 3 = 244\n",
            "Enter your marks:86\n",
            "Subject marks is 4 = 330\n",
            "Enter your marks:55\n",
            "Subject marks is 5 = 385\n",
            "B Grade\n",
            "Total sum is : 385\n",
            "Total average is: 77.0\n"
          ]
        }
      ],
      "source": [
        "sum =0\n",
        "i=1\n",
        "while i <= 5:\n",
        "  marks=int(input(\"Enter your marks:\"))\n",
        "  sum = sum + marks\n",
        "  print(\"Subject marks is\", i, \"=\", sum)\n",
        "  i+=1\n",
        "average = sum/5\n",
        "if average >= 80:\n",
        "  print(\"A Grade\")\n",
        "elif average >=70:\n",
        "  print(\"B Grade\")\n",
        "elif average >= 60:\n",
        "  print(\"C Grade\")\n",
        "else:\n",
        "  print(\"Fail\")\n",
        "\n",
        "print(\"Total sum is :\", sum)\n",
        "print(\"Total average is:\", average)\n",
        "\n"
      ]
    },
    {
      "cell_type": "code",
      "execution_count": null,
      "metadata": {
        "colab": {
          "base_uri": "https://localhost:8080/"
        },
        "id": "mKhe74YGWYS0",
        "outputId": "aa22df02-45ca-4f23-9690-43ff751805d5"
      },
      "outputs": [
        {
          "name": "stdout",
          "output_type": "stream",
          "text": [
            "Enter your number:234567\n",
            "Reversed number 765432\n"
          ]
        }
      ],
      "source": [
        "# Reverse  a number\n",
        "num=(input(\"Enter your number:\"))\n",
        "rev= num[::-1]            # int is not subscriable in reverse a number\n",
        "print(\"Reversed number\", rev)"
      ]
    },
    {
      "cell_type": "code",
      "execution_count": null,
      "metadata": {
        "id": "P3ihw8xfXfJ3"
      },
      "outputs": [],
      "source": [
        "# print a line of 10*\n",
        "i=1\n",
        "while i <= 10:\n",
        "  print(i**)\n",
        "  i+=1"
      ]
    },
    {
      "cell_type": "code",
      "execution_count": null,
      "metadata": {
        "colab": {
          "base_uri": "https://localhost:8080/"
        },
        "id": "kmdYErSuZzm7",
        "outputId": "37bab6fd-8977-4e93-c85c-09f88bf60136"
      },
      "outputs": [
        {
          "name": "stdout",
          "output_type": "stream",
          "text": [
            "Enter a  number:5\n",
            "Enter the length of table:4\n",
            "5 * 1 = 5\n",
            "5 * 2 = 10\n",
            "5 * 3 = 15\n",
            "5 * 4 = 20\n"
          ]
        }
      ],
      "source": [
        "#table of 5 whil3\n",
        "number = int(input(\"Enter a  number:\"))\n",
        "len=int(input(\"Enter the length of table:\"))\n",
        "n=int(1)\n",
        "while (n<=len):\n",
        "  print(number, \"*\",n, \"=\" ,number*n)\n",
        "  n=n+1"
      ]
    },
    {
      "cell_type": "code",
      "execution_count": null,
      "metadata": {
        "colab": {
          "base_uri": "https://localhost:8080/"
        },
        "id": "DKsrQ0sAXpgA",
        "outputId": "a3353f1c-859b-460f-ef66-967909a19da7"
      },
      "outputs": [
        {
          "name": "stdout",
          "output_type": "stream",
          "text": [
            "1\n",
            "2\n",
            "3\n",
            "4\n",
            "5\n",
            "6\n",
            "7\n",
            "8\n",
            "9\n",
            "10\n",
            "Sum 55\n"
          ]
        }
      ],
      "source": [
        "number = int (1)\n",
        "sum= int(0)\n",
        "while number <= 10:\n",
        "  print (number)\n",
        "  sum= sum+number\n",
        "  number=number+1\n",
        "print(\"Sum\", sum)"
      ]
    },
    {
      "cell_type": "code",
      "execution_count": null,
      "metadata": {
        "colab": {
          "base_uri": "https://localhost:8080/"
        },
        "id": "p8B8nKaSdAhg",
        "outputId": "2884b7fb-8759-44ce-c7e8-5f9b21dc2341"
      },
      "outputs": [
        {
          "name": "stdout",
          "output_type": "stream",
          "text": [
            "Please enter H for home and C for commercial   H/C:H\n",
            "Please enter your units:250\n",
            "======================================================\n",
            "Your units 250\n",
            "Your rate 20\n",
            "This month you used total: 250 units and your total bill for this month is : 5000\n",
            "=======================================================\n"
          ]
        }
      ],
      "source": [
        "#nummber of units as a input and display bill\n",
        "#1st choose 2 options (Home vs Commercial)\n",
        "#If Home\n",
        "#unit(0-100)----> )7Rs per unit\n",
        "#unit(101-200)----> )10Rs per unit\n",
        "#unit(>200)----> )20Rs per unit\n",
        "\n",
        "#If commercial\n",
        "#unit(0-100)----> )15Rs per unit\n",
        "#unit(101-200)----> )25Rs per unit\n",
        "#unit(>200)----> )30Rs per unit\n",
        "\n",
        "choice= input(\"Please enter H for home and C for commercial   H/C:\")\n",
        "units=int(input(\"Please enter your units:\"))\n",
        "if choice == \"h\" or choice == \"H\":\n",
        "  if units > 0 and units <= 100:\n",
        "    rate = 7\n",
        "    bill = rate * units       #Formula\n",
        "  elif units >= 101 and units <= 200:\n",
        "    rate = 10\n",
        "    bill= rate * units    # formula\n",
        "  else:\n",
        "    rate = 20\n",
        "    bill= rate * units          # Formula\n",
        "\n",
        "\n",
        "elif choice == \"c\" or choice == \"C\":\n",
        "\n",
        "  if units > 0 and units <= 100:\n",
        "    rate = 15\n",
        "    bill = rate * units           # Formula\n",
        "  elif units >= 101 and units <= 200:\n",
        "    rate = 25\n",
        "    bill= rate * units           #Formula\n",
        "  else:\n",
        "    rate = 30\n",
        "    bill= rate * units              #Formula\n",
        "\n",
        "else:\n",
        "  print(\"Typo error choose between H/C\")\n",
        "\n",
        "\n",
        "\n",
        "print(\"======================================================\")\n",
        "print(\"Your units\", units)\n",
        "print(\"Your rate\", rate)\n",
        "print(f\"This month you used total: {units} units and your total bill for this month is : {bill}\")\n",
        "print(\"=======================================================\")\n",
        "\n"
      ]
    },
    {
      "cell_type": "code",
      "execution_count": null,
      "metadata": {
        "colab": {
          "base_uri": "https://localhost:8080/"
        },
        "id": "WupIubR-n22K",
        "outputId": "4662573a-93f1-454a-d5f5-4383b3b5e239"
      },
      "outputs": [
        {
          "name": "stdout",
          "output_type": "stream",
          "text": [
            "Enter H for home and B for bsiness H/B:b\n",
            "Please enter number of Gb's you used this month:300\n",
            "========================================\n",
            "Your total data_uase: 300\n",
            "Your rate 1000\n",
            "this month you used total :300 and your total bill  for this month is 300000\n",
            "=========================================\n"
          ]
        }
      ],
      "source": [
        "# Question 2: Internet Package Bill\n",
        "#Write a Python program that:\n",
        "#Asks the user to choose package type → Home (H) or Business (B).\n",
        "#Inputs the number of GBs used in the month.\n",
        "#Calculates the bill as follows:\n",
        "\n",
        "#Home (H):\n",
        "#0–100 GB → Rs. 50 per GB\n",
        "#101–500 GB → Rs. 40 per GB\n",
        "#Above 500 GB → Rs. 30 per GB\n",
        "\n",
        "#Business (B):\n",
        "#0–100 GB → Rs. 80 per GB\n",
        "#101–500 GB → Rs. 60 per GB\n",
        "#Above 500 GB → Rs. 50 per GB\n",
        "\n",
        "choice =(input(\"Enter H for home and B for bsiness H/B:\"))\n",
        "data_usage= int (input(\"Please enter number of Gb's you used this month:\"))\n",
        "bill=0\n",
        "if choice == \"h\" or choice == \"H\":\n",
        "  if data_usage > 0 and data_usage <=100:\n",
        "    rate= 500\n",
        "    bill= rate * data_usage\n",
        "\n",
        "  elif data_usage > 101 and data_usage <=500:\n",
        "    rate = 700\n",
        "    bill= rate * data_usage\n",
        "\n",
        "  elif data_usage > 500:\n",
        "    rate= 1000\n",
        "    bill= rate * data_usage\n",
        "\n",
        "\n",
        "elif choice == \"b\" or choice == \"B\":\n",
        "  if data_usage > 0 and data_usage <=100:\n",
        "    rate= 700\n",
        "    bill= rate * data_usage\n",
        "\n",
        "  elif data_usage > 101 and data_usage <=500:\n",
        "    rate = 1000\n",
        "    bill= rate * data_usage\n",
        "\n",
        "  elif data_usage > 500:\n",
        "     rate= 1500\n",
        "     bill= rate * data_usage\n",
        "\n",
        "else:\n",
        "  print(\"It's a typo mistake choose between H/B\")\n",
        "\n",
        "\n",
        "print(\"========================================\")\n",
        "print(\"Your total data_usage:\", data_usage)\n",
        "print(\"Your rate\", rate)\n",
        "print(f\"this month you used total :{data_usage} Gb's and your total bill  for this month is {bill}\")\n",
        "print(\"=========================================\")"
      ]
    },
    {
      "cell_type": "code",
      "execution_count": null,
      "metadata": {
        "colab": {
          "base_uri": "https://localhost:8080/"
        },
        "id": "-3AuU7X0lyR1",
        "outputId": "220351ac-50af-4a96-dcb1-0e5289871285"
      },
      "outputs": [
        {
          "name": "stdout",
          "output_type": "stream",
          "text": [
            "Please enter n value:40\n",
            "1\n",
            "2\n",
            "3\n",
            "4\n",
            "5\n",
            "6\n",
            "7\n",
            "8\n",
            "9\n",
            "10\n",
            "11\n",
            "12\n",
            "13\n",
            "14\n",
            "15\n",
            "16\n",
            "17\n",
            "18\n",
            "19\n",
            "20\n",
            "21\n",
            "22\n",
            "23\n",
            "24\n",
            "25\n",
            "26\n",
            "27\n",
            "28\n",
            "29\n",
            "30\n",
            "31\n",
            "32\n",
            "33\n",
            "34\n",
            "35\n",
            "36\n",
            "37\n",
            "38\n",
            "39\n",
            "40\n",
            "The sum is divisible by 4 is  820\n"
          ]
        }
      ],
      "source": [
        "# write a proram that start a number from 1 to n and calculate the sum of number which are divisible b y4\n",
        "\n",
        "sum=0\n",
        "num=1\n",
        "n = int (input(\"Please enter n value:\"))\n",
        "while num <= n:\n",
        "  if num %4 == 0:\n",
        "    print(num)\n",
        "    sum= sum+ num\n",
        "  num += 1\n",
        "print(\"The sum is divisible by 4 is \", sum)\n",
        "\n"
      ]
    },
    {
      "cell_type": "code",
      "execution_count": null,
      "metadata": {
        "colab": {
          "base_uri": "https://localhost:8080/"
        },
        "id": "1uoLQAzcvacD",
        "outputId": "ec3e2481-8a3b-4c45-c66f-bbdcd860fbd2"
      },
      "outputs": [
        {
          "name": "stdout",
          "output_type": "stream",
          "text": [
            "Enter your n value:40\n",
            "4\n",
            "8\n",
            "12\n",
            "16\n",
            "20\n",
            "24\n",
            "28\n",
            "32\n",
            "36\n",
            "40\n",
            "Total sum after divisible by 4 is: 220\n"
          ]
        }
      ],
      "source": [
        "sum=0\n",
        "num=1\n",
        "n=int(input(\"Enter your n value:\"))\n",
        "while num <= n:\n",
        "  if num %4 == 0:\n",
        "    print(num)\n",
        "    sum= sum+num\n",
        "  num += 1\n",
        "print(\"Total sum after divisible by 4 is:\", sum)"
      ]
    },
    {
      "cell_type": "code",
      "execution_count": null,
      "metadata": {
        "colab": {
          "base_uri": "https://localhost:8080/"
        },
        "id": "9v4r-qF7aJm-",
        "outputId": "a60f4e68-89c9-46ce-90e3-a07786bd2847"
      },
      "outputs": [
        {
          "name": "stdout",
          "output_type": "stream",
          "text": [
            "0\n",
            "1\n",
            "2\n",
            "3\n",
            "4\n",
            "22\n",
            "32\n",
            "54\n",
            "22\n",
            "98\n"
          ]
        }
      ],
      "source": [
        "#for loop\n",
        "for i in range(5):\n",
        " print(i)\n",
        "\n",
        "a=[22, 32, 54, 22, 98]\n",
        "for item in a:\n",
        " print(item)"
      ]
    },
    {
      "cell_type": "code",
      "execution_count": null,
      "metadata": {
        "colab": {
          "base_uri": "https://localhost:8080/"
        },
        "id": "Siz_B6rFc4EV",
        "outputId": "0452f878-7c52-4529-efbd-218634d2ab5b"
      },
      "outputs": [
        {
          "name": "stdout",
          "output_type": "stream",
          "text": [
            "1\n",
            "2\n",
            "3\n",
            "4\n",
            "5\n",
            "6\n",
            "7\n",
            "8\n",
            "9\n"
          ]
        }
      ],
      "source": [
        "#while loop\n",
        "i=1\n",
        "while(i<10):\n",
        " print(i)\n",
        " i+= 1"
      ]
    },
    {
      "cell_type": "code",
      "execution_count": null,
      "metadata": {
        "colab": {
          "base_uri": "https://localhost:8080/"
        },
        "id": "jIGf0NJvQbhA",
        "outputId": "29de5d72-94f4-4409-94ff-62c61a25c2f7"
      },
      "outputs": [
        {
          "name": "stdout",
          "output_type": "stream",
          "text": [
            "abc\n",
            "[10, 20, 'abc', 50]\n",
            "[10, 20, 'abc', 50, 20, 90]\n"
          ]
        }
      ],
      "source": [
        "# 23-08-25\n",
        "#Lists\n",
        "L1= [10,20, \"abc\"]\n",
        "print(L1[2])\n",
        "L1.append(50)    # adding value\n",
        "print(L1)\n",
        "L2=[20, 90]\n",
        "L1.extend(L2)     # for extending the list\n",
        "print(L1)\n"
      ]
    },
    {
      "cell_type": "code",
      "execution_count": null,
      "metadata": {
        "colab": {
          "base_uri": "https://localhost:8080/"
        },
        "id": "XHzYiCkZW5_Z",
        "outputId": "144e860e-cda9-4f70-a6f4-8e783aab96e5"
      },
      "outputs": [
        {
          "output_type": "stream",
          "name": "stdout",
          "text": [
            "[10, 20, 20, 40, 'Makki', 'True']\n"
          ]
        }
      ],
      "source": [
        "list1=[10,20,20,40, \"Makki\", \"True\"]\n",
        "print(list1)\n",
        "\n",
        "\n"
      ]
    },
    {
      "cell_type": "code",
      "source": [
        "# List\n",
        "games= [\"Clash of clan\", \"Pubg\", \"Gta 5\", \"Super Mario\"]\n",
        "print (games)\n",
        "print(games[2])              # printing specific length in index\n",
        "print(len(games))           # It's check the length\n",
        "for game in games:\n",
        "  print(games)\n",
        "games.append(\"Gta 4\")     # adding another game at the end of the list\n",
        "print(games)\n",
        "games.remove(\"Pubg\")    # remove a specific element\n",
        "print(games)\n",
        "#games.sort()              # Sort the games\n",
        "#print(games)\n",
        "games.reverse()\n",
        "print(games)\n",
        "games.sort()              # Sort the games\n",
        "print(games)\n",
        "games.clear()            # makes the list empty\n",
        "print(games)\n"
      ],
      "metadata": {
        "colab": {
          "base_uri": "https://localhost:8080/"
        },
        "id": "hfKfKfLpGMqR",
        "outputId": "dc63f9e4-e1b2-4fa9-c5c6-f7e81b57e203"
      },
      "execution_count": null,
      "outputs": [
        {
          "output_type": "stream",
          "name": "stdout",
          "text": [
            "['Clash of clan', 'Pubg', 'Gta 5', 'Super Mario']\n",
            "Gta 5\n",
            "4\n",
            "['Clash of clan', 'Pubg', 'Gta 5', 'Super Mario']\n",
            "['Clash of clan', 'Pubg', 'Gta 5', 'Super Mario']\n",
            "['Clash of clan', 'Pubg', 'Gta 5', 'Super Mario']\n",
            "['Clash of clan', 'Pubg', 'Gta 5', 'Super Mario']\n",
            "['Clash of clan', 'Pubg', 'Gta 5', 'Super Mario', 'Gta 4']\n",
            "['Clash of clan', 'Gta 5', 'Super Mario', 'Gta 4']\n",
            "['Gta 4', 'Super Mario', 'Gta 5', 'Clash of clan']\n",
            "['Clash of clan', 'Gta 4', 'Gta 5', 'Super Mario']\n",
            "[]\n"
          ]
        }
      ]
    },
    {
      "cell_type": "code",
      "execution_count": null,
      "metadata": {
        "colab": {
          "base_uri": "https://localhost:8080/"
        },
        "id": "PXdGaGTTew12",
        "outputId": "00b48183-b00b-4dec-9d46-2dfe621b8c49"
      },
      "outputs": [
        {
          "name": "stdout",
          "output_type": "stream",
          "text": [
            "Enter a numbermaki\n",
            "Error occured\n"
          ]
        }
      ],
      "source": [
        "#exception handling\n",
        "try:\n",
        " a=int(input(\"Enter a number\"))\n",
        " print(a+3)\n",
        "except:\n",
        " print(\"Error occured\")"
      ]
    },
    {
      "cell_type": "code",
      "execution_count": null,
      "metadata": {
        "colab": {
          "base_uri": "https://localhost:8080/"
        },
        "id": "NvX_8B5ii_8a",
        "outputId": "414175a5-78e4-4930-8249-de58371c1fb7"
      },
      "outputs": [
        {
          "name": "stdout",
          "output_type": "stream",
          "text": [
            "Makki\n",
            "1598769\n",
            "Ali\n",
            "1598769\n"
          ]
        }
      ],
      "source": [
        "#OOP\n",
        "class Employee:\n",
        "  def __init__(self, name, salary):\n",
        "   self.name= name\n",
        "   self.salary= salary\n",
        "\n",
        "   def getName(self):\n",
        "    return self.name\n",
        "\n",
        "   def getSalary(self):\n",
        "     return self.salary\n",
        "\n",
        "Makki= Employee(\"Makki\", \"1598769\")\n",
        "print(Makki.name)\n",
        "print(Makki.salary)\n",
        "\n",
        "\n",
        "\n",
        "Ali= Employee(\"Ali\", \"1598769\")\n",
        "print(Ali.name)\n",
        "print(Ali.salary)\n",
        "\n",
        "\n",
        "\n",
        "\n",
        "\n",
        "\n"
      ]
    },
    {
      "cell_type": "code",
      "execution_count": null,
      "metadata": {
        "colab": {
          "base_uri": "https://localhost:8080/"
        },
        "id": "CXC9eYzznTV1",
        "outputId": "6f09617d-1085-4382-8885-06e1ba8cbe59"
      },
      "outputs": [
        {
          "name": "stdout",
          "output_type": "stream",
          "text": [
            "Honda\n",
            "Red\n",
            "780000\n",
            "Camry\n",
            "Shinny white\n",
            "670000\n",
            "Sonata\n",
            "Black\n",
            "760000\n"
          ]
        }
      ],
      "source": [
        "class Car:\n",
        "  def __init__ (self, company, color, price):\n",
        "   self.company= company\n",
        "   self.color= color\n",
        "   self.price= price\n",
        "\n",
        "  def getCompany(self):\n",
        "    return self.company\n",
        "\n",
        "  def getColor(self):\n",
        "    return self.color\n",
        "\n",
        "  def getPrice(self):\n",
        "    return self.price\n",
        "\n",
        "Honda= Car(\"Honda\", \"Red\", \"780000\" )\n",
        "print(Honda.company)\n",
        "print(Honda.color)\n",
        "print(Honda.price)\n",
        "\n",
        "\n",
        "Camry= Car(\"Camry\", \"Shinny white\", \"670000\" )\n",
        "print(Camry.company)\n",
        "print(Camry.color)\n",
        "print(Camry.price)\n",
        "\n",
        "\n",
        "\n",
        "Sonata= Car(\"Sonata\", \"Black\", \"760000\" )\n",
        "print(Sonata.company)\n",
        "print(Sonata.color)\n",
        "print(Sonata.price)\n",
        "\n"
      ]
    },
    {
      "cell_type": "code",
      "execution_count": null,
      "metadata": {
        "colab": {
          "base_uri": "https://localhost:8080/"
        },
        "id": "KTz9ceiZrHpV",
        "outputId": "838d161a-98f9-4080-a6c8-dbb80865ca7e"
      },
      "outputs": [
        {
          "name": "stdout",
          "output_type": "stream",
          "text": [
            "\n",
            "Character Name: Carlo\n",
            "Character Health: 100\n",
            "Character Power: 500\n",
            "Carlo attacks with power 500 and their blood color is Red\n",
            "\n",
            "Character Name: Victor\n",
            "Character Power: 98\n",
            "Character Health 876\n",
            "Victor attacks with power 876 and their blood color is Blue \n",
            "\n",
            "Character Name: Sara\n",
            "Character Power: 107\n",
            "Character Health 876\n",
            "Sara attacks with power 876 and their blood color is Black \n"
          ]
        }
      ],
      "source": [
        "class Game:\n",
        " def __init__ (self, name, health, power, blood):\n",
        "  self.name= name\n",
        "  self.health= health\n",
        "  self.power= power\n",
        "  self.blood= blood\n",
        "\n",
        " def getName(self):\n",
        "  return self.name\n",
        "\n",
        " def getHealth(self):\n",
        "  return self.health\n",
        "\n",
        " def getPower(self):\n",
        "  return self.power\n",
        "\n",
        " def getBlood(self):\n",
        "  return self.blood\n",
        "\n",
        "Character1= Game(\"Carlo\", \"100\", \"500\", \"Red\")\n",
        "print(\"\\nCharacter Name:\",Character1.name)\n",
        "print(\"Character Health:\", Character1.health)\n",
        "print(\"Character Power:\", Character1.power)\n",
        "print(f\"{Character1.name} attacks with power {Character1.power} and their blood color is {Character1.blood}\")\n",
        "\n",
        "Character2= Game(\"Victor\", \"98\", \"876\", \"Blue\")\n",
        "print(\"\\nCharacter Name:\", Character2.name)\n",
        "print(\"Character Health\",Character2.health)\n",
        "print(\"Character Power:\", Character2.power)\n",
        "print(f\"{Character2.name} attacks with power {Character2.power} and their blood color is {Character2.blood} \")\n",
        "\n",
        "\n",
        "Character3= Game(\"Sara\", \"107\", \"876\", \"Black\")\n",
        "print(\"\\nCharacter Name:\", Character3.name)\n",
        "print(\"Character Health\",Character3.health)\n",
        "print(\"Character Power:\", Character3.power)\n",
        "print(f\"{Character3.name} attacks with power {Character3.power} and their blood color is {Character3.blood} \")\n",
        "\n",
        "\n",
        "\n",
        "\n",
        "\n"
      ]
    },
    {
      "cell_type": "code",
      "execution_count": null,
      "metadata": {
        "colab": {
          "base_uri": "https://localhost:8080/"
        },
        "id": "cB2bY6aVZkzp",
        "outputId": "76d41861-6d43-422a-849d-aa760d5b24ab"
      },
      "outputs": [
        {
          "name": "stdout",
          "output_type": "stream",
          "text": [
            "\n",
            "Character Name: Sara\n",
            "Character Health 107\n",
            "Character Power: 876\n",
            "Sara attacks with power 876\n"
          ]
        }
      ],
      "source": [
        "class Game:\n",
        "  def __init__ (self, name, health, power):\n",
        "   self.name= name\n",
        "   self.health=health\n",
        "   self.power= power\n",
        "\n",
        "   def getName(self):\n",
        "    return self.name\n",
        "\n",
        "   def getHealth(self):\n",
        "    return self.health\n",
        "\n",
        "   def getPower(self):\n",
        "    return self.power\n",
        "\n",
        "\n",
        "\n",
        "Character3= Game(\"Sara\", \"107\", \"876\")\n",
        "print(\"\\nCharacter Name:\", Character3.name)\n",
        "print(\"Character Health\",Character3.health)\n",
        "print(\"Character Power:\", Character3.power)\n",
        "print(f\"{Character3.name} attacks with power {Character3.power}\")\n",
        "\n",
        "\n",
        "\n",
        "\n"
      ]
    },
    {
      "cell_type": "code",
      "execution_count": null,
      "metadata": {
        "colab": {
          "base_uri": "https://localhost:8080/"
        },
        "id": "3UdWnWq2eEz-",
        "outputId": "351f74e4-a020-4ed9-d9ed-4eee87741d51"
      },
      "outputs": [
        {
          "name": "stdout",
          "output_type": "stream",
          "text": [
            "Person1\n",
            "Name: Makki\n",
            "Language: Python\n",
            "Experience: 5\n",
            "Person2\n",
            "Name: Ali\n",
            "Language: Python\n",
            "Experience: 5\n"
          ]
        }
      ],
      "source": [
        "class Programmer:\n",
        "  def __init__(self, name, language, experience):\n",
        "   self.name= name\n",
        "   self.language= language\n",
        "   self.experience= experience\n",
        "\n",
        "  def getName (self):\n",
        "       return self.name\n",
        "\n",
        "  def getLanguage (self):\n",
        "       return self.language\n",
        "\n",
        "  def getExperience (self):\n",
        "       return self.experience\n",
        "\n",
        "\n",
        "Person1= Programmer (\"Makki\", \"Python\", \"5\")\n",
        "print(\"Person1\")\n",
        "print(\"Name:\", Person1.getName())\n",
        "print(\"Language:\", Person1.getLanguage())\n",
        "print(\"Experience:\", Person1.getExperience())\n",
        "\n",
        "\n",
        "Person2= Programmer (\"Ali\", \"Python\", \"5\")\n",
        "print(\"Person2\")\n",
        "print(\"Name:\", Person2.getName())\n",
        "print(\"Language:\", Person2.getLanguage())\n",
        "print(\"Experience:\", Person2.getExperience())\n",
        "\n",
        "\n",
        "\n",
        "\n"
      ]
    },
    {
      "cell_type": "code",
      "execution_count": null,
      "metadata": {
        "colab": {
          "base_uri": "https://localhost:8080/"
        },
        "id": "qtbag8WbpsWq",
        "outputId": "24a328ca-062b-443f-ddb3-08a6a935c383"
      },
      "outputs": [
        {
          "name": "stdout",
          "output_type": "stream",
          "text": [
            "harry py 1200000\n",
            "Makki py 1200000\n"
          ]
        }
      ],
      "source": [
        "#OOp\n",
        "class Employee:\n",
        "  language= \"py\"         # This is class attribute\n",
        "  salary = 1200000\n",
        "\n",
        "harry= Employee()        # () are object--> this is object attribute\n",
        "harry.name= \"harry\"\n",
        "print(harry.name, harry.language, harry.salary)\n",
        "\n",
        "Makki= Employee()\n",
        "Makki.name= \"Makki\"\n",
        "print(Makki.name, Makki.language, Makki.salary)\n",
        "\n",
        "# Here name is object attribute and salary and language are class attribute as\n",
        "# they directly belong to the class"
      ]
    },
    {
      "cell_type": "code",
      "execution_count": null,
      "metadata": {
        "colab": {
          "base_uri": "https://localhost:8080/"
        },
        "id": "nQLaw9CAt09Z",
        "outputId": "f4f9c620-cc6f-41ee-d774-768167f15b43"
      },
      "outputs": [
        {
          "name": "stdout",
          "output_type": "stream",
          "text": [
            "JavaScript 1200000\n"
          ]
        }
      ],
      "source": [
        "#OOP ----> instance attribute\n",
        "\n",
        "class Employee:\n",
        "  language= \"Python\"   #class attribute\n",
        "  salary= 1200000\n",
        "\n",
        "  makki=Employee ()\n",
        "  makki.language=\"JavaScript\"     #this is instance attribute and this take perefarance first over class attribute\n",
        "  print(makki.language, makki.salary)"
      ]
    },
    {
      "cell_type": "code",
      "execution_count": null,
      "metadata": {
        "colab": {
          "base_uri": "https://localhost:8080/"
        },
        "id": "QEu_fkP-u42g",
        "outputId": "96267d30-4be7-4376-fbb2-d64ede1d6e7c"
      },
      "outputs": [
        {
          "name": "stdout",
          "output_type": "stream",
          "text": [
            "The language is JavaScript. The salary is 1200000\n",
            "Good morning\n"
          ]
        }
      ],
      "source": [
        "# OOP --->self\n",
        "\n",
        "\n",
        "class Employee:\n",
        "  language= \"Python\"   #class attribute\n",
        "  salary= 1200000\n",
        "\n",
        "  def getInfo(self):\n",
        "    print(f\"The language is {self.language}. The salary is {self.salary}\")\n",
        "\n",
        "  def greet(self):\n",
        "    print(\"Good morning\")\n",
        "                                                # classes is a blueprint to make objects\n",
        "\n",
        "\n",
        "makki=Employee()\n",
        "makki.language=\"JavaScript\"     #this is instance attribute and this take perefarance first over class attribute  makki.getInfo()\n",
        "makki.getInfo()\n",
        "makki.greet()"
      ]
    },
    {
      "cell_type": "code",
      "execution_count": null,
      "metadata": {
        "colab": {
          "base_uri": "https://localhost:8080/"
        },
        "id": "lHvGDp3xyk9D",
        "outputId": "129f8c28-a1e7-4840-e6d2-1ad5763426c0"
      },
      "outputs": [
        {
          "name": "stdout",
          "output_type": "stream",
          "text": [
            "Makki Python 1500000\n",
            "Ali C++ 100000\n"
          ]
        }
      ],
      "source": [
        "#OOP---> init constructor\n",
        "class Employee:\n",
        "  def __init__(self,name,  language, salary):    # dundor method which is automatically called\n",
        "    self.name= name\n",
        "    self.language= language\n",
        "    self.salary= salary\n",
        "\n",
        "  def getInfo(self):\n",
        "   print(f\"The language is {self.language}. The salary is {self.salary}\")\n",
        "\n",
        "  def greet(self):\n",
        "   print(\"Good Morning\")\n",
        "\n",
        "Makki= Employee (\"Makki\", \"Python\", 1500000)\n",
        "print(Makki.name, Makki.language, Makki.salary)\n",
        "\n",
        "Ali= Employee (\"Ali\", \"C++\", 100000)\n",
        "print(Ali.name, Ali.language, Ali.salary)"
      ]
    },
    {
      "cell_type": "code",
      "execution_count": null,
      "metadata": {
        "colab": {
          "base_uri": "https://localhost:8080/"
        },
        "id": "yDaaeu7d3YDJ",
        "outputId": "03f653a1-03a5-4edc-e630-98ee615e0246"
      },
      "outputs": [
        {
          "name": "stdout",
          "output_type": "stream",
          "text": [
            "Makki 1500000 5642 Microsoft\n",
            "Awais 200000 564287 Microsoft\n"
          ]
        }
      ],
      "source": [
        "#Q: create a class programmer for storing information of few progrmmers working at microsoft?\n",
        "class Programmer:\n",
        " company= \"Microsoft\"\n",
        " def __init__(self, name, salary, pin):\n",
        "  self.name= name\n",
        "  self.salary=salary\n",
        "  self.pin= pin\n",
        "\n",
        "p= Programmer(\"Makki\", 1500000, 5642)\n",
        "print(p.name, p.salary, p.pin, p.company)\n",
        "\n",
        "\n",
        "r= Programmer(\"Awais\", 200000, 564287)\n",
        "print(r.name, r.salary, r.pin, r.company)"
      ]
    },
    {
      "cell_type": "code",
      "execution_count": null,
      "metadata": {
        "colab": {
          "base_uri": "https://localhost:8080/"
        },
        "id": "KyeBuVv65u6p",
        "outputId": "a80381e1-b7c8-4a04-f835-93d7c81a4d30"
      },
      "outputs": [
        {
          "name": "stdout",
          "output_type": "stream",
          "text": [
            "The square is 16\n",
            "The cube is 64\n",
            "The square_root is 2.0\n"
          ]
        }
      ],
      "source": [
        "#Q: Write a class calculator capable of finding square cube and square root of a number?\n",
        "\n",
        "class Calculator:\n",
        "  def __init__(self, n):\n",
        "   self.n = n\n",
        "\n",
        "  def square(self):\n",
        "    print(f\"The square is {self.n*self.n}\")\n",
        "\n",
        "  def cube(self):\n",
        "    print(f\"The cube is {self.n*self.n*self.n}\")\n",
        "\n",
        "  def square_root(self):\n",
        "    print(f\"The square_root is {self.n*1/2}\")\n",
        "\n",
        "a= Calculator(4)\n",
        "a.square()\n",
        "a.cube()\n",
        "a.square_root()"
      ]
    },
    {
      "cell_type": "code",
      "execution_count": null,
      "metadata": {
        "colab": {
          "base_uri": "https://localhost:8080/"
        },
        "id": "c2Q68m0l9BWj",
        "outputId": "1f7ab6f7-e105-40f4-e930-082c8bcc3837"
      },
      "outputs": [
        {
          "name": "stdout",
          "output_type": "stream",
          "text": [
            "4\n",
            "0\n",
            "4\n"
          ]
        }
      ],
      "source": [
        "#Q: Create a class with a class attribute 'a' crate an object from it and set 'a' directly using object a=0 does thjis this class attribute?\n",
        "\n",
        "class Demo:\n",
        "  a=4   # class attribute\n",
        "\n",
        "\n",
        "o= Demo()\n",
        "print(o.a)    # print the class attribute bcz instance attribute is not  presence\n",
        "o.a= 0     #  set instence attribute\n",
        "print(o.a)     # print ninstance attribute\n",
        "\n",
        "print(Demo.a)          # print the class attribute\n",
        "\n",
        "\n",
        "\n"
      ]
    },
    {
      "cell_type": "code",
      "execution_count": null,
      "metadata": {
        "colab": {
          "base_uri": "https://localhost:8080/"
        },
        "id": "JoqX3yx7_SFX",
        "outputId": "6a71842f-f934-48ea-f25e-1df0e3c02c42"
      },
      "outputs": [
        {
          "name": "stdout",
          "output_type": "stream",
          "text": [
            "Hello there!\n",
            "The square is 16\n",
            "The cube is 64\n",
            "The square_root is 2.0\n"
          ]
        }
      ],
      "source": [
        "#Q: Add static method in problem 2 and greet the user with hello\n",
        "\n",
        "\n",
        "class Calculator:\n",
        "  def __init__(self, n):\n",
        "   self.n = n\n",
        "\n",
        "  def square(self):\n",
        "    print(f\"The square is {self.n*self.n}\")\n",
        "\n",
        "  def cube(self):\n",
        "    print(f\"The cube is {self.n*self.n*self.n}\")\n",
        "\n",
        "  def square_root(self):\n",
        "    print(f\"The square_root is {self.n*1/2}\")\n",
        "\n",
        "  @staticmethod         # when we use staticmethod we didn't write self\n",
        "  def greet():\n",
        "    print(\"Hello there!\")\n",
        "\n",
        "a= Calculator(4)\n",
        "a.greet()\n",
        "a.square()\n",
        "a.cube()\n",
        "a.square_root()"
      ]
    },
    {
      "cell_type": "code",
      "execution_count": null,
      "metadata": {
        "colab": {
          "base_uri": "https://localhost:8080/"
        },
        "id": "Buh01Nya_SMj",
        "outputId": "5f566321-c5b6-4ee0-c19d-c6e6618b62b4"
      },
      "outputs": [
        {
          "name": "stdout",
          "output_type": "stream",
          "text": [
            "Ticket is booked in trainNo 12399 from Mul to Isb\n",
            "Train 12399is on time\n",
            "Ticket fare in trainNo 12399 from Mul to Isb is 554\n"
          ]
        }
      ],
      "source": [
        "#Q: Write class train which has method to book a ticket , get status (no of seats) and get fare information of train running under railways\n",
        "\n",
        "import random\n",
        "class Train:\n",
        "\n",
        "  def __init__(self, trainNo):\n",
        "    self.trainNo= trainNo\n",
        "\n",
        "  def book(self, frm, to):\n",
        "    print(f\"Ticket is booked in trainNo {self.trainNo} from {frm} to {to}\")\n",
        "\n",
        "  def getStatus(self):\n",
        "     print(f\"Train {self.trainNo}is on time\")\n",
        "\n",
        "  def getFare(self, frm, to):\n",
        "     print(f\"Ticket fare in trainNo {self.trainNo} from {frm} to {to} is {random.randint(222,567)}\")\n",
        "\n",
        "a= Train(12399)\n",
        "a.book(\"Mul\", \"Isb\")\n",
        "a.getStatus()\n",
        "a.getFare(\"Mul\", \"Isb\")\n"
      ]
    },
    {
      "cell_type": "code",
      "execution_count": null,
      "metadata": {
        "id": "NJVnYPl66bfU"
      },
      "outputs": [],
      "source": []
    },
    {
      "cell_type": "code",
      "execution_count": null,
      "metadata": {
        "colab": {
          "base_uri": "https://localhost:8080/"
        },
        "id": "NPVT9eY7A3uC",
        "outputId": "9e3d75b7-2c3c-46b9-aa7d-d2e0fcd15132"
      },
      "outputs": [
        {
          "name": "stdout",
          "output_type": "stream",
          "text": [
            "Ticket is booked in trainNo 12399 from Mul to Isb\n",
            "Train 12399is on time\n",
            "Ticket fare in trainNo 12399 from Mul to Isb is 362\n"
          ]
        }
      ],
      "source": [
        "#Q:\n",
        "import random\n",
        "class Train:\n",
        "\n",
        "  def __init__(slf, trainNo):\n",
        "    slf.trainNo= trainNo\n",
        "\n",
        "  def book(slf, frm, to):\n",
        "    print(f\"Ticket is booked in trainNo {slf.trainNo} from {frm} to {to}\")    # we can use slf instead of self\n",
        "\n",
        "  def getStatus(slf):\n",
        "     print(f\"Train {slf.trainNo}is on time\")\n",
        "\n",
        "  def getFare(slf, frm, to):\n",
        "     print(f\"Ticket fare in trainNo {slf.trainNo} from {frm} to {to} is {random.randint(222,567)}\")\n",
        "\n",
        "a= Train(12399)\n",
        "a.book(\"Mul\", \"Isb\")\n",
        "a.getStatus()\n",
        "a.getFare(\"Mul\", \"Isb\")"
      ]
    },
    {
      "cell_type": "code",
      "execution_count": null,
      "metadata": {
        "colab": {
          "base_uri": "https://localhost:8080/"
        },
        "id": "u65RAxb16eLS",
        "outputId": "30249a67-82cd-4af1-c709-d12fe6efbb6b"
      },
      "outputs": [
        {
          "name": "stdout",
          "output_type": "stream",
          "text": [
            "\n",
            "Twinkle twinkle little star.\n",
            "How I wonder what you are.\n",
            "Up above the world so high.\n",
            "Like a diamond in the sky.\n",
            "Twinkle twinkle little star.\n",
            "How I wonder what you are.\n",
            "\n",
            "Twinkle twinkle little star.\n",
            "How I wonder what you are.\n",
            "Up above the world so high.\n",
            "Like a diamond in the sky.\n",
            "Twinkle twinkle little star.\n",
            "How I wonder what you are.\n"
          ]
        }
      ],
      "source": [
        "#Q!: write a program to print a twinkle twinkle little star poem\n",
        "print(\"\"\"\n",
        "Twinkle twinkle little star.\n",
        "How I wonder what you are.\n",
        "Up above the world so high.\n",
        "Like a diamond in the sky.\n",
        "Twinkle twinkle little star.\n",
        "How I wonder what you are.\n",
        "\n",
        "Twinkle twinkle little star.\n",
        "How I wonder what you are.\n",
        "Up above the world so high.\n",
        "Like a diamond in the sky.\n",
        "Twinkle twinkle little star.\n",
        "How I wonder what you are.\"\"\")"
      ]
    },
    {
      "cell_type": "code",
      "execution_count": null,
      "metadata": {
        "colab": {
          "base_uri": "https://localhost:8080/"
        },
        "id": "jmPqiNOg9Yyv",
        "outputId": "69c12f16-e6f2-4373-d984-e1bf1488faee"
      },
      "outputs": [
        {
          "name": "stdout",
          "output_type": "stream",
          "text": [
            "<class 'int'>\n"
          ]
        }
      ],
      "source": [
        "#Q: # What is typecasting\n",
        "a= 12\n",
        "t=type(a)\n",
        "print(t)"
      ]
    },
    {
      "cell_type": "code",
      "execution_count": null,
      "metadata": {
        "colab": {
          "base_uri": "https://localhost:8080/"
        },
        "id": "fyi_uHqYBtg6",
        "outputId": "6173cf06-b01a-406a-8e9a-6ce327c5dead"
      },
      "outputs": [
        {
          "name": "stdout",
          "output_type": "stream",
          "text": [
            "12.4\n"
          ]
        }
      ],
      "source": [
        "# Write a python program to add two numbers\n",
        "a=5\n",
        "b=7.4\n",
        "print(a+b)"
      ]
    },
    {
      "cell_type": "code",
      "execution_count": null,
      "metadata": {
        "colab": {
          "base_uri": "https://localhost:8080/"
        },
        "id": "KZQCHjwmB9XZ",
        "outputId": "a843cef6-8bfa-4515-b370-4ec30da493fe"
      },
      "outputs": [
        {
          "name": "stdout",
          "output_type": "stream",
          "text": [
            "Reminder when a  is devided by b is:  12\n"
          ]
        }
      ],
      "source": [
        "#Q: Write a python program and find a reminder\n",
        "a=12\n",
        "b=65\n",
        "print(\"Reminder when a  is devided by b is: \", a%b)"
      ]
    },
    {
      "cell_type": "code",
      "execution_count": null,
      "metadata": {
        "colab": {
          "base_uri": "https://localhost:8080/",
          "height": 52
        },
        "id": "eQJ4IIuMCoOe",
        "outputId": "e04fa810-f143-43c2-850e-f7acb94e8722"
      },
      "outputs": [
        {
          "name": "stdout",
          "output_type": "stream",
          "text": [
            "Please enter the value:123\n"
          ]
        },
        {
          "data": {
            "application/vnd.google.colaboratory.intrinsic+json": {
              "type": "string"
            },
            "text/plain": [
              "\"<class 'str'>\""
            ]
          },
          "execution_count": 23,
          "metadata": {},
          "output_type": "execute_result"
        }
      ],
      "source": [
        "#Q: Write a python program that check the type of variable assigned using input () function\n",
        "\n",
        "a=input(\"Please enter the value:\")\n",
        "b=(type(a))\n",
        "print(b)\n"
      ]
    },
    {
      "cell_type": "code",
      "execution_count": null,
      "metadata": {
        "colab": {
          "base_uri": "https://localhost:8080/",
          "height": 70
        },
        "id": "tUcd83OOD_EG",
        "outputId": "938f436c-12e9-4d30-dd95-f5295e748df9"
      },
      "outputs": [
        {
          "name": "stdout",
          "output_type": "stream",
          "text": [
            "Enter first number:34\n",
            "Enter second number:80\n"
          ]
        },
        {
          "data": {
            "application/vnd.google.colaboratory.intrinsic+json": {
              "type": "string"
            },
            "text/plain": [
              "'False'"
            ]
          },
          "execution_count": 25,
          "metadata": {},
          "output_type": "execute_result"
        }
      ],
      "source": [
        "#Q: USe  comparison operator nto find out wheather a given variable is greater then b or not. TAke a=34 b=u80\n",
        "\n",
        "a=int(input(\"Enter first number:\"))\n",
        "b==int(input(\"Enter second number:\"))\n",
        "print(a>b)\n",
        "\n",
        "\n",
        "\n"
      ]
    },
    {
      "cell_type": "code",
      "execution_count": null,
      "metadata": {
        "colab": {
          "base_uri": "https://localhost:8080/",
          "height": 52
        },
        "id": "en32ANafFI6E",
        "outputId": "538e1a28-f4ce-4196-fbb4-3164a7e58d98"
      },
      "outputs": [
        {
          "name": "stdout",
          "output_type": "stream",
          "text": [
            "Enter the value:12\n"
          ]
        },
        {
          "data": {
            "application/vnd.google.colaboratory.intrinsic+json": {
              "type": "string"
            },
            "text/plain": [
              "'144'"
            ]
          },
          "execution_count": 36,
          "metadata": {},
          "output_type": "execute_result"
        }
      ],
      "source": [
        "#Q:write a python program to find an square of two numbers entered by the user\n",
        "a=int(input(\"Enter the value:\"))\n",
        "print(a*a)                 #square\n",
        "\n",
        "\n"
      ]
    },
    {
      "cell_type": "code",
      "execution_count": null,
      "metadata": {
        "colab": {
          "base_uri": "https://localhost:8080/",
          "height": 52
        },
        "id": "6PVkVyW9IRej",
        "outputId": "185b3ec1-3cef-4dae-9d08-8b50a90457a3"
      },
      "outputs": [
        {
          "name": "stdout",
          "output_type": "stream",
          "text": [
            "Enter your name:makki\n"
          ]
        },
        {
          "data": {
            "application/vnd.google.colaboratory.intrinsic+json": {
              "type": "string"
            },
            "text/plain": [
              "'Good morning makki '"
            ]
          },
          "execution_count": 39,
          "metadata": {},
          "output_type": "execute_result"
        }
      ],
      "source": [
        "name = input(\"Enter your name:\")\n",
        "print(f\"Good morning {name} \")      #f string\n"
      ]
    },
    {
      "cell_type": "code",
      "execution_count": null,
      "metadata": {
        "colab": {
          "base_uri": "https://localhost:8080/",
          "height": 35
        },
        "id": "wJ6DXZv0NG-I",
        "outputId": "74340934-efe0-43f8-9d82-4bb679660095"
      },
      "outputs": [
        {
          "data": {
            "application/vnd.google.colaboratory.intrinsic+json": {
              "type": "string"
            },
            "text/plain": [
              "'\\nDear Makki, you are selected 13 Nov 2028'"
            ]
          },
          "execution_count": 43,
          "metadata": {},
          "output_type": "execute_result"
        }
      ],
      "source": [
        "letter = '''\n",
        "Dear <|name|>, you are selected <|Date|>'''\n",
        "print(letter.replace(\"<|name|>\", \"Makki\").replace(\"<|Date|>\", \"13 Nov 2028\"))"
      ]
    },
    {
      "cell_type": "code",
      "execution_count": null,
      "metadata": {
        "colab": {
          "base_uri": "https://localhost:8080/",
          "height": 35
        },
        "id": "l0A2EJgVPcSV",
        "outputId": "04bcd247-d39b-453e-ad52-bf20898fede7"
      },
      "outputs": [
        {
          "data": {
            "application/vnd.google.colaboratory.intrinsic+json": {
              "type": "string"
            },
            "text/plain": [
              "'10'"
            ]
          },
          "execution_count": 51,
          "metadata": {},
          "output_type": "execute_result"
        }
      ],
      "source": [
        "#Q: write a python program to detect double space in string\n",
        "name = \"Makki is a   good person\"\n",
        "print(name.find(\"  \"))"
      ]
    },
    {
      "cell_type": "code",
      "execution_count": null,
      "metadata": {
        "colab": {
          "base_uri": "https://localhost:8080/",
          "height": 35
        },
        "id": "wNQ4Q6f9QOdx",
        "outputId": "8c3e339b-0c1f-4e23-94d8-0b1cda51a001"
      },
      "outputs": [
        {
          "data": {
            "application/vnd.google.colaboratory.intrinsic+json": {
              "type": "string"
            },
            "text/plain": [
              "'Makki is a good person'"
            ]
          },
          "execution_count": 53,
          "metadata": {},
          "output_type": "execute_result"
        }
      ],
      "source": [
        "#Q: write a python program to detect double space and change it into single space in string\n",
        "name = \"Makki is a   good person\"\n",
        "print(name.replace(\"   \", \" \"))"
      ]
    },
    {
      "cell_type": "code",
      "execution_count": null,
      "metadata": {
        "colab": {
          "base_uri": "https://localhost:8080/"
        },
        "id": "G-83GPff4jUi",
        "outputId": "9c27d31a-d1bb-4c30-eabe-3ed872fcb929"
      },
      "outputs": [
        {
          "name": "stdout",
          "output_type": "stream",
          "text": [
            "5.76\n",
            "Orange\n",
            "['Orange', 'Grapes', 'Mango', 5]\n",
            "['Orange', 'Grapes', 'Mango', 5, 5.76, 'True', 'Makki', 'Man']\n"
          ]
        }
      ],
      "source": [
        "#List\n",
        "fruits= [\"Apple\", \"Grapes\", \"Mango\", 5, 5.76, \"True\", \"Makki\"]\n",
        "print (fruits [4])           #List are muttable\n",
        "fruits [0] = \"Orange\"\n",
        "print(fruits [0])\n",
        "print(fruits[0:4])\n",
        "fruits.append(\"Man\")\n",
        "print(fruits)"
      ]
    },
    {
      "cell_type": "code",
      "execution_count": null,
      "metadata": {
        "colab": {
          "base_uri": "https://localhost:8080/"
        },
        "id": "QuG-fyV66y7Q",
        "outputId": "dfccdf6d-ff4f-47a0-a980-35b20c8a6bb8"
      },
      "outputs": [
        {
          "name": "stdout",
          "output_type": "stream",
          "text": [
            "['Apple', 'Grapes', 'Mango', 5, 5.76, 'True', 'Makki']\n",
            "['Apple', 'Grapes', 'Mango', 5, 5.76, 'True', 'Makki', 'Man']\n"
          ]
        }
      ],
      "source": [
        "#List\n",
        "fruits= [\"Apple\", \"Grapes\", \"Mango\", 5, 5.76, \"True\", \"Makki\"]\n",
        "print (fruits)           #List are muttable\n",
        "\n",
        "fruits.append(\"Man\")\n",
        "print(fruits)\n"
      ]
    },
    {
      "cell_type": "code",
      "execution_count": null,
      "metadata": {
        "colab": {
          "base_uri": "https://localhost:8080/"
        },
        "id": "Bsg8_T1l8epA",
        "outputId": "cd093e24-aea6-47de-d567-b2e63bc5b25f"
      },
      "outputs": [
        {
          "name": "stdout",
          "output_type": "stream",
          "text": [
            "[55, 34, 222, 123, 2, 99]\n",
            "[2, 34, 55, 99, 123, 222]\n",
            "[222, 123, 99, 55, 34, 2]\n",
            "[222, 123, 6, 99, 55, 34, 2]\n",
            "[123, 6, 99, 55, 34, 2]\n",
            "[123, 6, 55, 34, 2]\n"
          ]
        }
      ],
      "source": [
        "#List\n",
        "L1=[55, 34, 222, 123, 2, 99]\n",
        "print(L1)    #List Sort\n",
        "\n",
        "L1.sort()\n",
        "print(L1)\n",
        "\n",
        "L1.reverse()       #List reverse\n",
        "print(L1)\n",
        "\n",
        "L1.insert(2,6)     #List insert ----> insrt at any index\n",
        "print(L1)\n",
        "\n",
        "L1.pop(0)        #>Pop is used to remove thing on list which index you gave\n",
        "print(L1)\n",
        "\n",
        "L1.remove(99)    #Remove is used to remove things which you ask to remove ----> direct name which we want to remove\n",
        "print(L1)"
      ]
    },
    {
      "cell_type": "code",
      "execution_count": null,
      "metadata": {
        "colab": {
          "base_uri": "https://localhost:8080/",
          "height": 564
        },
        "id": "WYdKIlXcASuX",
        "outputId": "acfab6be-5f8b-4ba5-b554-94ae5d7c42b3"
      },
      "outputs": [
        {
          "output_type": "stream",
          "name": "stdout",
          "text": [
            "yOU want to play Rock, Paper, Scissors game? Y/N:y\n",
            "Welcome to Rock, paper, Scissors game  :\n",
            "Rock, Paper, Scissors:rock\n",
            "Player choose rock\n",
            "Computer choose paper\n",
            "Computer win!\n",
            "Do You want tp play agin? Y/N y\n",
            "Rock, Paper, Scissors:paper\n",
            "Player choose paper\n",
            "Computer choose paper\n",
            "It's a tie!\n",
            "Round played : 3\n"
          ]
        },
        {
          "output_type": "error",
          "ename": "KeyboardInterrupt",
          "evalue": "Interrupted by user",
          "traceback": [
            "\u001b[0;31m---------------------------------------------------------------------------\u001b[0m",
            "\u001b[0;31mKeyboardInterrupt\u001b[0m                         Traceback (most recent call last)",
            "\u001b[0;32m/tmp/ipython-input-1977343653.py\u001b[0m in \u001b[0;36m<cell line: 0>\u001b[0;34m()\u001b[0m\n\u001b[1;32m     39\u001b[0m \u001b[0;34m\u001b[0m\u001b[0m\n\u001b[1;32m     40\u001b[0m \u001b[0;34m\u001b[0m\u001b[0m\n\u001b[0;32m---> 41\u001b[0;31m     \u001b[0mplay_again\u001b[0m\u001b[0;34m=\u001b[0m\u001b[0minput\u001b[0m\u001b[0;34m(\u001b[0m\u001b[0;34m\"Do You want tp play agin? Y/N \"\u001b[0m\u001b[0;34m)\u001b[0m\u001b[0;34m.\u001b[0m\u001b[0mlower\u001b[0m\u001b[0;34m(\u001b[0m\u001b[0;34m)\u001b[0m\u001b[0;34m\u001b[0m\u001b[0;34m\u001b[0m\u001b[0m\n\u001b[0m\u001b[1;32m     42\u001b[0m     \u001b[0;32mif\u001b[0m \u001b[0mplay_again\u001b[0m \u001b[0;34m!=\u001b[0m \u001b[0;34m\"y\"\u001b[0m\u001b[0;34m:\u001b[0m\u001b[0;34m\u001b[0m\u001b[0;34m\u001b[0m\u001b[0m\n\u001b[1;32m     43\u001b[0m      \u001b[0mprint\u001b[0m\u001b[0;34m(\u001b[0m\u001b[0;34m\"Thank you!\"\u001b[0m\u001b[0;34m)\u001b[0m\u001b[0;34m\u001b[0m\u001b[0;34m\u001b[0m\u001b[0m\n",
            "\u001b[0;32m/usr/local/lib/python3.12/dist-packages/ipykernel/kernelbase.py\u001b[0m in \u001b[0;36mraw_input\u001b[0;34m(self, prompt)\u001b[0m\n\u001b[1;32m   1175\u001b[0m                 \u001b[0;34m\"raw_input was called, but this frontend does not support input requests.\"\u001b[0m\u001b[0;34m\u001b[0m\u001b[0;34m\u001b[0m\u001b[0m\n\u001b[1;32m   1176\u001b[0m             )\n\u001b[0;32m-> 1177\u001b[0;31m         return self._input_request(\n\u001b[0m\u001b[1;32m   1178\u001b[0m             \u001b[0mstr\u001b[0m\u001b[0;34m(\u001b[0m\u001b[0mprompt\u001b[0m\u001b[0;34m)\u001b[0m\u001b[0;34m,\u001b[0m\u001b[0;34m\u001b[0m\u001b[0;34m\u001b[0m\u001b[0m\n\u001b[1;32m   1179\u001b[0m             \u001b[0mself\u001b[0m\u001b[0;34m.\u001b[0m\u001b[0m_parent_ident\u001b[0m\u001b[0;34m[\u001b[0m\u001b[0;34m\"shell\"\u001b[0m\u001b[0;34m]\u001b[0m\u001b[0;34m,\u001b[0m\u001b[0;34m\u001b[0m\u001b[0;34m\u001b[0m\u001b[0m\n",
            "\u001b[0;32m/usr/local/lib/python3.12/dist-packages/ipykernel/kernelbase.py\u001b[0m in \u001b[0;36m_input_request\u001b[0;34m(self, prompt, ident, parent, password)\u001b[0m\n\u001b[1;32m   1217\u001b[0m             \u001b[0;32mexcept\u001b[0m \u001b[0mKeyboardInterrupt\u001b[0m\u001b[0;34m:\u001b[0m\u001b[0;34m\u001b[0m\u001b[0;34m\u001b[0m\u001b[0m\n\u001b[1;32m   1218\u001b[0m                 \u001b[0;31m# re-raise KeyboardInterrupt, to truncate traceback\u001b[0m\u001b[0;34m\u001b[0m\u001b[0;34m\u001b[0m\u001b[0m\n\u001b[0;32m-> 1219\u001b[0;31m                 \u001b[0;32mraise\u001b[0m \u001b[0mKeyboardInterrupt\u001b[0m\u001b[0;34m(\u001b[0m\u001b[0;34m\"Interrupted by user\"\u001b[0m\u001b[0;34m)\u001b[0m \u001b[0;32mfrom\u001b[0m \u001b[0;32mNone\u001b[0m\u001b[0;34m\u001b[0m\u001b[0;34m\u001b[0m\u001b[0m\n\u001b[0m\u001b[1;32m   1220\u001b[0m             \u001b[0;32mexcept\u001b[0m \u001b[0mException\u001b[0m\u001b[0;34m:\u001b[0m\u001b[0;34m\u001b[0m\u001b[0;34m\u001b[0m\u001b[0m\n\u001b[1;32m   1221\u001b[0m                 \u001b[0mself\u001b[0m\u001b[0;34m.\u001b[0m\u001b[0mlog\u001b[0m\u001b[0;34m.\u001b[0m\u001b[0mwarning\u001b[0m\u001b[0;34m(\u001b[0m\u001b[0;34m\"Invalid Message:\"\u001b[0m\u001b[0;34m,\u001b[0m \u001b[0mexc_info\u001b[0m\u001b[0;34m=\u001b[0m\u001b[0;32mTrue\u001b[0m\u001b[0;34m)\u001b[0m\u001b[0;34m\u001b[0m\u001b[0;34m\u001b[0m\u001b[0m\n",
            "\u001b[0;31mKeyboardInterrupt\u001b[0m: Interrupted by user"
          ]
        }
      ],
      "source": [
        "\n",
        "import random\n",
        "\n",
        "choices=[\"rock\", \"paper\", \"scissors\"]\n",
        "chances= 1\n",
        "\n",
        "user=input(\"yOU want to play Rock, Paper, Scissors game? Y/N:\") .lower()\n",
        "\n",
        "if  user == \"y\":\n",
        "  print(\"Welcome to Rock, paper, Scissors game  :\")\n",
        "  while True:\n",
        "    player_choice=input(\"Rock, Paper, Scissors:\").lower()\n",
        "    if player_choice not in choices:\n",
        "      print(\"Invalid choice!\")\n",
        "      continue\n",
        "\n",
        "    comp_choice= random.choice(choices).lower()\n",
        "    print(f\"Player choose {player_choice}\")\n",
        "    print(f\"Computer choose {comp_choice}\")\n",
        "\n",
        "    if player_choice == comp_choice:\n",
        "      print(\"It's a tie!\")\n",
        "      chances +=1\n",
        "      print (f\"Round played : {chances}\")\n",
        "\n",
        "\n",
        "\n",
        "    elif player_choice == \"rock\" and comp_choice == \"scissors\":\n",
        "     print(\"Player win!\")\n",
        "\n",
        "    elif player_choice == \"paper\" and comp_choice == \"rock\":\n",
        "     print(\"Player win!\")\n",
        "\n",
        "    elif player_choice == \"scissors\" and comp_choice == \"paper\":\n",
        "     print(\"Player win!\")\n",
        "\n",
        "    else:\n",
        "      print(\"Computer win!\")\n",
        "      chances += 1\n",
        "\n",
        "\n",
        "    play_again=input(\"Do You want tp play agin? Y/N \").lower()\n",
        "    if play_again != \"y\":\n",
        "     print(\"Thank you!\")\n",
        "     break\n",
        "\n",
        "\n",
        "\n",
        "\n",
        "elif user ==  \"n\":\n",
        "  print(\"Thank you!\")\n",
        "\n",
        "else:\n",
        "  print(\"Invalid choice\")\n",
        "\n",
        "\n",
        "\n",
        "\n",
        "\n",
        "\n",
        "\n",
        "\n",
        "\n",
        "\n",
        "\n"
      ]
    },
    {
      "cell_type": "code",
      "execution_count": null,
      "metadata": {
        "colab": {
          "base_uri": "https://localhost:8080/"
        },
        "id": "i2pzaYMM2Bku",
        "outputId": "970fec06-5438-4fc8-cdc6-80669440041b"
      },
      "outputs": [
        {
          "name": "stdout",
          "output_type": "stream",
          "text": [
            "1\n",
            "45\n",
            "true\n",
            "Makki\n",
            "234\n",
            "65\n"
          ]
        }
      ],
      "source": [
        "#while loop\n",
        "L1=[1, 45, \"true\", \"Makki\", 234,65]\n",
        "i=0\n",
        "while i < len(L1):\n",
        "  print(L1[i])\n",
        "  i += 1"
      ]
    },
    {
      "cell_type": "code",
      "source": [
        "\n",
        "opr=input(\"Please enter your opertor (+, -, *, /, %)\")\n",
        "\n",
        "if opr == \"+\":\n",
        "    add()\n",
        "\n",
        "elif opr == \"-\":\n",
        "    sub()\n",
        "\n",
        "elif opr == \"*\":\n",
        "    mul()\n",
        "\n",
        "elif opr == \"/\":\n",
        "    div()\n",
        "\n",
        "elif opr == \"%\":\n",
        "    mod()\n",
        "\n",
        "def add():\n",
        "  a=int(input(\"Please wnter number 1:\"))\n",
        "  b=int(input(\"Please enter your second number\"))\n",
        "  print(f\"{a} + {b} = {a+b}\")\n",
        "\n",
        "def sub():\n",
        "  a=int(input(\"Please wnter number 1:\"))\n",
        "  b=int(input(\"Please enter your second number\"))\n",
        "  print(f\"{a} - {b} =  {a-b}\")\n",
        "\n",
        "def mul():\n",
        "  a=int(input(\"Please wnter number 1:\"))\n",
        "  b=int(input(\"Please enter your second number\"))\n",
        "  print(f\"{a} * {b} =  {a*b}\")\n",
        "def div():\n",
        "  a=int(input(\"Please wnter number 1:\"))\n",
        "  b=int(input(\"Please enter your second number\"))\n",
        "  print(f\"{a} / {b} =  {a/b}\")\n",
        "def mod():\n",
        "  a=int(input(\"Please enter first number:\"))\n",
        "  b=int(input(\"Please enter your second number\"))\n",
        "  print(f\"{a} % {b} =  {a%b}\")\n",
        "\n"
      ],
      "metadata": {
        "colab": {
          "base_uri": "https://localhost:8080/"
        },
        "id": "ENzIv5gmUke6",
        "outputId": "7481c442-e6b8-4d99-fcf2-7664048e8f39"
      },
      "execution_count": null,
      "outputs": [
        {
          "output_type": "stream",
          "name": "stdout",
          "text": [
            "Please enter your opertor (+, -, *, /, %)+\n",
            "Please wnter number 1:22\n",
            "Please enter your second number33\n",
            "22 + 33 = 55\n"
          ]
        }
      ]
    },
    {
      "cell_type": "code",
      "source": [
        "def add():\n",
        "  a=int(input(\"Please wnter number 1:\"))\n",
        "  b=int(input(\"Please enter your second number\"))\n",
        "  print(f\"{a} + {b} = {a+b}\")\n",
        "\n",
        "def sub():\n",
        "  a=int(input(\"Please wnter number 1:\"))\n",
        "  b=int(input(\"Please enter your second number\"))\n",
        "  print(f\"{a} - {b} =  {a-b}\")\n",
        "\n",
        "def mul():\n",
        "  a=int(input(\"Please wnter number 1:\"))\n",
        "  b=int(input(\"Please enter your second number\"))\n",
        "  print(f\"{a} x {b} =  {a*b}\")\n",
        "def div():\n",
        "  a=int(input(\"Please wnter number 1:\"))\n",
        "  b=int(input(\"Please enter your second number\"))\n",
        "  print(f\"{a} / {b} =  {a/b}\")\n",
        "def mod():\n",
        "  a=int(input(\"Please enter first number:\"))\n",
        "  b=int(input(\"Please enter your second number\"))\n",
        "  print(f\"{a} % {b} =  {a%b}\")\n",
        "\n",
        "opr=input(\"Please enter your opertor (+, -, *, /, %)\")\n",
        "\n",
        "if opr == \"+\":\n",
        "    add()\n",
        "\n",
        "elif opr == \"-\":\n",
        "    sub()\n",
        "\n",
        "elif opr == \"*\":\n",
        "    mul()\n",
        "\n",
        "elif opr == \"/\":\n",
        "    div()\n",
        "\n",
        "elif opr == \"%\":\n",
        "    mod()\n"
      ],
      "metadata": {
        "colab": {
          "base_uri": "https://localhost:8080/"
        },
        "id": "XgZ0cJRoZbzt",
        "outputId": "4cc0fca5-7dbb-4ede-9d04-5e22d2223585"
      },
      "execution_count": null,
      "outputs": [
        {
          "output_type": "stream",
          "name": "stdout",
          "text": [
            "Please enter your opertor (+, -, *, /, %)+\n",
            "Please wnter number 1:22\n",
            "Please enter your second number33\n",
            "22 + 33 = 55\n"
          ]
        }
      ]
    },
    {
      "cell_type": "code",
      "source": [
        "#SUM\n",
        "L1=[3,  5, 7, 8, 9, 5]\n",
        "total = sum(L1)\n",
        "print(total)\n"
      ],
      "metadata": {
        "colab": {
          "base_uri": "https://localhost:8080/"
        },
        "id": "Po_Jz7qfaxu3",
        "outputId": "c941b52c-4db7-4958-b786-a48a442edbb5"
      },
      "execution_count": null,
      "outputs": [
        {
          "output_type": "stream",
          "name": "stdout",
          "text": [
            "37\n"
          ]
        }
      ]
    },
    {
      "cell_type": "markdown",
      "metadata": {
        "id": "mB14Rw5M4u9p"
      },
      "source": []
    }
  ],
  "metadata": {
    "colab": {
      "provenance": [],
      "authorship_tag": "ABX9TyMn4aDX+54Mz7+yXml03DcV",
      "include_colab_link": true
    },
    "kernelspec": {
      "display_name": "Python 3",
      "name": "python3"
    },
    "language_info": {
      "name": "python"
    }
  },
  "nbformat": 4,
  "nbformat_minor": 0
}